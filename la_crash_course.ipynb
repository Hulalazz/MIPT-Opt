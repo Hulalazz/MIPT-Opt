{
 "cells": [
  {
   "cell_type": "markdown",
   "metadata": {
    "slideshow": {
     "slide_type": "slide"
    }
   },
   "source": [
    "# Linear algebra background"
   ]
  },
  {
   "cell_type": "markdown",
   "metadata": {
    "slideshow": {
     "slide_type": "slide"
    }
   },
   "source": [
    "## Объекты\n",
    "\n",
    "- Вектор: $x = (x_1, \\ldots, x_n) \\in \\mathbb{R}^n$\n",
    "- Матрица: $A = (a_{ij}) \\in \\mathbb{R}^{m \\times n}$, $i=1,\\ldots,m$, $j = 1,\\ldots,n$\n",
    "- Система линейных уравнений: $Ax = b$"
   ]
  },
  {
   "cell_type": "markdown",
   "metadata": {
    "slideshow": {
     "slide_type": "slide"
    }
   },
   "source": [
    "## Свойства\n",
    "- **Определение** Набор ненулевых векторов называется *линейно зависимым*, если существует их линейная комбинация, с хотя бы одним ненулевым коэффициентом, равная нулю  \n",
    "- **Определение** *Рангом* матрицы $A$ называется число линейно независимых столбцов\n",
    "- **Определение** Матрица $A$ называется *положительно-определённой*, если для любого ненулевого вектора $x$ выполнено\n",
    "$$\n",
    "A \\succ 0 \\iff x^{\\top}A x > 0\n",
    "$$\n",
    "Аналогично определяется отрицательная определённость и полуопределённость (положительная и отрицательная)"
   ]
  },
  {
   "cell_type": "markdown",
   "metadata": {
    "slideshow": {
     "slide_type": "slide"
    }
   },
   "source": [
    "## Теоремы\n",
    "\n",
    "- Теорема о ранге матрицы: строчной ранг матрицы равен её стобцовому рангу\n",
    "- Критерий Сильвестра: матрица положительно определена тогда и только тогда, когда все её главные миноры положительны"
   ]
  },
  {
   "cell_type": "markdown",
   "metadata": {
    "slideshow": {
     "slide_type": "slide"
    }
   },
   "source": [
    "## Операции\n",
    "\n",
    "- Сложение и вычитание векторов, умножение вектора на скаляр - поэлементно - $O(n)$ операций (flops)\n",
    "- Скалярное произведение: $\\langle x, y \\rangle$ - $O(n)$ операций\n",
    "- Умножение матрицы на вектор: $Ax$, где $A \\in \\mathbb{R}^{m \\times n}$\n",
    "    - для плотной матрицы $A$ - $O(mn)$\n",
    "    - для разреженной матрицы $A$ с $N \\ll mn$ ненулевыми элементами - $O(N)$\n",
    "    - для малоранговой матрицы $A = UV^{\\top}$, где $U \\in \\mathbb{R}^{m \\times p}, \\; V \\in \\mathbb{R}^{n \\times p}$ и $p \\ll \\min(n, m)$ - $O(p(n + m))$\n",
    "    - для некоторых специальных типов матриц (Тёплицева матрица, циркулянт, $\\mathcal{H}$ и $\\mathcal{H}^2$ матрицы) умножение на вектор может быть выполнено быстрее\n",
    "- Умножение матрицы на матрицу: $A = BC$"
   ]
  },
  {
   "cell_type": "code",
   "execution_count": null,
   "metadata": {
    "collapsed": true,
    "slideshow": {
     "slide_type": "slide"
    }
   },
   "outputs": [],
   "source": []
  },
  {
   "cell_type": "markdown",
   "metadata": {
    "slideshow": {
     "slide_type": "slide"
    }
   },
   "source": [
    "## Главные утверждения"
   ]
  },
  {
   "cell_type": "code",
   "execution_count": null,
   "metadata": {
    "collapsed": true,
    "slideshow": {
     "slide_type": "slide"
    }
   },
   "outputs": [],
   "source": []
  },
  {
   "cell_type": "code",
   "execution_count": null,
   "metadata": {
    "collapsed": true,
    "slideshow": {
     "slide_type": "slide"
    }
   },
   "outputs": [],
   "source": []
  },
  {
   "cell_type": "code",
   "execution_count": null,
   "metadata": {
    "collapsed": true,
    "slideshow": {
     "slide_type": "slide"
    }
   },
   "outputs": [],
   "source": []
  }
 ],
 "metadata": {
  "celltoolbar": "Slideshow",
  "kernelspec": {
   "display_name": "Python [conda env:cvxpy]",
   "language": "python",
   "name": "conda-env-cvxpy-py"
  },
  "language_info": {
   "codemirror_mode": {
    "name": "ipython",
    "version": 2
   },
   "file_extension": ".py",
   "mimetype": "text/x-python",
   "name": "python",
   "nbconvert_exporter": "python",
   "pygments_lexer": "ipython2",
   "version": "2.7.13"
  }
 },
 "nbformat": 4,
 "nbformat_minor": 2
}
