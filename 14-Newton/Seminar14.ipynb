{
 "cells": [
  {
   "cell_type": "markdown",
   "metadata": {
    "slideshow": {
     "slide_type": "slide"
    }
   },
   "source": [
    "# Семинар 14\n",
    "\n",
    "# Метод Ньютона: дорого и быстро"
   ]
  },
  {
   "cell_type": "markdown",
   "metadata": {
    "slideshow": {
     "slide_type": "slide"
    }
   },
   "source": [
    "## На прошлом семинаре...\n",
    "\n",
    "1. Методы спуска\n",
    "2. Направление убывания\n",
    "3. Градиентный метод\n",
    "4. Правила выбора шага\n",
    "5. Теоремы сходимости\n",
    "6. Эксперименты"
   ]
  },
  {
   "cell_type": "markdown",
   "metadata": {
    "slideshow": {
     "slide_type": "slide"
    }
   },
   "source": [
    "## Недостатки градиентного спуска\n",
    "\n",
    "- Линейная скорость сходимости\n",
    "- Зависимость от числа обусловленности гессиана\n",
    "\n",
    "Можно ли их одновременно преодолеть?"
   ]
  },
  {
   "cell_type": "markdown",
   "metadata": {
    "slideshow": {
     "slide_type": "slide"
    }
   },
   "source": [
    "## Идея метода Ньютона\n",
    "Рассмотрим задачу\n",
    "$$\n",
    "\\min\\limits_{x\\ \\in \\mathbb{R}^n} f(x).\n",
    "$$\n",
    "\n",
    "- Градиентный спуск $\\equiv$ **линейная** аппроксимация $f$\n",
    "- Метод Ньютона $\\equiv$ **квадратичная** аппроксимация $f$:\n",
    "$$\n",
    "f(x + h) \\approx f(x) + \\langle f'(x), h \\rangle + \\frac{1}{2}h^{\\top}f''(x)h \\to \\min_{h}\n",
    "$$\n",
    "Из необходимого условия минимума:\n",
    "$$\n",
    "f'(x) + f''(x) h = 0, \\qquad h^* = -(f''(x))^{-1} f'(x)\n",
    "$$\n"
   ]
  },
  {
   "cell_type": "markdown",
   "metadata": {
    "slideshow": {
     "slide_type": "slide"
    }
   },
   "source": [
    "### Является ли найденное направление направлением убывания?\n",
    "\n",
    "Проверим знак скалярного произведения $\\langle f'(x), h^* \\rangle$.\n",
    "$$\n",
    "\\langle f'(x), h^* \\rangle = -(f')^{\\top}(x) (f''(x))^{-1} f'(x) < 0 \\Leftarrow f''(x) \\succ 0\n",
    "$$\n",
    "\n",
    "**Вопрос:** а что если при некотором $k^*$ гессиан станет неопределён?\n",
    "\n"
   ]
  },
  {
   "cell_type": "markdown",
   "metadata": {
    "slideshow": {
     "slide_type": "slide"
    }
   },
   "source": [
    "## Метод Ньютона\n",
    "\n",
    "- Классический метод Ньютона: $\\alpha_k \\equiv 1$\n",
    "- Демпфированный метод Ньютона: $\\alpha_k$ выбирается на каждой итерации по заданному правилу\n",
    "\n",
    "```python\n",
    "def NewtonMethod(f, x0, epsilon, **kwargs):\n",
    "    x = x0\n",
    "    while True:\n",
    "        h = ComputeNewtonStep(x, f, **kwargs)\n",
    "        if StopCriterion(x, f, h, **kwargs) < epsilon:\n",
    "            break\n",
    "        alpha = SelectStepSize(x, h, f, **kwargs)\n",
    "        x = x + alpha * h\n",
    "    return x\n",
    "\n",
    "```"
   ]
  },
  {
   "cell_type": "markdown",
   "metadata": {
    "slideshow": {
     "slide_type": "slide"
    }
   },
   "source": [
    "## Теорема сходимости (Ю. Е. Нестеров Введение в выпуклую оптимизацию, $\\S$ 1.2)\n",
    "\n",
    "**Теорема.** Пусть функция $f(x)$\n",
    "- дважды дифференцируема и её гессиан удовлетворяет условию Липшица с константой $M$\n",
    "- существует точка локального минимума с положительно определённым гессианом\n",
    "$$\n",
    "f''(x^*) \\succeq l\\mathbf{I}, \\; l > 0\n",
    "$$\n",
    "- начальная точка $x_0$ достаточно близка к точки минимума, в частности\n",
    "$$\n",
    "\\|x_0 - x^*\\|_2 \\leq \\frac{2l}{3M}\n",
    "$$\n",
    "\n",
    "Тогда метод Ньютона сходится **квадратично**:\n",
    "$$\n",
    "\\|x_{k+1} - x^* \\|_2 \\leq \\dfrac{M\\|x_k - x^*\\|^2_2}{2 (l - M\\|x_k - x^*\\|_2)}\n",
    "$$"
   ]
  },
  {
   "cell_type": "markdown",
   "metadata": {
    "slideshow": {
     "slide_type": "slide"
    }
   },
   "source": [
    "### Пример\n",
    "\n",
    "Применим метод Ньютона для поиска корня следующей функции\n",
    "$$\n",
    "\\varphi(t) = \\dfrac{t}{\\sqrt{1+t^2}}\n",
    "$$\n",
    "и определим область сходимости."
   ]
  },
  {
   "cell_type": "markdown",
   "metadata": {
    "slideshow": {
     "slide_type": "slide"
    }
   },
   "source": [
    "## Аффинная инвариантность\n",
    "\n",
    "Рассмотрим функцию $f(x)$ и невырожденное преобразование с матрицей $A$. \n",
    "\n",
    "Выясним, как изменится шаг метода Ньютона после преобразования $A$.\n",
    "\n",
    "Пусть $x = Ay$ и $g(y) = f(Ay)$. Тогда\n",
    "$$\n",
    "g(y + u) \\approx g(y) + \\langle g'(y), u \\rangle + \\frac{1}{2} u^{\\top} g''(y) u \\to \\min_{u}\n",
    "$$\n",
    "и\n",
    "$$\n",
    "u^* = -(g''(y))^{-1} g'(y) \\qquad y_{k+1} = y_k - (g''(y_k))^{-1} g'(y_k)\n",
    "$$\n",
    "или"
   ]
  },
  {
   "cell_type": "markdown",
   "metadata": {
    "slideshow": {
     "slide_type": "fragment"
    }
   },
   "source": [
    "\\begin{equation}\n",
    "\\begin{split}\n",
    "y_{k+1} & = y_k - (A^{\\top}f''(Ay_k)A)^{-1} A^{\\top}f'(Ay_k)\\\\\n",
    "& = y_k - A^{-1}(f''(Ay_k))^{-1}f'(Ay_k)\n",
    "\\end{split}\n",
    "\\end{equation}\n",
    "Таким образом,\n",
    "$$\n",
    "Ay_{k+1} = Ay_k - (f''(Ay_k))^{-1}f'(Ay_k) \\quad x_{k+1} = x_k - (f''(x_k))^{-1}f'(x_k)\n",
    "$$\n",
    "Следовательно, направление метода Ньютона преобразуется при линейном преобразовани так же, как и координаты!"
   ]
  },
  {
   "cell_type": "markdown",
   "metadata": {
    "slideshow": {
     "slide_type": "slide"
    }
   },
   "source": [
    "## Вычислительная сложность и эксперименты"
   ]
  },
  {
   "cell_type": "markdown",
   "metadata": {
    "collapsed": true,
    "slideshow": {
     "slide_type": "fragment"
    }
   },
   "source": [
    "Узкие места метода Ньютона:\n",
    "\n",
    "- формирование и хранение гессиана\n",
    "- решение систем линейных уравнений\n",
    "$$\n",
    "f''(x_k)h = -f'(x_k)\n",
    "$$"
   ]
  },
  {
   "cell_type": "markdown",
   "metadata": {
    "slideshow": {
     "slide_type": "slide"
    }
   },
   "source": [
    "### Сравнение с градиентным спуском\n",
    "\n",
    "Вспомним задачу нахождения аналитического центра системы неравенств $Ax \\leq 1$ при условии $|x_i| \\leq 1$\n",
    "$$\n",
    "f(x) = - \\sum_{i=1}^m \\log(1 - a_i^{\\top}x) - \\sum\\limits_{i = 1}^n \\log (1 - x^2_i) \\to \\min_x\n",
    "$$\n",
    "\n",
    "$$\n",
    "f'(x) - ? \\quad f''(x) - ?\n",
    "$$ "
   ]
  },
  {
   "cell_type": "code",
   "execution_count": 1,
   "metadata": {
    "collapsed": false,
    "slideshow": {
     "slide_type": "fragment"
    }
   },
   "outputs": [],
   "source": [
    "import numpy as np\n",
    "n = 1000\n",
    "m = 200\n",
    "x0 = np.zeros((n,))\n",
    "A = np.random.rand(n, m) * 10"
   ]
  },
  {
   "cell_type": "markdown",
   "metadata": {
    "slideshow": {
     "slide_type": "slide"
    }
   },
   "source": [
    "#### Точное решение с помощью CVXPy"
   ]
  },
  {
   "cell_type": "code",
   "execution_count": 2,
   "metadata": {
    "collapsed": false,
    "slideshow": {
     "slide_type": "fragment"
    }
   },
   "outputs": [
    {
     "name": "stdout",
     "output_type": "stream",
     "text": [
      "Optimal value = -1369.09899966\n"
     ]
    }
   ],
   "source": [
    "import cvxpy as cvx\n",
    "x = cvx.Variable(n, 1)\n",
    "\n",
    "obj = cvx.Minimize(cvx.sum_entries(-cvx.log(1 - A.T * x)) - \n",
    "                   cvx.sum_entries(cvx.log(1 - cvx.square(x))))\n",
    "prob = cvx.Problem(obj)\n",
    "prob.solve(solver=\"ECOS\", verbose=False)\n",
    "x = x.value\n",
    "print \"Optimal value =\", prob.value"
   ]
  },
  {
   "cell_type": "markdown",
   "metadata": {
    "slideshow": {
     "slide_type": "slide"
    }
   },
   "source": [
    "#### Вспомогательные функции"
   ]
  },
  {
   "cell_type": "code",
   "execution_count": 3,
   "metadata": {
    "collapsed": true,
    "slideshow": {
     "slide_type": "fragment"
    }
   },
   "outputs": [],
   "source": [
    "import numpy as np\n",
    "\n",
    "f = lambda x: -np.sum(np.log(1 - A.T.dot(x))) - np.sum(np.log(1 - x*x))\n",
    "grad_f = lambda x: np.sum(A.dot(np.diagflat(1 / (1 - A.T.dot(x)))), axis=1) + 2 * x / (1 - np.power(x, 2))\n",
    "hess_f = lambda x: (A.dot(np.diagflat(1 / (1 - A.T.dot(x))**2))).dot(A.T) + np.diagflat(2 * (1 + x**2) / (1 - x**2)**2)\n",
    "\n",
    "def my_callback(x, array):\n",
    "    array.append(x)"
   ]
  },
  {
   "cell_type": "markdown",
   "metadata": {
    "slideshow": {
     "slide_type": "slide"
    }
   },
   "source": [
    "#### Реализация метода Ньютона"
   ]
  },
  {
   "cell_type": "code",
   "execution_count": 4,
   "metadata": {
    "collapsed": true,
    "slideshow": {
     "slide_type": "fragment"
    }
   },
   "outputs": [],
   "source": [
    "def Newton(f, gradf, hessf, x0, epsilon, num_iter, line_search, \n",
    "                    disp=False, callback=None, **kwargs):\n",
    "    x = x0.copy()\n",
    "    iteration = 0\n",
    "    opt_arg = {\"f\": f, \"grad_f\": gradf}\n",
    "    for key in kwargs:\n",
    "        opt_arg[key] = kwargs[key]\n",
    "    while True:\n",
    "        gradient = gradf(x)\n",
    "        hess = hessf(x)\n",
    "        h = np.linalg.solve(hess, -gradient)\n",
    "        alpha = line_search(x, h, **opt_arg)\n",
    "        x = x + alpha * h\n",
    "        if callback is not None:\n",
    "            callback(x)\n",
    "        iteration += 1\n",
    "        if disp:\n",
    "            print \"Current function val =\", f(x)\n",
    "            print \"Current gradient norm = \", np.linalg.norm(gradf(x))\n",
    "        if np.linalg.norm(gradf(x)) < epsilon:\n",
    "            break\n",
    "        if iteration >= num_iter:\n",
    "            break\n",
    "    res = {\"x\": x, \"num_iter\": iteration, \"tol\": np.linalg.norm(gradf(x))}\n",
    "    return res"
   ]
  },
  {
   "cell_type": "markdown",
   "metadata": {
    "slideshow": {
     "slide_type": "slide"
    }
   },
   "source": [
    "#### Сравнение с градиентным спуском"
   ]
  },
  {
   "cell_type": "code",
   "execution_count": 5,
   "metadata": {
    "collapsed": false,
    "slideshow": {
     "slide_type": "fragment"
    }
   },
   "outputs": [
    {
     "name": "stdout",
     "output_type": "stream",
     "text": [
      "Newton method f^* = -1369.09900987\n"
     ]
    },
    {
     "name": "stderr",
     "output_type": "stream",
     "text": [
      "/home/alex/anaconda2/envs/cvxpy/lib/python2.7/site-packages/ipykernel/__main__.py:3: RuntimeWarning: invalid value encountered in log\n",
      "  app.launch_new_instance()\n"
     ]
    },
    {
     "name": "stdout",
     "output_type": "stream",
     "text": [
      "Gradient descent f* = -1369.09900987\n"
     ]
    }
   ],
   "source": [
    "import code\n",
    "\n",
    "newton_conv = []\n",
    "callback = lambda x: my_callback(x, newton_conv)\n",
    "newton_res = Newton(f, grad_f, hess_f, x0, 1e-6, 50, code.backtracking, callback=callback, \n",
    "                    method=\"Armijo\", beta1=0.1, rho=0.9)\n",
    "print \"Newton method f^* =\", f(newton_res[\"x\"])\n",
    "grad_conv = []\n",
    "callback = lambda x: my_callback(x, grad_conv)\n",
    "gradient_res = code.GradientDescent(f, grad_f, x0, 1e-6, 50, code.backtracking, callback=callback, \n",
    "                                    method=\"Armijo\", beta1=0.1, rho=0.9)\n",
    "print \"Gradient descent f* =\", f(gradient_res[\"x\"])"
   ]
  },
  {
   "cell_type": "code",
   "execution_count": 6,
   "metadata": {
    "collapsed": false,
    "slideshow": {
     "slide_type": "slide"
    }
   },
   "outputs": [
    {
     "data": {
      "text/plain": [
       "<matplotlib.legend.Legend at 0x7f9490adbd10>"
      ]
     },
     "execution_count": 6,
     "metadata": {},
     "output_type": "execute_result"
    },
    {
     "data": {
      "image/png": "[encoded data removed]",
      "text/plain": [
       "<matplotlib.figure.Figure at 0x7f94c406f210>"
      ]
     },
     "metadata": {},
     "output_type": "display_data"
    }
   ],
   "source": [
    "%matplotlib inline\n",
    "import matplotlib.pyplot as plt\n",
    "plt.figure(figsize=(12, 8))\n",
    "# Newton\n",
    "plt.semilogy([np.linalg.norm(grad_f(x)) for x in newton_conv], label=\"$\\| f'(x_k) \\|^{N}_2$\")\n",
    "plt.semilogy([np.linalg.norm(np.array(newton_conv[i]) - np.array(newton_conv[i+1])) for i in xrange(len(newton_conv) - 1)], label=r\"$\\|x_k - x_{k+1}\\|^N_2$\")\n",
    "plt.semilogy([np.linalg.norm(f(np.array(newton_conv[i])) - f(np.array(newton_conv[i+1]))) for i in xrange(len(newton_conv) - 1)], label=r\"$\\|f(x_k) - f(x_{k+1})\\|^N_2$\")\n",
    "# Gradient\n",
    "plt.semilogy([np.linalg.norm(grad_f(x)) for x in grad_conv], label=\"$\\| f'(x_k) \\|^{G}_2$\")\n",
    "plt.semilogy([np.linalg.norm(np.array(grad_conv[i]) - np.array(grad_conv[i+1])) for i in xrange(len(grad_conv) - 1)], label=r\"$\\|x_k - x_{k+1}\\|^G_2$\")\n",
    "plt.semilogy([np.linalg.norm(f(np.array(grad_conv[i])) - f(np.array(grad_conv[i+1]))) for i in xrange(len(grad_conv) - 1)], label=r\"$\\|f(x_k) - f(x_{k+1})\\|^G_2$\")\n",
    "plt.rc(\"text\", usetex=True)\n",
    "plt.xlabel(r\"Number of iteration, $k$\", fontsize=20)\n",
    "plt.ylabel(r\"Convergence rate\", fontsize=20)\n",
    "plt.xticks(fontsize = 20)\n",
    "plt.yticks(fontsize = 20)\n",
    "plt.legend(loc=\"best\", fontsize=18)"
   ]
  },
  {
   "cell_type": "markdown",
   "metadata": {
    "slideshow": {
     "slide_type": "slide"
    }
   },
   "source": [
    "#### Сравнение времени работы"
   ]
  },
  {
   "cell_type": "code",
   "execution_count": 7,
   "metadata": {
    "collapsed": false,
    "slideshow": {
     "slide_type": "fragment"
    }
   },
   "outputs": [
    {
     "name": "stdout",
     "output_type": "stream",
     "text": [
      "1 loop, best of 3: 630 ms per loop\n"
     ]
    },
    {
     "name": "stderr",
     "output_type": "stream",
     "text": [
      "/home/alex/anaconda2/envs/cvxpy/lib/python2.7/site-packages/ipykernel/__main__.py:3: RuntimeWarning: invalid value encountered in log\n",
      "  app.launch_new_instance()\n"
     ]
    },
    {
     "name": "stdout",
     "output_type": "stream",
     "text": [
      "1 loop, best of 3: 1.69 s per loop\n"
     ]
    }
   ],
   "source": [
    "%timeit Newton(f, grad_f, hess_f, x0, 1e-6, 50, code.backtracking, callback=callback, method=\"Armijo\", beta1=0.1, rho=0.9)\n",
    "%timeit code.GradientDescent(f, grad_f, x0, 1e-6, 50, code.backtracking, callback=callback, method=\"Armijo\", beta1=0.1, rho=0.9)"
   ]
  },
  {
   "cell_type": "markdown",
   "metadata": {
    "slideshow": {
     "slide_type": "slide"
    }
   },
   "source": [
    "## Pro & Contra\n",
    "\n",
    "Pro\n",
    "\n",
    "- квадратичная сходимость вблизи решения\n",
    "- аффинная инвариантность\n",
    "- параметры слабо влияют на скорость сходимости\n",
    "\n",
    "Contra\n",
    "\n",
    "- необходимо хранить гессиан на каждой итерации: $O(n^2)$ памяти\n",
    "- необходимо решать линейные системы: $O(n^3)$ операций\n",
    "- гессиан может оказаться вырожден\n",
    "- гессиан может не быть положительно определён $\\to$ направление $-(f''(x))^{-1}f'(x)$ может не быть направлением убывания"
   ]
  },
  {
   "cell_type": "markdown",
   "metadata": {
    "slideshow": {
     "slide_type": "slide"
    }
   },
   "source": [
    "## Сравнение с градиентным методом (Б.Т. Поляк Введение в оптимизацию, гл. 3, $\\S$ 1 )\n",
    "\n",
    "Метод | Скорость сходимости | Сложность | Аффинная инвариантность | Требования к $f(x)$\n",
    ":---: | :---: | :---: | :---: | ---\n",
    "Градиентный спуск | Глобально линейная | $O(n) + $ определение шага | Нет | Дифференцируема; градиент липшицев\n",
    "Метод Ньютона | Локально квадратичная | $O(n^3) + $ определение шага | Да | Дважды диференцируема; гессиан липшицев, положительно определён\n"
   ]
  },
  {
   "cell_type": "markdown",
   "metadata": {
    "slideshow": {
     "slide_type": "slide"
    }
   },
   "source": [
    "## Что дальше?\n",
    "\n",
    "- **Сложность:** как избавиться от решения систем линейных уравнений и хранения гессиана?\n",
    "- **Сходимость:** как совместить локально квадратичную и глобально линейную скорости? Желательно получить глобально квадратичную сходимость!\n",
    "- Требования к $f(x)$ необходимо минимизировать"
   ]
  },
  {
   "cell_type": "markdown",
   "metadata": {
    "slideshow": {
     "slide_type": "slide"
    }
   },
   "source": [
    "## Как уменьшить сложность?\n",
    "\n",
    "- Как не решать системы линейных уравнений говорят так называемые *квазиньютоновские методы* или *методы переменной метрики* - подробнее далее... \n",
    "- Как не хранить гессиан говорят методы типа [L-BFGS](https://en.wikipedia.org/wiki/Limited-memory_BFGS) (Limited Broyden-Fletcher-Goldfarb-Shanno). Описание этих методов выходит за рамки курса, однако они являются наиболее употребимыми методами решения задач безусловной оптимизации больших размерностей."
   ]
  },
  {
   "cell_type": "markdown",
   "metadata": {
    "slideshow": {
     "slide_type": "slide"
    }
   },
   "source": [
    "## Как решить проблему локальной сходимости?\n",
    "\n",
    "Этот вопрос будет затронут на семинаре про использование метода наименьших квадратов..."
   ]
  },
  {
   "cell_type": "markdown",
   "metadata": {
    "slideshow": {
     "slide_type": "slide"
    }
   },
   "source": [
    "## Квазиньютоновские методы\n",
    "\n",
    "Ещё раз сравним градиентный метод и метод Ньютона:\n",
    "- градиентный метод получен из аппроксимации первого порядка:\n",
    "$$\n",
    "f_g(x) \\approx f(y) + \\langle f'(y), x - y \\rangle + \\frac{1}{2\\alpha}\\|x - y\\|_2^2\n",
    "$$\n",
    "причём при $\\alpha \\in (0, 1/L], f(x) \\leq f_g(x)$, то есть $f_g$ - глобальная оценка $f(x)$\n",
    "- метод Ньютона получен из аппроксимации второго порядка\n",
    "$$\n",
    "f_N(x) \\approx f(y) + \\langle f'(y), x - y \\rangle + \\frac{1}{2} (x-y)^{\\top}f''(y)(x-y)\n",
    "$$"
   ]
  },
  {
   "cell_type": "markdown",
   "metadata": {
    "collapsed": true,
    "slideshow": {
     "slide_type": "fragment"
    }
   },
   "source": [
    "**Идея:** использовать промежуточную аппроксимацию вида\n",
    "$$\n",
    "f_q(x) \\approx f(y) + \\langle f'(y), x - y \\rangle + \\frac{1}{2} (x-y)^{\\top}{\\color{red}{B(y)}}(x-y),\n",
    "$$\n",
    "которая даёт переход к следующей точке (полная аналогия с методом Ньютона):\n",
    "$$\n",
    "x_{k+1} = x_k - \\alpha B^{-1}_k f'(x_k) = x_k - \\alpha H_k f'(x_k)\n",
    "$$"
   ]
  },
  {
   "cell_type": "markdown",
   "metadata": {
    "slideshow": {
     "slide_type": "slide"
    }
   },
   "source": [
    "### Немного истории...\n",
    "- Первый квазиньютоновский метод придумал физик William Davidon в середине 1950-х для ускорения своих вычислений на ненадёжных компьютерах\n",
    "- Его статью с описанием предложенного метода не приняли к публикации, и она оставалась техническим отчётом <br></br> более 30 лет\n",
    "- [Опубликована](http://epubs.siam.org/doi/abs/10.1137/0801001) в 1991 году в первом выпуске [SIAM Journal on Optimization](https://www.siam.org/journals/siopt.php) "
   ]
  },
  {
   "cell_type": "markdown",
   "metadata": {
    "slideshow": {
     "slide_type": "slide"
    }
   },
   "source": [
    "### Общая схема квазиньютоновских методов\n",
    "\n",
    "```python\n",
    "def QuasiNewtonMethod(f, x0, epsilon, **kwargs):\n",
    "    x = x0\n",
    "    H = I\n",
    "    while True:\n",
    "        h = -H.dot(grad_f(x))\n",
    "        if StopCriterion(x, f, h, **kwargs) < epsilon:\n",
    "            break\n",
    "        alpha = SelectStepSize(x, h, f, **kwargs)\n",
    "        x = x + alpha * h\n",
    "        H = UpdateH(H, f(x), grad_f(x))\n",
    "    return x\n",
    "```"
   ]
  },
  {
   "cell_type": "markdown",
   "metadata": {
    "slideshow": {
     "slide_type": "slide"
    }
   },
   "source": [
    "### Как искать $B_{k+1}$?\n",
    "\n",
    "В точке $x_{k+1}$ имеем следующую аппрокисмацию:\n",
    "$$\n",
    "f_q(h) \\approx f(x_{k+1}) + \\langle f'(x_{k+1}), h \\rangle + \\frac{1}{2}h^{\\top}B_{k+1}h\n",
    "$$\n",
    "Из определения, очевидно, что $B_{k+1} \\in \\mathbb{S}^n_{++}$.\n",
    "Какие требования естественно наложить на $f_q(h)$?"
   ]
  },
  {
   "cell_type": "markdown",
   "metadata": {
    "slideshow": {
     "slide_type": "fragment"
    }
   },
   "source": [
    "$$\n",
    "f_q'(-\\alpha_k h_k) = f'(x_k) \\qquad f'_q(0) = f'(x_{k+1}),\n",
    "$$\n",
    "где первое условие даёт\n",
    "$$\n",
    "f'(x_{k+1}) - \\alpha_k B_{k+1}h_k = f'(x_k),\n",
    "$$\n",
    "а второе выполняется автоматически."
   ]
  },
  {
   "cell_type": "markdown",
   "metadata": {
    "slideshow": {
     "slide_type": "slide"
    }
   },
   "source": [
    "### Квазиньютоновское уравнение (Secant equation)\n",
    "\n",
    "Из первого условия получаем\n",
    "$$\n",
    "B_{k+1}s_k = y_k,\n",
    "$$\n",
    "где $s_k = x_{k+1} - x_k$ и $y_k = f'(x_{k+1}) - f'(x_k)$.\n",
    "\n",
    "Это уравнение будет иметь решение только при $s^{\\top}_k y_k > 0$. Почему?\n",
    "\n",
    "**Вопрос:** всегда ли выполнено такое соотношение между разностью градиентов и точек?\n",
    "\n",
    "**Вопрос:** единственным ли образом определено $B_{k+1}$?"
   ]
  },
  {
   "cell_type": "markdown",
   "metadata": {
    "slideshow": {
     "slide_type": "slide"
    }
   },
   "source": [
    "### Как однозначно определить $B_{k+1}$?\n",
    "\n",
    "\\begin{equation}\n",
    "\\begin{split}\n",
    "& \\min_B \\| B_k - B \\| \\\\\n",
    "\\text{s.t. } & B = B^{\\top}\\\\\n",
    "& Bs_k = y_k\n",
    "\\end{split}\n",
    "\\end{equation}"
   ]
  },
  {
   "cell_type": "markdown",
   "metadata": {
    "slideshow": {
     "slide_type": "slide"
    }
   },
   "source": [
    "### DFP (Davidon-Fletcher-Powell)\n",
    "$$\n",
    "B_{k+1} = (I - \\rho_k y_k s^{\\top}_k)B_k(I - \\rho_k s_ky^{\\top}_k) + \\rho_k y_k y^{\\top}_k,\n",
    "$$\n",
    "где $\\rho_k = \\dfrac{1}{y^{\\top}_k s_k}$,\n",
    "\n",
    "или с помощью формулы Шермана-Морисона-Вудбери\n",
    "$$\n",
    "B^{-1}_{k+1} = H_{k+1} = H_k - \\dfrac{H_ky_k y_k^{\\top}H_k}{y^{\\top}_kH_ky_k} + \\dfrac{s_ks^{\\top}_k}{y^{\\top}_ks_k}\n",
    "$$\n",
    "**Вопрос:** какой ранг у матрицы преобразования $B_{k+1}$ и $H_{k+1}$?"
   ]
  },
  {
   "cell_type": "markdown",
   "metadata": {
    "slideshow": {
     "slide_type": "slide"
    }
   },
   "source": [
    "### BFGS\n",
    "\n",
    "<center><img src=\"./bfgs.png\" width=\"300\" /img></center>\n",
    "**Вопрос:** какая естественная модификация метода DFP?"
   ]
  },
  {
   "cell_type": "markdown",
   "metadata": {
    "slideshow": {
     "slide_type": "fragment"
    }
   },
   "source": [
    "\\begin{equation}\n",
    "\\begin{split}\n",
    "& \\min_H \\| H_k - H \\| \\\\\n",
    "\\text{s.t. } & H = H^{\\top}\\\\\n",
    "& Hy_k = s_k\n",
    "\\end{split}\n",
    "\\end{equation}"
   ]
  },
  {
   "cell_type": "markdown",
   "metadata": {
    "slideshow": {
     "slide_type": "fragment"
    }
   },
   "source": [
    "Формула пересчёта для метода BFGS:\n",
    "$$\n",
    "H_{k+1} = (I - \\rho_k s_ky^{\\top}_k)H_k(I - \\rho_k y_k s^{\\top}_k) + \\rho_k s_k s^{\\top}_k,\n",
    "$$\n",
    "где $\\rho_k = \\dfrac{1}{y^{\\top}_k s_k}$"
   ]
  },
  {
   "cell_type": "markdown",
   "metadata": {
    "slideshow": {
     "slide_type": "slide"
    }
   },
   "source": [
    "## Pro & Contra\n",
    "\n",
    "Pro:\n",
    "1. Вместо **точного** вычисления гессиана используется его **оценка**, полученная с помощью градиента и оценки гессиана в предыдущей точке\n",
    "2. Вместо решения систем линейных уравнений используется текущаю информация о функции и градиенте для аналитического вычисления приближения обращённого гессиана\n",
    "3. Сложность одной итерации $O(n^2) + ...$ по сравнению с $O(n^3) + ...$ в методе Ньютона\n",
    "4. Свойство самокоррекции: если на некоторой итерации обратный гессиан оценен очень грубо, то следующие несколько итераций улучшат оценку\n",
    "5. Сверхлинейная сходимость к решению задачи минимизации $f$ (подробнее см. [[1]](http://www.bioinfo.org.cn/~wangchao/maa/Numerical_Optimization.pdf))\n",
    "\n",
    "Contra:\n",
    "1. Нет универсального рецепта выбора начального приближения $B_0$ или $H_0$\n",
    "2. Нет разработанной теории сходимости и оптимальности\n",
    "3. Не любое условие на линейный поиск шага гарантирует выполнения условия кривизны $y^{\\top}_ks_k > 0$"
   ]
  },
  {
   "cell_type": "markdown",
   "metadata": {
    "slideshow": {
     "slide_type": "slide"
    }
   },
   "source": [
    "## Резюме\n",
    "\n",
    "1. Метод Ньютона\n",
    "2. Теоремы сходимости\n",
    "4. Сравнение с градиентным спуском\n",
    "5. Эксперименты\n",
    "6. Квазиньютоновские методы"
   ]
  }
 ],
 "metadata": {
  "anaconda-cloud": {},
  "celltoolbar": "Slideshow",
  "kernelspec": {
   "display_name": "Python [conda env:cvxpy]",
   "language": "python",
   "name": "conda-env-cvxpy-py"
  },
  "language_info": {
   "codemirror_mode": {
    "name": "ipython",
    "version": 2
   },
   "file_extension": ".py",
   "mimetype": "text/x-python",
   "name": "python",
   "nbconvert_exporter": "python",
   "pygments_lexer": "ipython2",
   "version": "2.7.13"
  }
 },
 "nbformat": 4,
 "nbformat_minor": 0
}
