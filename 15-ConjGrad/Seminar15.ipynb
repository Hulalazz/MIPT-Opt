{
 "cells": [
  {
   "cell_type": "markdown",
   "metadata": {
    "slideshow": {
     "slide_type": "slide"
    }
   },
   "source": [
    "# Семинар 15\n",
    "# Метод сопряжённых градиентов (Conjugate gradient method): гадкий утёнок "
   ]
  },
  {
   "cell_type": "markdown",
   "metadata": {
    "slideshow": {
     "slide_type": "slide"
    }
   },
   "source": [
    "## На прошлом семинаре\n",
    "\n",
    "1. Метод Ньютона\n",
    "2. Теоремы сходимости\n",
    "4. Сравнение с градиентным спуском\n",
    "5. Квазиньютоновские методы"
   ]
  },
  {
   "cell_type": "markdown",
   "metadata": {
    "slideshow": {
     "slide_type": "slide"
    }
   },
   "source": [
    "## Система линейных уравнений vs. задача безусловной миимизации\n",
    "Рассмотрим задачу\n",
    "$$\n",
    "\\min_{x \\in \\mathbb{R}^n} \\frac{1}{2}x^{\\top}Ax - b^{\\top}x,\n",
    "$$\n",
    "где $A \\in \\mathbb{S}^n_{++}$.\n",
    "Из необходимого условия экстремума имеем\n",
    "$$\n",
    "Ax^* = b\n",
    "$$\n",
    "Также обозначим $f'(x_k) = Ax_k - b = r_k$"
   ]
  },
  {
   "cell_type": "markdown",
   "metadata": {
    "slideshow": {
     "slide_type": "slide"
    }
   },
   "source": [
    "## Как решить систему $Ax = b$?\n",
    "\n",
    "- Прямые методы основаны на матричных разложениях:\n",
    "    - Плотная матрица $A$: для размерностей не больше нескольких тысяч\n",
    "    - Разреженная (sparse) матрица $A$: для размерностей порядка $10^4 - 10^5$\n",
    "- Итерационные методы: хороши во многих случаях, единственный подход для задач с размерностью $ > 10^6$"
   ]
  },
  {
   "cell_type": "markdown",
   "metadata": {
    "slideshow": {
     "slide_type": "slide"
    }
   },
   "source": [
    "## Немного истории...\n",
    "\n",
    "M. Hestenes и E. Stiefel предложили *метод сопряжённых градиентов* для решения систем линейных уравнений в 1952 году как **прямой** метод. \n",
    "\n",
    "Также долгое время считалось, что метод представляет только теоретический интерес поскольку\n",
    "- метод сопряжённых градиентов не работает на логарифмической линейке\n",
    "- метод сопряжённых градиентов имеет небольшое преимущество перед исключением Гаусса при вычислениях на калькуляторе \n",
    "\n",
    "Метод сопряжённых градиентов необходимо рассматривать как **итерационный метод**, то есть останавливаться до точной сходимости!\n",
    "\n",
    "Подробнее [здесь](https://www.siam.org/meetings/la09/talks/oleary.pdf)"
   ]
  },
  {
   "cell_type": "markdown",
   "metadata": {
    "slideshow": {
     "slide_type": "slide"
    }
   },
   "source": [
    "## Метод сопряжённых направлений\n",
    "\n",
    "В градиентном спуске направления убывания - анти-градиенты, но для функций с плохо обусловленным гессианом сходимость **медленная**.\n",
    "\n",
    "**Идея:** двигаться вдоль направлений, которые гарантируют сходимость за $n$ шагов.\n",
    "\n",
    "**Определение.** Множество ненулевых векторов $\\{p_0, \\ldots, p_l\\}$ называется *сопряжённым* относительно матрицы $A \\in \\mathbb{S}^n_{++}$, если \n",
    "$$\n",
    "p^{\\top}_iAp_j = 0, \\qquad i \\neq j\n",
    "$$"
   ]
  },
  {
   "cell_type": "markdown",
   "metadata": {
    "slideshow": {
     "slide_type": "slide"
    }
   },
   "source": [
    "**Утверждение.** Для любой $x_0 \\in \\mathbb{R}^n$ последовательность $\\{x_k\\}$, генерируемая методом сопряжённых направлений, сходится к решению системы $Ax = b$ максимум за $n$ шагов.\n",
    "\n",
    "```python\n",
    "def ConjugateDirections(x0, A, b, p):\n",
    "    x = x0\n",
    "    r = A.dot(x) - b\n",
    "    for i in xrange(len(p)):\n",
    "        alpha = - (r.dot(p[i])) / (p[i].dot(A.dot(p[i])))\n",
    "        x = x + alpha * p[i]\n",
    "        r = A.dot(x) - b\n",
    "    return x\n",
    "```"
   ]
  },
  {
   "cell_type": "markdown",
   "metadata": {
    "slideshow": {
     "slide_type": "slide"
    }
   },
   "source": [
    "### Примеры сопряжённых направлений\n",
    "\n",
    "- Собственные векторы матрицы $A$\n",
    "- Для любого набора из $n$ векторов можно провести аналог ортогонализации Грама-Шмидта и получить сопряжённые направления\n",
    "\n",
    "**Вопрос:** что такое ортогонализация Грама-Шмидта? :)"
   ]
  },
  {
   "cell_type": "markdown",
   "metadata": {
    "slideshow": {
     "slide_type": "slide"
    }
   },
   "source": [
    "### Геометрическая интерпретация (Mathematics Stack Exchange)\n",
    "\n",
    "<center><img src=\"./cg.png\" ></center>"
   ]
  },
  {
   "cell_type": "markdown",
   "metadata": {
    "slideshow": {
     "slide_type": "slide"
    }
   },
   "source": [
    "## Метод сопряжённых градиентов\n",
    "\n",
    "**Идея:** новое направление $p_k$ ищется в виде $p_k = -r_k + \\beta_k p_{k-1}$, где $\\beta_k$ выбирается, исходя из требования сопряжённости $p_k$ и $p_{k-1}$:\n",
    "$$\n",
    "\\beta_k = \\dfrac{p^{\\top}_{k-1}Ar_k}{p^{\\top}_{k-1}Ap^{\\top}_{k-1}}\n",
    "$$\n",
    "Таким образом, для получения следующего сопряжённого направления $p_k$ необходимо хранить только сопряжённое направление $p_{k-1}$ и остаток $r_k$ с предыдущей итерации. \n",
    "\n",
    "**Вопрос:** как находить размер шага $\\alpha_k$?"
   ]
  },
  {
   "cell_type": "markdown",
   "metadata": {
    "slideshow": {
     "slide_type": "slide"
    }
   },
   "source": [
    "### Теоремы сходимости\n",
    "\n",
    "**Теорема 1.** Если матрица $A$ имеет только $r$ различных собственных значений, то метод сопряжённых градиентов cойдётся за $r$ итераций.\n",
    "\n",
    "**Теорема 2.** Имеет место следующая оценка сходимости\n",
    "$$\n",
    "\\| x_{k+1} - x^* \\|_A \\leq \\left( \\dfrac{\\sqrt{\\kappa(A)} - 1}{\\sqrt{\\kappa(A)} + 1} \\right)^k \\|x_0 - x^*\\|_A,\n",
    "$$\n",
    "где $\\|x\\|_A = x^{\\top}Ax$ и $\\kappa(A) = \\frac{\\lambda_n(A)}{\\lambda_1(A)}$ - число обусловленности матрицы $A$\n",
    "\n",
    "**Замечание:** сравните коэффициент геометрической прогрессии с аналогом в градиентном спуске."
   ]
  },
  {
   "cell_type": "markdown",
   "metadata": {
    "slideshow": {
     "slide_type": "slide"
    }
   },
   "source": [
    "### Интерпретации метода сопряжённых градиентов\n",
    "\n",
    "- Градиентный спуск в пространстве $y = Sx$, где $S = [p_0, \\ldots, p_n]$, в котором матрица $A$ становится диагональной (или единичной в случае ортонормированности сопряжённых направлений)\n",
    "- Поиск оптимального решения в [Крыловском подпространстве](https://stanford.edu/class/ee364b/lectures/conj_grad_slides.pdf) $\\mathcal{K}(A) = \\{b, Ab, A^2b, \\ldots \\}$"
   ]
  },
  {
   "cell_type": "markdown",
   "metadata": {
    "slideshow": {
     "slide_type": "slide"
    }
   },
   "source": [
    "### Улучшенная версия метода сопряжённых градиентов\n",
    "На практике используются следующие формулы для шага $\\alpha_k$ и коэффициента $\\beta_{k}$:\n",
    "$$\n",
    "\\alpha_k = \\dfrac{r^{\\top}_k r_k}{p^{\\top}_{k}Ap_{k}} \\qquad \\beta_k = \\dfrac{r^{\\top}_k r_k}{r^{\\top}_{k-1} r_{k-1}}\n",
    "$$\n",
    "**Вопрос:** чем они лучше базовой версии?"
   ]
  },
  {
   "cell_type": "markdown",
   "metadata": {
    "slideshow": {
     "slide_type": "slide"
    }
   },
   "source": [
    "### Псевдокод метода сопряжённых градиентов\n",
    "```python\n",
    "def ConjugateGradientQuadratic(x0, A, b):\n",
    "    r = A.dot(x0) - b\n",
    "    p = -r\n",
    "    while np.linalg.norm(r) != 0:\n",
    "        alpha = r.dot(r) / p.dot(A.dot(p))\n",
    "        x = x + alpha * p\n",
    "        r_next = r + alpha * A.dot(p)\n",
    "        beta = r_next.dot(r_next) / r.dot(r)\n",
    "        p = -r_next + beta * p\n",
    "        r = r_next\n",
    "    return x\n",
    "```"
   ]
  },
  {
   "cell_type": "markdown",
   "metadata": {
    "slideshow": {
     "slide_type": "slide"
    }
   },
   "source": [
    "## Метод сопряжённых градиентов для неквадратичной функции\n",
    "**Идея:** использовать градиенты $f'(x_k)$ неквадратичной функции вместо остатков $r_k$ и линейный поиск шага $\\alpha_k$ вместо аналитического вычисления. Получим метод Флетчера-Ривса.\n",
    "\n",
    "```python\n",
    "def ConjugateGradientFR(f, gradf, x0):\n",
    "    x = x0\n",
    "    grad = gradf(x)\n",
    "    p = -grad\n",
    "    while np.linalg.norm(gradf(x)) != 0:\n",
    "        alpha = StepSearch(x, f, gradf, **kwargs)\n",
    "        x = x + alpha * p\n",
    "        grad_next = gradf(x)\n",
    "        beta = grad_next.dot(grad_next) / grad.dot(grad)\n",
    "        p = -grad_next + beta * p\n",
    "        grad = grad_next\n",
    "        if restart_condition:\n",
    "            p = -gradf(x)\n",
    "    return x\n",
    "```"
   ]
  },
  {
   "cell_type": "markdown",
   "metadata": {
    "slideshow": {
     "slide_type": "slide"
    }
   },
   "source": [
    "### Теорема сходимости\n",
    "\n",
    "**Теорема.** Пусть \n",
    "- множество уровней $\\mathcal{L}$ ограничено\n",
    "- существует $\\gamma > 0$: $\\| f'(x) \\|_2 \\leq \\gamma$ для $x \\in \\mathcal{L}$\n",
    "Тогда\n",
    "$$\n",
    "\\lim_{j \\to \\infty} \\| f'(x_{k_j}) \\|_2 = 0\n",
    "$$"
   ]
  },
  {
   "cell_type": "markdown",
   "metadata": {
    "slideshow": {
     "slide_type": "slide"
    }
   },
   "source": [
    "### Перезапуск (restart)\n",
    "\n",
    "1. Для ускорения метода сопряжённых градиентов используют технику перезапусков: удаление ранее накопленной истории и перезапуск метода с текущей точки, как будто это точка $x_0$\n",
    "2. Существуют разные условия, сигнализирующие о том, что надо делать перезапуск, например\n",
    "    - $k = n$\n",
    "    - $\\dfrac{|\\langle f'(x_k), f'(x_{k-1}) \\rangle |}{\\| f'(x_k) \\|_2^2} \\geq \\nu \\approx 0.1$\n",
    "3. Можно показать (см. Nocedal, Wright Numerical Optimization, Ch. 5, p. 125), что запуск метода Флетчера-Ривза без использования перезапусков на некоторых итерациях может приводить к крайне медленной сходимости! \n",
    "4. Метод Полака-Рибьера и его модификации лишены подобного недостатка."
   ]
  },
  {
   "cell_type": "markdown",
   "metadata": {
    "slideshow": {
     "slide_type": "slide"
    }
   },
   "source": [
    "### Комментарии\n",
    "- Замечательная методичка \"An Introduction to the Conjugate Gradient Method Without the Agonizing Pain\" размещена [тут](https://www.cs.cmu.edu/~quake-papers/painless-conjugate-gradient.pdf)\n",
    "- Помимо метода Флетчера-Ривса существуют другие способы вычисления $\\beta_k$: метод Полака-Рибьера, метод Хестенса-Штифеля...\n",
    "- Для метода сопряжённых градиентов требуется 4 вектора: каких?\n",
    "- Самой дорогой операцией является умножение матрицы на вектор\n",
    "- Методика рестартов: удаление истории $(\\beta_m = 0)$ и перезапуск алгоритма с текущей точки\n",
    "- **Отсутствует** свойство оптимальности решения на Крыловском подпространстве "
   ]
  },
  {
   "cell_type": "markdown",
   "metadata": {
    "slideshow": {
     "slide_type": "slide"
    }
   },
   "source": [
    "## Эксперименты\n"
   ]
  },
  {
   "cell_type": "markdown",
   "metadata": {
    "slideshow": {
     "slide_type": "slide"
    }
   },
   "source": [
    "### Квадратичная целевая функция"
   ]
  },
  {
   "cell_type": "code",
   "execution_count": 1,
   "metadata": {
    "slideshow": {
     "slide_type": "fragment"
    }
   },
   "outputs": [
    {
     "name": "stdout",
     "output_type": "stream",
     "text": [
      "A is normal matrix: ||AA* - A*A|| = 0.0\n"
     ]
    }
   ],
   "source": [
    "import numpy as np\n",
    "n = 100\n",
    "# Random\n",
    "# A = np.random.randn(n, n)\n",
    "# A = A.T.dot(A)\n",
    "# Clustered eigenvalues\n",
    "A = np.diagflat([np.ones(n//4), 10 * np.ones(n//4), 100*np.ones(n//4), 1000* np.ones(n//4)])\n",
    "U = np.random.rand(n, n)\n",
    "Q, _ = np.linalg.qr(U)\n",
    "A = Q.dot(A).dot(Q.T)\n",
    "A = (A + A.T) * 0.5\n",
    "print(\"A is normal matrix: ||AA* - A*A|| =\", np.linalg.norm(A.dot(A.T) - A.T.dot(A)))\n",
    "b = np.random.randn(n)\n",
    "# Hilbert matrix\n",
    "# A = np.array([[1.0 / (i+j - 1) for i in xrange(1, n+1)] for j in xrange(1, n+1)])\n",
    "# b = np.ones(n)\n",
    "\n",
    "f = lambda x: 0.5 * x.dot(A.dot(x)) - b.dot(x)\n",
    "grad_f = lambda x: A.dot(x) - b\n",
    "x0 = np.zeros(n)"
   ]
  },
  {
   "cell_type": "markdown",
   "metadata": {
    "slideshow": {
     "slide_type": "slide"
    }
   },
   "source": [
    "#### Распределение собственных значений"
   ]
  },
  {
   "cell_type": "code",
   "execution_count": 2,
   "metadata": {
    "slideshow": {
     "slide_type": "fragment"
    }
   },
   "outputs": [
    {
     "data": {
      "image/png": "[encoded data removed]",
      "text/plain": [
       "<matplotlib.figure.Figure at 0x7f4a480e3b70>"
      ]
     },
     "metadata": {},
     "output_type": "display_data"
    }
   ],
   "source": [
    "%matplotlib inline\n",
    "import matplotlib.pyplot as plt\n",
    "plt.rc(\"text\", usetex=True)\n",
    "plt.rc(\"font\", family='serif')\n",
    "import seaborn as sns\n",
    "sns.set_context(\"talk\")\n",
    "\n",
    "eigs = np.linalg.eigvalsh(A)\n",
    "plt.semilogy(np.unique(eigs))\n",
    "plt.ylabel(\"Eigenvalues\", fontsize=20)\n",
    "plt.xticks(fontsize=18)\n",
    "_ = plt.yticks(fontsize=18)"
   ]
  },
  {
   "cell_type": "markdown",
   "metadata": {
    "slideshow": {
     "slide_type": "slide"
    }
   },
   "source": [
    "#### Правильный ответ"
   ]
  },
  {
   "cell_type": "code",
   "execution_count": 3,
   "metadata": {
    "collapsed": true,
    "slideshow": {
     "slide_type": "fragment"
    }
   },
   "outputs": [],
   "source": [
    "import scipy.optimize as scopt\n",
    "\n",
    "def callback(x, array):\n",
    "    array.append(x)"
   ]
  },
  {
   "cell_type": "code",
   "execution_count": 4,
   "metadata": {
    "slideshow": {
     "slide_type": "fragment"
    }
   },
   "outputs": [
    {
     "name": "stdout",
     "output_type": "stream",
     "text": [
      "||f'(x*)|| = 6.09732053445e-08\n",
      "f* = -13.1243434987\n"
     ]
    }
   ],
   "source": [
    "scopt_cg_array = []\n",
    "scopt_cg_callback = lambda x: callback(x, scopt_cg_array)\n",
    "x = scopt.minimize(f, x0, method=\"CG\", jac=grad_f, callback=scopt_cg_callback)\n",
    "x = x.x\n",
    "print(\"||f'(x*)|| =\", np.linalg.norm(A.dot(x) - b))\n",
    "print(\"f* =\", f(x))"
   ]
  },
  {
   "cell_type": "markdown",
   "metadata": {
    "slideshow": {
     "slide_type": "slide"
    }
   },
   "source": [
    "#### Реализация метода сопряжённых градиентов"
   ]
  },
  {
   "cell_type": "code",
   "execution_count": 5,
   "metadata": {
    "collapsed": true,
    "slideshow": {
     "slide_type": "fragment"
    }
   },
   "outputs": [],
   "source": [
    "def ConjugateGradientQuadratic(x0, A, b, tol=1e-8, callback=None):\n",
    "    x = x0\n",
    "    r = A.dot(x0) - b\n",
    "    p = -r\n",
    "    while np.linalg.norm(r) > tol:\n",
    "        alpha = r.dot(r) / p.dot(A.dot(p))\n",
    "        x = x + alpha * p\n",
    "        if callback is not None:\n",
    "            callback(x)\n",
    "        r_next = r + alpha * A.dot(p)\n",
    "        beta = r_next.dot(r_next) / r.dot(r)\n",
    "        p = -r_next + beta * p\n",
    "        r = r_next\n",
    "    return x"
   ]
  },
  {
   "cell_type": "code",
   "execution_count": 6,
   "metadata": {
    "slideshow": {
     "slide_type": "slide"
    }
   },
   "outputs": [
    {
     "name": "stdout",
     "output_type": "stream",
     "text": [
      "CG quadratic\n",
      "f* = -13.1243434987\n",
      "||f'(x*)|| = 2.67530481404e-09\n",
      "Gradient Descent\n",
      "f* = -8.99106503374\n",
      "||f'(x*)|| = 3.34861858046\n",
      "Condition number of A = 1000.0\n"
     ]
    }
   ],
   "source": [
    "import code\n",
    "quad_cg_array = []\n",
    "quad_callback = lambda x: callback(x, quad_cg_array)\n",
    "x = ConjugateGradientQuadratic(x0, A, b, tol=1e-7, callback=quad_callback)\n",
    "print(\"CG quadratic\")\n",
    "print(\"f* =\", f(x))\n",
    "print(\"||f'(x*)|| =\", np.linalg.norm(A.dot(x) - b))\n",
    "quad_grad_array = []\n",
    "grad_callback = lambda x: callback(x, quad_grad_array)\n",
    "x = code.GradientDescent(f, grad_f, x0, 1e-7, 200, code.quad_exact_linesearch, callback=grad_callback, A=A)\n",
    "print(\"Gradient Descent\")\n",
    "print(\"f* =\", f(x[\"x\"]))\n",
    "print(\"||f'(x*)|| =\", np.linalg.norm(A.dot(x[\"x\"]) - b))\n",
    "print(\"Condition number of A =\", abs(max(eigs)) / abs(min(eigs)))"
   ]
  },
  {
   "cell_type": "markdown",
   "metadata": {
    "slideshow": {
     "slide_type": "slide"
    }
   },
   "source": [
    "#### График сходимости"
   ]
  },
  {
   "cell_type": "code",
   "execution_count": 7,
   "metadata": {
    "slideshow": {
     "slide_type": "fragment"
    }
   },
   "outputs": [
    {
     "data": {
      "image/png": "[encoded data removed]",
      "text/plain": [
       "<matplotlib.figure.Figure at 0x7f4a48141fd0>"
      ]
     },
     "metadata": {},
     "output_type": "display_data"
    }
   ],
   "source": [
    "plt.figure(figsize=(8,6))\n",
    "plt.semilogy([np.linalg.norm(grad_f(x)) for x in quad_cg_array[:50]], label=r\"$\\|f'(x_k)\\|^{CG}_2$\", linewidth=2)\n",
    "plt.semilogy([np.linalg.norm(grad_f(x)) for x in scopt_cg_array[:50]], label=r\"$\\|f'(x_k)\\|^{CG_{PR}}_2$\", linewidth=2)\n",
    "plt.semilogy([np.linalg.norm(grad_f(x)) for x in quad_grad_array[:50]], label=r\"$\\|f'(x_k)\\|^{G}_2$\", linewidth=2)\n",
    "plt.legend(loc=\"best\", fontsize=20)\n",
    "plt.xlabel(r\"Iteration number, $k$\", fontsize=20)\n",
    "plt.ylabel(\"Convergence rate\", fontsize=20)\n",
    "plt.xticks(fontsize=18)\n",
    "_ = plt.yticks(fontsize=18)"
   ]
  },
  {
   "cell_type": "code",
   "execution_count": 8,
   "metadata": {
    "slideshow": {
     "slide_type": "fragment"
    }
   },
   "outputs": [
    {
     "name": "stdout",
     "output_type": "stream",
     "text": [
      "[14.980440368438074, 11.658182442179454, 5.5116169246029312, 2.6753048140427726e-09]\n"
     ]
    }
   ],
   "source": [
    "print([np.linalg.norm(grad_f(x)) for x in quad_cg_array[:4]])"
   ]
  },
  {
   "cell_type": "code",
   "execution_count": 9,
   "metadata": {
    "slideshow": {
     "slide_type": "slide"
    }
   },
   "outputs": [
    {
     "data": {
      "image/png": "[encoded data removed]",
      "text/plain": [
       "<matplotlib.figure.Figure at 0x7f4a10b4f400>"
      ]
     },
     "metadata": {},
     "output_type": "display_data"
    }
   ],
   "source": [
    "plt.figure(figsize=(8,6))\n",
    "plt.plot([f(x) for x in quad_cg_array], label=r\"$f(x^{CG}_k)$\", linewidth=2)\n",
    "plt.plot([f(x) for x in scopt_cg_array], label=r\"$f(x^{CG_{PR}}_k)$\", linewidth=2)\n",
    "plt.plot([f(x) for x in quad_grad_array[:50]], label=r\"$f(x^{G}_k)$\", linewidth=2)\n",
    "plt.legend(loc=\"best\", fontsize=20)\n",
    "plt.xlabel(r\"Iteration number, $k$\", fontsize=20)\n",
    "plt.ylabel(\"Function value\", fontsize=20)\n",
    "plt.xticks(fontsize=18)\n",
    "_ = plt.yticks(fontsize=18)"
   ]
  },
  {
   "cell_type": "markdown",
   "metadata": {
    "slideshow": {
     "slide_type": "slide"
    }
   },
   "source": [
    "### Неквадратичная функция"
   ]
  },
  {
   "cell_type": "code",
   "execution_count": 10,
   "metadata": {
    "slideshow": {
     "slide_type": "fragment"
    }
   },
   "outputs": [
    {
     "name": "stdout",
     "output_type": "stream",
     "text": [
      "Initial function value = 0.6931471805599454\n",
      "Initial gradient norm = 2.0349681405321807\n"
     ]
    }
   ],
   "source": [
    "import numpy as np\n",
    "import sklearn.datasets as skldata\n",
    "import scipy.special as scspec\n",
    "\n",
    "n = 300\n",
    "m = 1000\n",
    "\n",
    "X, y = skldata.make_classification(n_classes=2, n_features=n, n_samples=m, n_informative=n//3)\n",
    "C = 1\n",
    "def f(w):\n",
    "    return np.linalg.norm(w)**2 / 2 +  C * np.mean(np.logaddexp(np.zeros(X.shape[0]), -y * X.dot(w)))\n",
    "\n",
    "def grad_f(w):\n",
    "    denom = scspec.expit(-y * X.dot(w))\n",
    "    return w - C * X.T.dot(y * denom) / X.shape[0]\n",
    "# f = lambda x: -np.sum(np.log(1 - A.T.dot(x))) - np.sum(np.log(1 - x*x))\n",
    "# grad_f = lambda x: np.sum(A.dot(np.diagflat(1 / (1 - A.T.dot(x)))), axis=1) + 2 * x / (1 - np.power(x, 2))\n",
    "x0 = np.zeros(n)\n",
    "print(\"Initial function value = {}\".format(f(x0)))\n",
    "print(\"Initial gradient norm = {}\".format(np.linalg.norm(grad_f(x0))))"
   ]
  },
  {
   "cell_type": "markdown",
   "metadata": {
    "slideshow": {
     "slide_type": "slide"
    }
   },
   "source": [
    "#### Реализация метода Флетчера-Ривса"
   ]
  },
  {
   "cell_type": "code",
   "execution_count": 11,
   "metadata": {
    "collapsed": true,
    "slideshow": {
     "slide_type": "fragment"
    }
   },
   "outputs": [],
   "source": [
    "def ConjugateGradientFR(f, gradf, x0, num_iter=100, tol=1e-8, callback=None, restart=False):\n",
    "    x = x0\n",
    "    grad = gradf(x)\n",
    "    p = -grad\n",
    "    it = 0\n",
    "    while np.linalg.norm(gradf(x)) > tol and it < num_iter:\n",
    "        alpha = code.backtracking(x, p, method=\"Wolfe\", beta1=0.1, beta2=0.4, rho=0.5, f=f, grad_f=gradf)\n",
    "        if alpha < 1e-18:\n",
    "            break\n",
    "        x = x + alpha * p\n",
    "        if callback is not None:\n",
    "            callback(x)\n",
    "        grad_next = gradf(x)\n",
    "        beta = grad_next.dot(grad_next) / grad.dot(grad)\n",
    "        p = -grad_next + beta * p\n",
    "        grad = grad_next.copy()\n",
    "        it += 1\n",
    "        if restart and it % restart == 0:\n",
    "            grad = gradf(x)\n",
    "            p = -grad\n",
    "    return x"
   ]
  },
  {
   "cell_type": "markdown",
   "metadata": {
    "slideshow": {
     "slide_type": "slide"
    }
   },
   "source": [
    "#### График сходимости"
   ]
  },
  {
   "cell_type": "code",
   "execution_count": 12,
   "metadata": {
    "scrolled": true,
    "slideshow": {
     "slide_type": "fragment"
    }
   },
   "outputs": [
    {
     "name": "stdout",
     "output_type": "stream",
     "text": [
      "CG by Polak-Rebiere\n",
      "||f'(x*)|| = 2.28774434838e-06\n",
      "f* = 0.482621128414\n",
      "CG by Fletcher-Reeves\n",
      "||f'(x*)|| = 9.88661307626e-07\n",
      "f* = 0.482621128413\n",
      "CG by Fletcher-Reeves with restart n\n",
      "||f'(x*)|| = 4.91041256675e-07\n",
      "f* = 0.482621128413\n",
      "Gradient Descent\n",
      "||f'(x*)|| = 9.90774051925e-07\n",
      "f* = 0.482621128414\n"
     ]
    }
   ],
   "source": [
    "import scipy.optimize as scopt\n",
    "import code \n",
    "\n",
    "n_restart = 100\n",
    "\n",
    "scopt_cg_array = []\n",
    "scopt_cg_callback = lambda x: callback(x, scopt_cg_array)\n",
    "x = scopt.minimize(f, x0, tol=1e-6, method=\"CG\", jac=grad_f, callback=scopt_cg_callback, options={\"maxiter\": 200})\n",
    "x = x.x\n",
    "print(\"CG by Polak-Rebiere\")\n",
    "print(\"||f'(x*)|| =\", np.linalg.norm(grad_f(x)))\n",
    "print(\"f* =\", f(x))\n",
    "\n",
    "fr_cg_array = []\n",
    "fr_callback = lambda x: callback(x, fr_cg_array)\n",
    "x = ConjugateGradientFR(f, grad_f, x0, tol=1e-6, num_iter=200, callback=fr_callback)\n",
    "print(\"CG by Fletcher-Reeves\")\n",
    "print(\"||f'(x*)|| =\", np.linalg.norm(grad_f(x)))\n",
    "print(\"f* =\", f(x))\n",
    "\n",
    "fr_cg_restart_n_array = []\n",
    "fr_callback = lambda x: callback(x, fr_cg_restart_n_array)\n",
    "x = ConjugateGradientFR(f, grad_f, x0, tol=1e-6, num_iter=200, callback=fr_callback, restart=n//n_restart)\n",
    "print(\"CG by Fletcher-Reeves with restart n\")\n",
    "print(\"||f'(x*)|| =\", np.linalg.norm(grad_f(x)))\n",
    "print(\"f* =\", f(x))\n",
    "\n",
    "grad_array = []\n",
    "grad_callback = lambda x: callback(x, grad_array)\n",
    "x = code.GradientDescent(f, grad_f, x0, 1e-6, 200, code.backtracking, callback=grad_callback, \n",
    "                         method=\"Wolfe\", rho=0.5, beta1=0.1, beta2=0.4)\n",
    "print(\"Gradient Descent\")\n",
    "print(\"||f'(x*)|| =\", np.linalg.norm(grad_f(x[\"x\"])))\n",
    "print(\"f* =\", f(x[\"x\"]))"
   ]
  },
  {
   "cell_type": "code",
   "execution_count": 13,
   "metadata": {
    "slideshow": {
     "slide_type": "fragment"
    }
   },
   "outputs": [
    {
     "data": {
      "image/png": "[encoded data removed]",
      "text/plain": [
       "<matplotlib.figure.Figure at 0x7f4a10b65400>"
      ]
     },
     "metadata": {},
     "output_type": "display_data"
    }
   ],
   "source": [
    "%matplotlib inline\n",
    "import matplotlib.pyplot as plt\n",
    "plt.figure(figsize=(8, 6))\n",
    "plt.semilogy([np.linalg.norm(grad_f(x)) for x in fr_cg_array], label=r\"$\\|f'(x_k)\\|^{CG_{FR}}_2$ no restart\", linewidth=2)\n",
    "plt.semilogy([np.linalg.norm(grad_f(x)) for x in fr_cg_restart_n_array], label=r\"$\\|f'(x_k)\\|^{CG_{FR}}_2$ restart\", linewidth=2)\n",
    "plt.semilogy([np.linalg.norm(grad_f(x)) for x in scopt_cg_array], label=r\"$\\|f'(x_k)\\|^{CG_{PR}}_2$\", linewidth=2)\n",
    "\n",
    "plt.semilogy([np.linalg.norm(grad_f(x)) for x in grad_array], label=r\"$\\|f'(x_k)\\|^{G}_2$\", linewidth=2)\n",
    "plt.legend(loc=\"best\", fontsize=16)\n",
    "plt.xlabel(r\"Iteration number, $k$\", fontsize=20)\n",
    "plt.ylabel(\"Convergence rate\", fontsize=20)\n",
    "plt.xticks(fontsize=18)\n",
    "_ = plt.yticks(fontsize=18)"
   ]
  },
  {
   "cell_type": "markdown",
   "metadata": {
    "slideshow": {
     "slide_type": "slide"
    }
   },
   "source": [
    "#### Время выполнения"
   ]
  },
  {
   "cell_type": "code",
   "execution_count": 14,
   "metadata": {
    "slideshow": {
     "slide_type": "fragment"
    }
   },
   "outputs": [
    {
     "name": "stdout",
     "output_type": "stream",
     "text": [
      "26.7 ms ± 776 µs per loop (mean ± std. dev. of 7 runs, 10 loops each)\n",
      "668 ms ± 136 ms per loop (mean ± std. dev. of 7 runs, 1 loop each)\n",
      "230 ms ± 8.75 ms per loop (mean ± std. dev. of 7 runs, 1 loop each)\n",
      "737 ms ± 139 ms per loop (mean ± std. dev. of 7 runs, 1 loop each)\n"
     ]
    }
   ],
   "source": [
    "%timeit scopt.minimize(f, x0, method=\"CG\", tol=1e-6, jac=grad_f, options={\"maxiter\": 200})\n",
    "%timeit ConjugateGradientFR(f, grad_f, x0, tol=1e-6, num_iter=200)\n",
    "%timeit ConjugateGradientFR(f, grad_f, x0, tol=1e-6, num_iter=200, restart=n//n_restart)\n",
    "%timeit code.GradientDescent(f, grad_f, x0, 1e-6, 200, code.backtracking, method=\"Wolfe\", rho=0.5, beta1=0.1, beta2=0.4)"
   ]
  },
  {
   "cell_type": "markdown",
   "metadata": {
    "slideshow": {
     "slide_type": "slide"
    }
   },
   "source": [
    "## Резюме\n",
    "\n",
    "1. Сопряжённые направления\n",
    "2. Метод сопряжённых градиентов\n",
    "3. Сходимость\n",
    "4. Эксперименты"
   ]
  }
 ],
 "metadata": {
  "anaconda-cloud": {},
  "celltoolbar": "Slideshow",
  "kernelspec": {
   "display_name": "Python [conda env:cvxpy]",
   "language": "python",
   "name": "conda-env-cvxpy-py"
  },
  "language_info": {
   "codemirror_mode": {
    "name": "ipython",
    "version": 3
   },
   "file_extension": ".py",
   "mimetype": "text/x-python",
   "name": "python",
   "nbconvert_exporter": "python",
   "pygments_lexer": "ipython3",
   "version": "3.6.3"
  }
 },
 "nbformat": 4,
 "nbformat_minor": 1
}
