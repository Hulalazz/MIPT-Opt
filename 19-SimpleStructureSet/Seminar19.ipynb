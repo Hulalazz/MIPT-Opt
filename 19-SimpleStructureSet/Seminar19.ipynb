{
 "cells": [
  {
   "cell_type": "markdown",
   "metadata": {
    "slideshow": {
     "slide_type": "slide"
    }
   },
   "source": [
    "# Семинар 19\n",
    "# Оптимизация на множествах простой структуры"
   ]
  },
  {
   "cell_type": "markdown",
   "metadata": {
    "slideshow": {
     "slide_type": "slide"
    }
   },
   "source": [
    "## На прошлом семинаре...\n",
    "\n",
    "- История линейного программирования\n",
    "- Концепция методов внутренней точки\n",
    "- Прямой барьерный метод\n"
   ]
  },
  {
   "cell_type": "markdown",
   "metadata": {
    "slideshow": {
     "slide_type": "slide"
    }
   },
   "source": [
    "## Методы решения каких задач уже известны\n",
    "\n",
    "- Безусловная минимизация: функция достаточно гладкая, но ограничений на аргумент нет.\n",
    "- Линейное программирование: линейная функция при линейных ограничениях\n",
    "\n",
    "Следующий шаг: произвольная достаточно гладкая функция на достаточно простом множестве - не обязательно полиэдральном."
   ]
  },
  {
   "cell_type": "markdown",
   "metadata": {
    "slideshow": {
     "slide_type": "slide"
    }
   },
   "source": [
    "## Что такое \"простое множество\"?\n"
   ]
  },
  {
   "cell_type": "markdown",
   "metadata": {
    "slideshow": {
     "slide_type": "fragment"
    }
   },
   "source": [
    "**Определение.** Множество будем называть *простым*, если проекцию на него можно найти существенно быстрее (чаще всего аналитически) по сравнению с решением исходной задачи минимизации."
   ]
  },
  {
   "cell_type": "markdown",
   "metadata": {
    "slideshow": {
     "slide_type": "slide"
    }
   },
   "source": [
    "## Примеры простых множеств\n",
    "\n",
    "- Полиэдр $Ax = b, Cx \\leq d$\n",
    "    - аффинное множество\n",
    "    - гиперплоскость\n",
    "    - полупространство\n",
    "    - отрезок, интервал, полуинтервал\n",
    "    - симплекс\n",
    "- Конусы\n",
    "    - положительный ортант\n",
    "    - Лоренцев конус\n",
    "    - $\\mathbb{S}^n_{+}$\n",
    "    \n",
    "**Замечание:** убедитесь, что Вы понимаете, что стоит за этими названиями и обозначениями!"
   ]
  },
  {
   "cell_type": "markdown",
   "metadata": {
    "slideshow": {
     "slide_type": "slide"
    }
   },
   "source": [
    "## Напоминание: как искать проекцию?\n",
    "Для данной точки $y \\in \\mathbb{R}^n$ требуется решить следующую задачу\n",
    "$$\n",
    "\\min_{x \\in P} \\|x - y \\|_2\n",
    "$$\n",
    "Обозначение: $\\pi_P(y)$ - проекция точки $y$ на множество $P$."
   ]
  },
  {
   "cell_type": "markdown",
   "metadata": {
    "slideshow": {
     "slide_type": "slide"
    }
   },
   "source": [
    "## Примеры проекций\n",
    "\n",
    "- Отрезок $P = \\{x | l \\leq x \\leq u \\}$\n",
    "$$\n",
    "(\\pi_P(y))_k = \n",
    "\\begin{cases}\n",
    "u_k & y_k \\geq u_k \\\\\n",
    "l_k & y_k \\leq l_k \\\\\n",
    "y_k & \\text{otherwise.}\n",
    "\\end{cases}\n",
    "$$"
   ]
  },
  {
   "cell_type": "markdown",
   "metadata": {
    "slideshow": {
     "slide_type": "fragment"
    }
   },
   "source": [
    "- Аффинное множество $P = \\{ x| Ax = b \\}$\n",
    "$$\n",
    "\\pi_P(y) = y - A^+(Ay - b),\n",
    "$$ \n",
    "где $A^+$ - псевдообратная матрица. Если $A$ полного ранга и столбцы линейно-независимы, тогда $A^+ = (A^{\\top}A)^{-1}A^{\\top}$."
   ]
  },
  {
   "cell_type": "markdown",
   "metadata": {
    "slideshow": {
     "slide_type": "slide"
    }
   },
   "source": [
    "- Конус положительно полуопределённых матриц $P = \\mathbb{S}^n_+ = \\{X \\in \\mathbb{R}^{n \\times n} | X \\succeq 0, \\; X^{\\top} = X \\}$\n",
    "$$\n",
    "\\pi_P(Y) = \\prod_{i=1}^n (\\lambda_i)_+ v_i v_i^{\\top},\n",
    "$$\n",
    "где $(\\lambda_i, v_i)$ - пары собственных значений и векторов матрицы $Y$. "
   ]
  },
  {
   "cell_type": "markdown",
   "metadata": {
    "slideshow": {
     "slide_type": "slide"
    }
   },
   "source": [
    "## Метод проекции градиента"
   ]
  },
  {
   "cell_type": "markdown",
   "metadata": {
    "collapsed": true,
    "slideshow": {
     "slide_type": "fragment"
    }
   },
   "source": [
    "$$\n",
    "\\min_{x \\in P} f(x)\n",
    "$$\n",
    "**Идея**: делать шаг градиентного спуска и проецировать полученную точку на допустимое множество $P$."
   ]
  },
  {
   "cell_type": "markdown",
   "metadata": {
    "slideshow": {
     "slide_type": "slide"
    }
   },
   "source": [
    "## Псевдокод\n",
    "\n",
    "```python\n",
    "def ProjectedGradientDescent(f, gradf, proj, x0, tol):\n",
    "    x = x0\n",
    "    while True:\n",
    "        gradient = gradf(x)\n",
    "        alpha = get_step_size(x, f, gradf, proj)\n",
    "        x = proj(x - alpha * grad)\n",
    "        if check_convergence(x, f, tol):\n",
    "            break\n",
    "    return x\n",
    "```"
   ]
  },
  {
   "cell_type": "markdown",
   "metadata": {
    "slideshow": {
     "slide_type": "slide"
    }
   },
   "source": [
    "## Поиск шага\n",
    "\n",
    "- Постоянный шаг: $\\alpha_k = \\alpha$, где $\\alpha$ достаточно мало\n",
    "- Наискорейший спуск: \n",
    "$$\n",
    "\\min_{\\alpha > 0} f(x_k(\\alpha))\n",
    "$$\n",
    "$x_k(\\alpha) = \\pi_P (x_k - \\alpha f'(x_k))$\n",
    "- Линейный поиск: уменьшать шаг по правилу Армихо, пока не будет выполнено условие\n",
    "$$\n",
    "f(x_k(\\alpha)) - f(x_k) \\leq c_1 \\langle f'(x_k), x_k(\\alpha) - x_k \\rangle\n",
    "$$"
   ]
  },
  {
   "cell_type": "markdown",
   "metadata": {
    "slideshow": {
     "slide_type": "slide"
    }
   },
   "source": [
    "## Теорема сходимости (Б.Т. Поляк \"Введение в оптимизацию\", гл. 7, $\\S$ 2)\n",
    "\n",
    "**Теорема.** Пусть $f$ выпуклая дифференцируемая функция и её градиент липшицев на $P$ с константой $L$. Пусть $P$ выпуклое и замкнутое множество и $0 < \\alpha < 2 / L$. \n",
    "\n",
    "Тогда\n",
    "- $x_k \\to x^*$\n",
    "- если $f$ сильно выпуклая, то $x_k \\to x^*$ со скоростью геометрической прогрессии\n",
    "- если $f$ дважды дифференцируема и $f''(x) \\succeq l\\mathbf{I}, \\; x \\in P$, $l > 0$, то знаменатель прогрессии $q = \\max \\{ |1 - \\alpha l|, |1 - \\alpha L|\\}$."
   ]
  },
  {
   "cell_type": "markdown",
   "metadata": {
    "slideshow": {
     "slide_type": "slide"
    }
   },
   "source": [
    "## Критерии остановки\n",
    "- Сходимость по аргументу, то есть сходимость последовательности $x_k$ к предельной точке $x^*$\n",
    "- $x^* = \\pi_P(x^*)$\n",
    "\n",
    "**Важное замечание:** проверять норму градиента бессмысленно, так как это условная оптимизация!"
   ]
  },
  {
   "cell_type": "markdown",
   "metadata": {
    "slideshow": {
     "slide_type": "slide"
    }
   },
   "source": [
    "## Pro & Contra\n",
    "\n",
    "Pro\n",
    "- часто можно аналитически вычислить проекцию\n",
    "- сходимость аналогична градиентному спуску в безусловной оптимизации\n",
    "- обобщается на негладкий случай - метод проекции субградиента\n",
    "\n",
    "Contra\n",
    "- при больших $n$ аналитическое вычисление проекции может быть слишком затратно: $O(n)$ для симплекса vs. решение задачи квадратичного программирования для полиэдрального множества\n",
    "- при обновлении градиента может теряться структура задачи: разреженность, малоранговость..."
   ]
  },
  {
   "cell_type": "markdown",
   "metadata": {
    "slideshow": {
     "slide_type": "slide"
    }
   },
   "source": [
    "## Что такое \"простое множество\"?"
   ]
  },
  {
   "cell_type": "markdown",
   "metadata": {
    "slideshow": {
     "slide_type": "fragment"
    }
   },
   "source": [
    "**Определение.** Множество $D$ будем называть *простым*, если можно найти решение следующей задачи\n",
    "$$\n",
    "\\min_{x \\in D} c^{\\top}x\n",
    "$$\n",
    "существенно быстрее (чаще всего аналитически) по сравнению с решением исходной задачи минимизации."
   ]
  },
  {
   "cell_type": "markdown",
   "metadata": {
    "slideshow": {
     "slide_type": "slide"
    }
   },
   "source": [
    "## Примеры простых множеств\n",
    "\n",
    "- Полиэдральное множество - задача линейного программирования вместо квадратичного программирования\n",
    "- Симплекс - $x^* = e_i$, где $c_i = \\max\\limits_{k = 1,\\ldots, n} c_k$\n",
    "- Лоренцев конус - $x^* = -\\frac{ct}{\\| c\\|_2}$\n",
    "- Все остальные множества из предыдущего определения\n",
    "\n",
    "**Замечание 1:** отличие этого определения от предыдущего в линейности целевой функции (была квадратичная), поэтому простых множеств для этого определения больше.\n",
    "\n",
    "**Замечание 2:** иногда на допустимое множество легко найти проекцию, но задача линейного программирования является неограниченной. Например, для множества \n",
    "$$\n",
    "D = \\{ x \\in \\mathbb{R}^n \\; | \\; x_i \\geq 0 \\},\n",
    "$$ \n",
    "проекция на которое очевидна, решение задачи линейного программирования равно $-\\infty$, если есть хотя бы одна положительная компонента вектора $c$. Теорема с объяснением будет ниже."
   ]
  },
  {
   "cell_type": "markdown",
   "metadata": {
    "slideshow": {
     "slide_type": "slide"
    }
   },
   "source": [
    "## Метод условного градиента <br> (aka Frank-Wolfe algorithm (1956))"
   ]
  },
  {
   "cell_type": "markdown",
   "metadata": {
    "slideshow": {
     "slide_type": "fragment"
    }
   },
   "source": [
    "$$\n",
    "\\min_{x \\in D} f(x)\n",
    "$$\n",
    "\n",
    "**Идея**: делать шаг не по градиенту, а по направлению, которое точно не выведет из допустимого множества.\n",
    "\n",
    "Аналогия с градиентным спуском: линейная аппроксимация **на допустимом множестве**:\n",
    "$$\n",
    "f(x_k + s_k) = f(x_k) + \\langle f'(x_k), s_k \\rangle \\to \\min_{{\\color{red}{s_k \\in D}}}\n",
    "$$"
   ]
  },
  {
   "cell_type": "markdown",
   "metadata": {
    "slideshow": {
     "slide_type": "slide"
    }
   },
   "source": [
    "## Условный градиент\n",
    "\n",
    "**Определение** Направление $s_k - x_k$ называют *условным градиентом* функции $f$ в точке $x_k$ на допустимом множестве $D$."
   ]
  },
  {
   "cell_type": "markdown",
   "metadata": {
    "slideshow": {
     "slide_type": "slide"
    }
   },
   "source": [
    "## Псевдокод\n",
    "```python\n",
    "def FrankWolfe(f, gradf, linprogsolver, x0, tol):\n",
    "    x = x0\n",
    "    while True:\n",
    "        gradient = gradf(x)\n",
    "        s = linprogsolver(gradient)\n",
    "        alpha = get_step_size(s, x, f)\n",
    "        x = x + alpha * (s - x)\n",
    "        if check_convergence(x, f, tol):\n",
    "            break\n",
    "    return x\n",
    "```"
   ]
  },
  {
   "cell_type": "markdown",
   "metadata": {
    "slideshow": {
     "slide_type": "slide"
    }
   },
   "source": [
    "## Выбор шага\n",
    "\n",
    "- Постоянный шаг: $\\alpha_k = \\alpha$\n",
    "- Убывающая последовательность, стандартный выбор $\\alpha_k = \\frac{2}{k + 2}$\n",
    "- Наискорейший спуск:\n",
    "$$\n",
    "\\min_{{\\color{red}{0 \\leq \\alpha_k \\leq 1}}} f(x_k + \\alpha_k(s_k - x_k))\n",
    "$$\n",
    "- Линейный поиск по правилу Армихо: должно выполняться условие\n",
    "$$\n",
    "f((x_k + \\alpha_k(s_k - x_k)) \\leq f(x_k) + c_1 \\alpha_k \\langle f'(x_k), s_k - x_k \\rangle\n",
    "$$\n",
    "Начинать поиск нужно с $\\alpha_k = 1$"
   ]
  },
  {
   "cell_type": "markdown",
   "metadata": {
    "slideshow": {
     "slide_type": "slide"
    }
   },
   "source": [
    "## Критерий остановки\n",
    "\n",
    "- Так как показана сходимость к предельной точке $x^*$, то критерием остановки является сходимость по аргументу\n",
    "- Если $f(x)$ выпукла, то $f(s) \\geq f(x_k) + \\langle f'(x_k), s - x_k \\rangle$ для любого вектора $s$, а значит и для любого $s \\in D$. Следовательно\n",
    "\n",
    "$$\n",
    "f(x^*) \\geq f(x) + \\min_{s \\in D} \\langle f'(x), s - x\\rangle\n",
    "$$\n",
    "\n",
    "или\n",
    " \n",
    "$$\n",
    "f(x) - f(x^*) \\leq -\\min_{s \\in D} \\langle f'(x), s - x\\rangle = \\max_{s \\in D} \\langle f'(x), x - s\\rangle = g(x)\n",
    "$$\n",
    "Получили аналог зазора двойственности для контроля точности и устойчивости решения."
   ]
  },
  {
   "cell_type": "markdown",
   "metadata": {
    "slideshow": {
     "slide_type": "slide"
    }
   },
   "source": [
    "## Теорема сходимости (лекции)\n",
    "\n",
    "**Теорема 4.2.1.** Пусть $X$ - **выпуклый компакт** и $f(x)$ - дифференцируемая функция на $X$ с Липшицевым градиентом. Шаг выбирается по правилу Армихо. Тогда **для любого ${\\color{red}{x_0 \\in X}}$ **\n",
    "- метод условного градиента генерирует последовательность $\\{x_k\\}$, которая имеет предельные точки\n",
    "- любая предельная точка $x^*$ является **стационарной**\n",
    "- если $f(x)$ выпукла на $X$, то $x^*$ - решение задачи"
   ]
  },
  {
   "cell_type": "markdown",
   "metadata": {
    "slideshow": {
     "slide_type": "slide"
    }
   },
   "source": [
    "## Теоремы сходимости\n",
    "\n",
    "**Теорема (прямая).([Convex Optimization: Algorithms and Complexity, Th 3.8.](https://arxiv.org/abs/1405.4980))** Пусть $f$ выпуклая и дифференцируемая функция и её градиент Липшицев с константой $L$. Множество $X$ - выпуклый компакт диаметра $d > 0$. \n",
    "Тогда метод условного градиента с шагом $\\alpha_k = \\frac{2}{k + 1}$ сходится как\n",
    "$$\n",
    "f(x^*) - f(x_k) \\leq \\dfrac{2d^2L}{k + 2}, \\quad k \\geq 1\n",
    "$$\n",
    "\n",
    "**Теорема (двойственная) [см. эту статью](http://m8j.net/math/revisited-FW.pdf).** После выполнения $K$ итераций метода условного градиента для выпуклой и непрерывно дифференцируемой функции для функции $g$ и любого $k \\leq K$ выполнено\n",
    "$$\n",
    "g(x_k) \\leq \\frac{2\\beta C_f}{K+2} (1 + \\delta),\n",
    "$$\n",
    "где $\\beta \\approx 3$, $\\delta$ - точность решения промежуточных задач, $C_f$ - оценка кривизны $f$ на множестве $D$\n",
    "$$\n",
    "C_f = \\sup_{x, s \\in D; \\gamma \\in [0,1]} \\frac{2}{\\gamma^2}(f(x + \\gamma(s - x)) - f(x) - \\langle \\gamma(s - x), f'(x)\\rangle)\n",
    "$$"
   ]
  },
  {
   "cell_type": "markdown",
   "metadata": {
    "slideshow": {
     "slide_type": "slide"
    }
   },
   "source": [
    "## Как конструткивно задать \"простые\" множества?"
   ]
  },
  {
   "cell_type": "markdown",
   "metadata": {
    "slideshow": {
     "slide_type": "fragment"
    }
   },
   "source": []
  },
  {
   "cell_type": "markdown",
   "metadata": {
    "slideshow": {
     "slide_type": "slide"
    }
   },
   "source": [
    "<img src=\"atomic_table.png\">"
   ]
  },
  {
   "cell_type": "markdown",
   "metadata": {},
   "source": [
    "Исчерпывающее описание метода и его вариантов приведено в [cтатье](http://jmlr.csail.mit.edu/proceedings/papers/v28/jaggi13.pdf)"
   ]
  },
  {
   "cell_type": "markdown",
   "metadata": {
    "slideshow": {
     "slide_type": "slide"
    }
   },
   "source": [
    "## Пример 1\n",
    "\n",
    "\\begin{equation*}\n",
    "\\begin{split}\n",
    "& \\min \\|Ax - b \\|_2\\\\\n",
    "\\text{s.t. } & 0 \\leq x_i \\leq 1\n",
    "\\end{split}\n",
    "\\end{equation*}"
   ]
  },
  {
   "cell_type": "code",
   "execution_count": 1,
   "metadata": {
    "collapsed": true,
    "slideshow": {
     "slide_type": "slide"
    }
   },
   "outputs": [],
   "source": [
    "def f(x, p):\n",
    "    return 0.5 * np.linalg.norm(p[\"A\"].dot(x) - p[\"b\"])**2\n",
    "\n",
    "def grad_f(x, p):\n",
    "    grad = -p[\"A\"].T.dot(p[\"b\"])\n",
    "    grad = grad + p[\"A\"].T.dot(p[\"A\"].dot(x))\n",
    "    return grad"
   ]
  },
  {
   "cell_type": "code",
   "execution_count": 2,
   "metadata": {
    "collapsed": true,
    "slideshow": {
     "slide_type": "slide"
    }
   },
   "outputs": [],
   "source": [
    "def linsolver(gradient):\n",
    "    x = np.zeros(gradient.shape[0])\n",
    "    pos_grad = gradient > 0\n",
    "    neg_grad = gradient < 0\n",
    "    x[pos_grad] = np.zeros(np.sum(pos_grad == True))\n",
    "    x[neg_grad] = np.ones(np.sum(neg_grad == True))\n",
    "    return x"
   ]
  },
  {
   "cell_type": "code",
   "execution_count": 3,
   "metadata": {
    "collapsed": true,
    "slideshow": {
     "slide_type": "slide"
    }
   },
   "outputs": [],
   "source": [
    "def projection(y):\n",
    "    return np.clip(y, 0, 1)"
   ]
  },
  {
   "cell_type": "code",
   "execution_count": 4,
   "metadata": {
    "slideshow": {
     "slide_type": "slide"
    }
   },
   "outputs": [],
   "source": [
    "from __future__ import print_function\n",
    "import ssopt\n",
    "import numpy as np\n",
    "\n",
    "n = 50\n",
    "m = 100\n",
    "A = np.random.randn(m, n)\n",
    "x_true = np.random.rand(n)\n",
    "b = A.dot(x_true) + 0.01 * np.random.randn(m)"
   ]
  },
  {
   "cell_type": "code",
   "execution_count": 5,
   "metadata": {
    "collapsed": true,
    "slideshow": {
     "slide_type": "slide"
    }
   },
   "outputs": [],
   "source": [
    "def myplot(x, y, xlab, ylab, xscale=\"linear\", yscale=\"log\"):\n",
    "    plt.figure(figsize=(10, 8))\n",
    "    plt.xscale(xscale)\n",
    "    plt.yscale(yscale)\n",
    "    for key in y:\n",
    "        plt.plot(x[key], y[key], label=key)\n",
    "    plt.xticks(fontsize=18)\n",
    "    plt.yticks(fontsize=18)\n",
    "    plt.legend(loc=\"best\", fontsize=24)\n",
    "    plt.xlabel(xlab, fontsize=24)\n",
    "    plt.ylabel(ylab, fontsize=24)"
   ]
  },
  {
   "cell_type": "code",
   "execution_count": 6,
   "metadata": {
    "slideshow": {
     "slide_type": "slide"
    }
   },
   "outputs": [
    {
     "name": "stdout",
     "output_type": "stream",
     "text": [
      "Max iterations = 200 exceeds\n",
      "Diff function on last iteration = 0.00815467952673\n",
      "Norm diff x on last iteration = 0.0050304642792\n",
      "f* = 1.33422653253\n",
      "Optimal value CG = 1.33422653253\n",
      "Time for CG = 0.0837860107422 sec.\n"
     ]
    }
   ],
   "source": [
    "x0 = np.random.rand(n)\n",
    "cg = ssopt.CondGD(maxiter=200, tol=1e-10)\n",
    "hist_cg = []\n",
    "def callback_cg(x):\n",
    "    hist_cg.append(x)\n",
    "res = cg.solve(f, grad_f, linsolver, x0, {\"A\": A, \"b\": b, \"callback\": callback_cg, \"disp\": 0})\n",
    "x_cg = res[\"x\"]\n",
    "time_cg = res[\"time\"]\n",
    "print(\"Optimal value CG =\", f(x_cg, {\"A\": A, \"b\": b}))\n",
    "print(\"Time for CG =\", time_cg, \"sec.\")"
   ]
  },
  {
   "cell_type": "code",
   "execution_count": 7,
   "metadata": {
    "scrolled": true,
    "slideshow": {
     "slide_type": "slide"
    }
   },
   "outputs": [
    {
     "name": "stdout",
     "output_type": "stream",
     "text": [
      "Tolerance reached on iteration 132\n",
      "Diff function = 7.32275789485e-11\n",
      "Norm diff x = 8.05468248317e-06\n",
      "f* = 0.00320907780107\n",
      "Optimal value PG = 0.00320907780107\n",
      "Time for PG = 0.156947851181 sec.\n"
     ]
    }
   ],
   "source": [
    "pg = ssopt.ProjGD(maxiter=200, tol=1e-10)\n",
    "hist_pg = []\n",
    "def callback_pg(x):\n",
    "    hist_pg.append(x)\n",
    "res = pg.solve(f, grad_f, projection, x0, {\"A\": A, \"b\": b, \"callback\": callback_pg, \"disp\": 0})\n",
    "x_pg = res[\"x\"]\n",
    "time_pg = res[\"time\"]\n",
    "print(\"Optimal value PG =\", f(x_pg, {\"A\": A, \"b\": b}))\n",
    "print(\"Time for PG =\", time_pg, \"sec.\")"
   ]
  },
  {
   "cell_type": "code",
   "execution_count": 8,
   "metadata": {
    "slideshow": {
     "slide_type": "slide"
    }
   },
   "outputs": [
    {
     "data": {
      "image/png": "[encoded data removed]",
      "text/plain": [
       "<matplotlib.figure.Figure at 0x7fdbed393150>"
      ]
     },
     "metadata": {},
     "output_type": "display_data"
    }
   ],
   "source": [
    "import matplotlib.pyplot as plt\n",
    "%matplotlib inline\n",
    "plt.rc(\"text\", usetex=True)\n",
    "y_hist_f_cg = [f(x, {\"A\": A, \"b\": b}) for x in hist_cg]\n",
    "y_hist_f_pg = [f(x, {\"A\": A, \"b\": b}) for x in hist_pg]\n",
    "myplot({\"CG\": range(1, len(y_hist_f_cg) + 1), \"PG\": range(1, len(y_hist_f_pg) + 1)},\n",
    "       {\"CG\": y_hist_f_cg, \"PG\": y_hist_f_pg}, \"Number of iteration\",\n",
    "       r\"Objective function, $\\frac{1}{2}\\|Ax - b\\|^2_2$\")"
   ]
  },
  {
   "cell_type": "code",
   "execution_count": 9,
   "metadata": {
    "slideshow": {
     "slide_type": "slide"
    }
   },
   "outputs": [
    {
     "name": "stdout",
     "output_type": "stream",
     "text": [
      "CVX optimal value = 0.00320907188808\n"
     ]
    }
   ],
   "source": [
    "import cvxpy as cvx\n",
    "\n",
    "x = cvx.Variable(n)\n",
    "obj = cvx.Minimize(0.5 * cvx.norm(A * x - b, 2)**2)\n",
    "# constr = [cvx.norm(x, 1) <= 1, x >= 0]\n",
    "constr = [x >= 0, x <= 1]\n",
    "problem = cvx.Problem(objective=obj, constraints=constr)\n",
    "value = problem.solve()\n",
    "x_cvx = np.array(x.value).ravel()\n",
    "print(\"CVX optimal value =\", value)"
   ]
  },
  {
   "cell_type": "markdown",
   "metadata": {
    "slideshow": {
     "slide_type": "slide"
    }
   },
   "source": [
    "### Зависимость времени и числа итераций от точности"
   ]
  },
  {
   "cell_type": "code",
   "execution_count": 10,
   "metadata": {
    "slideshow": {
     "slide_type": "slide"
    }
   },
   "outputs": [
    {
     "name": "stdout",
     "output_type": "stream",
     "text": [
      "Tolerance reached on iteration 15\n",
      "Diff function = 0.861636536279\n",
      "Norm diff x = 0.0460909775229\n",
      "f* = 16.5305708186\n",
      "Tolerance reached on iteration 40\n",
      "Diff function = 0.0772551869924\n",
      "Norm diff x = 0.0122585326203\n",
      "f* = 6.4815424268\n",
      "Tolerance reached on iteration 130\n",
      "Diff function = 0.00721198476885\n",
      "Norm diff x = 0.00332269650565\n",
      "f* = 2.04689942993\n",
      "Tolerance reached on iteration 404\n",
      "Diff function = 0.00060299511719\n",
      "Norm diff x = 0.00091965045462\n",
      "f* = 0.637369385225\n",
      "Tolerance reached on iteration 1158\n",
      "Diff function = 9.7487273971e-05\n",
      "Norm diff x = 0.000369835128834\n",
      "f* = 0.161998284634\n",
      "Tolerance reached on iteration 2734\n",
      "Diff function = 9.59914796755e-06\n",
      "Norm diff x = 0.000109849581084\n",
      "f* = 0.0510738831673\n",
      "Tolerance reached on iteration 8096\n",
      "Diff function = 6.45745302339e-07\n",
      "Norm diff x = 2.89434921252e-05\n",
      "f* = 0.0123938018944\n",
      "Tolerance reached on iteration 17572\n",
      "Diff function = 9.84119520389e-08\n",
      "Norm diff x = 1.25378379369e-05\n",
      "f* = 0.00523989919824\n"
     ]
    }
   ],
   "source": [
    "eps = [10**(-i) for i in xrange(8)]\n",
    "time_pg = np.zeros(len(eps))\n",
    "time_cg = np.zeros(len(eps))\n",
    "iter_pg = np.zeros(len(eps))\n",
    "iter_cg = np.zeros(len(eps))\n",
    "for i, tol in enumerate(eps):\n",
    "    pg = ssopt.ProjGD(maxiter=None, tol=tol)\n",
    "    res = pg.solve(f, grad_f, projection, x0, {\"A\": A, \"b\": b, \"disp\": -1})\n",
    "    time_pg[i] = res[\"time\"]\n",
    "    iter_pg[i] = res[\"num_iter\"]\n",
    "    cg = ssopt.CondGD(maxiter=None, tol=tol)\n",
    "    res = cg.solve(f, grad_f, linsolver, x0, {\"A\": A, \"b\": b, \"disp\": 0})\n",
    "    time_cg[i] = res[\"time\"]\n",
    "    iter_cg[i] = res[\"num_iter\"]"
   ]
  },
  {
   "cell_type": "code",
   "execution_count": 11,
   "metadata": {
    "slideshow": {
     "slide_type": "slide"
    }
   },
   "outputs": [
    {
     "data": {
      "image/png": "[encoded data removed]",
      "text/plain": [
       "<matplotlib.figure.Figure at 0x7fdbf36b6690>"
      ]
     },
     "metadata": {},
     "output_type": "display_data"
    }
   ],
   "source": [
    "myplot({\"CG\":eps, \"PG\": eps}, {\"CG\": time_cg, \"PG\": time_pg}, r\"Accuracy, $\\varepsilon$\", \"Time, s\", xscale=\"log\")"
   ]
  },
  {
   "cell_type": "code",
   "execution_count": 12,
   "metadata": {
    "slideshow": {
     "slide_type": "slide"
    }
   },
   "outputs": [
    {
     "data": {
      "image/png": "[encoded data removed]",
      "text/plain": [
       "<matplotlib.figure.Figure at 0x7fdbdc76df90>"
      ]
     },
     "metadata": {},
     "output_type": "display_data"
    }
   ],
   "source": [
    "myplot({\"CG\":eps, \"PG\": eps}, {\"CG\": iter_cg, \"PG\": iter_pg}, r\"Accuracy, $\\varepsilon$\", \"Number of iteration\", xscale=\"log\")"
   ]
  },
  {
   "cell_type": "markdown",
   "metadata": {
    "slideshow": {
     "slide_type": "slide"
    }
   },
   "source": [
    "## Пример 2\n",
    "Пусть $A$ - трёхдиагональная матрица. Рассмотрим задачу: \n",
    "\\begin{equation*}\n",
    "\\begin{split}\n",
    "& \\min \\frac{1}{2}x^{\\top}Ax \\\\\n",
    "\\text{s.t. } & \\| x\\|_1 \\leq 1 \\\\\n",
    "& x_i \\geq 0\n",
    "\\end{split}\n",
    "\\end{equation*}"
   ]
  },
  {
   "cell_type": "code",
   "execution_count": 13,
   "metadata": {
    "collapsed": true,
    "slideshow": {
     "slide_type": "slide"
    }
   },
   "outputs": [],
   "source": [
    "def f(x, p):\n",
    "    return 0.5 * x.dot(p[\"A\"].dot(x))\n",
    "\n",
    "def grad_f(x, p):\n",
    "    return p[\"A\"].dot(x)"
   ]
  },
  {
   "cell_type": "code",
   "execution_count": 14,
   "metadata": {
    "collapsed": true,
    "slideshow": {
     "slide_type": "slide"
    }
   },
   "outputs": [],
   "source": [
    "def linsolver(gradient):\n",
    "    x = np.zeros(gradient.shape[0])\n",
    "    idx_min = np.argmin(gradient)\n",
    "    if gradient[idx_min] > 0:\n",
    "        x[idx_min] = 0\n",
    "    else:\n",
    "        x[idx_min] = 1\n",
    "    return x"
   ]
  },
  {
   "cell_type": "code",
   "execution_count": 15,
   "metadata": {
    "collapsed": true,
    "slideshow": {
     "slide_type": "slide"
    }
   },
   "outputs": [],
   "source": [
    "def projection(y):\n",
    "    x = y.copy()\n",
    "    if np.all(x >= 0) and np.sum(x) <= 1:\n",
    "        return x\n",
    "    x = np.clip(x, 0, np.max(x))\n",
    "    if np.sum(x) <= 1:\n",
    "        return x\n",
    "    n = x.shape[0]\n",
    "    bget = False\n",
    "    x.sort()\n",
    "    x = x[::-1]\n",
    "    temp_sum = 0\n",
    "    t_hat = 0\n",
    "    for i in xrange(n - 1):\n",
    "        temp_sum += x[i]\n",
    "        t_hat = (temp_sum - 1.0) / (i + 1)\n",
    "        if t_hat >= x[i + 1]:\n",
    "            bget = True\n",
    "            break\n",
    "    if not bget:\n",
    "        t_hat = (temp_sum + x[n - 1] - 1.0) / n\n",
    "    return np.maximum(y - t_hat, 0)"
   ]
  },
  {
   "cell_type": "code",
   "execution_count": 16,
   "metadata": {
    "slideshow": {
     "slide_type": "slide"
    }
   },
   "outputs": [
    {
     "data": {
      "text/plain": [
       "<matplotlib.lines.Line2D at 0x7fdbdc2e0050>"
      ]
     },
     "execution_count": 16,
     "metadata": {},
     "output_type": "execute_result"
    },
    {
     "data": {
      "image/png": "[encoded data removed]",
      "text/plain": [
       "<matplotlib.figure.Figure at 0x7fdbdc38c350>"
      ]
     },
     "metadata": {},
     "output_type": "display_data"
    }
   ],
   "source": [
    "import scipy.sparse as scsp\n",
    "\n",
    "n = 100\n",
    "main_diag = np.random.randn(n)\n",
    "subdiag = np.random.rand(n - 1)\n",
    "sub2diag = np.random.rand(n - 2)\n",
    "A = scsp.diags([sub2diag, subdiag, main_diag, subdiag, sub2diag], [-2, -1, 0, 1, 2])\n",
    "A = A + 100 * scsp.eye(n)\n",
    "plt.spy(A, markersize=0.5)\n",
    "# print(scsp.linalg.eigs(A, k=n-2)[0])"
   ]
  },
  {
   "cell_type": "code",
   "execution_count": 17,
   "metadata": {
    "slideshow": {
     "slide_type": "slide"
    }
   },
   "outputs": [
    {
     "name": "stdout",
     "output_type": "stream",
     "text": [
      "Tolerance reached on iteration 40\n",
      "Diff function = 5.8111885215e-11\n",
      "Norm diff x = 4.05133554868e-07\n",
      "f* = 7.47152809907e-11\n",
      "Optimal value CG = 7.47152809907e-11\n",
      "Time for CG = 0.0100309848785 sec.\n"
     ]
    }
   ],
   "source": [
    "x0 = np.random.rand(n)\n",
    "x0 = x0 / x0.sum()\n",
    "cg = ssopt.CondGD(maxiter=200, tol=1e-10)\n",
    "hist_cg = []\n",
    "def callback_cg(x):\n",
    "    hist_cg.append(x)\n",
    "res = cg.solve(f, grad_f, linsolver, x0, {\"A\": A, \"b\": b, \"callback\": callback_cg, \"disp\": 0})\n",
    "x_cg = res[\"x\"]\n",
    "time_cg = res[\"time\"]\n",
    "print(\"Optimal value CG =\", f(x_cg, {\"A\": A, \"b\": b}))\n",
    "print(\"Time for CG =\", time_cg, \"sec.\")"
   ]
  },
  {
   "cell_type": "code",
   "execution_count": 18,
   "metadata": {
    "slideshow": {
     "slide_type": "slide"
    }
   },
   "outputs": [
    {
     "name": "stdout",
     "output_type": "stream",
     "text": [
      "Tolerance reached on iteration 3\n",
      "Diff function = 0.0\n",
      "Norm diff x = 0.0\n",
      "f* = 0.0\n",
      "Optimal value PG = 0.0\n",
      "Time for PG = 0.0187690258026 sec.\n"
     ]
    }
   ],
   "source": [
    "pg = ssopt.ProjGD(maxiter=200, tol=1e-10)\n",
    "hist_pg = []\n",
    "def callback_pg(x):\n",
    "    hist_pg.append(x)\n",
    "res = pg.solve(f, grad_f, projection, x0, {\"A\": A, \"b\": b, \"callback\": callback_pg, \"disp\": 0})\n",
    "x_pg = res[\"x\"]\n",
    "time_pg = res[\"time\"]\n",
    "print(\"Optimal value PG =\", f(x_pg, {\"A\": A, \"b\": b}))\n",
    "print(\"Time for PG =\", time_pg, \"sec.\")"
   ]
  },
  {
   "cell_type": "code",
   "execution_count": 19,
   "metadata": {
    "slideshow": {
     "slide_type": "slide"
    }
   },
   "outputs": [
    {
     "data": {
      "image/png": "[encoded data removed]",
      "text/plain": [
       "<matplotlib.figure.Figure at 0x7fdbdc2f18d0>"
      ]
     },
     "metadata": {},
     "output_type": "display_data"
    }
   ],
   "source": [
    "y_hist_f_cg = [f(x, {\"A\": A, \"b\": b}) for x in hist_cg]\n",
    "y_hist_f_pg = [f(x, {\"A\": A, \"b\": b}) for x in hist_pg]\n",
    "myplot({\"CG\": range(1, len(y_hist_f_cg) + 1), \"PG\": range(1, len(y_hist_f_pg) + 1)},\n",
    "       {\"CG\": y_hist_f_cg, \"PG\": y_hist_f_pg}, \"Number of iteration\", r\"Objective function\")"
   ]
  },
  {
   "cell_type": "markdown",
   "metadata": {
    "slideshow": {
     "slide_type": "slide"
    }
   },
   "source": [
    "### Зависимость времени и числа итераций от точности"
   ]
  },
  {
   "cell_type": "code",
   "execution_count": 20,
   "metadata": {
    "slideshow": {
     "slide_type": "slide"
    }
   },
   "outputs": [],
   "source": [
    "eps = [10**(-i) for i in xrange(8)]\n",
    "time_pg = np.zeros(len(eps))\n",
    "time_cg = np.zeros(len(eps))\n",
    "iter_pg = np.zeros(len(eps))\n",
    "iter_cg = np.zeros(len(eps))\n",
    "for i, tol in enumerate(eps):\n",
    "    pg = ssopt.ProjGD(maxiter=None, tol=tol)\n",
    "    res = pg.solve(f, grad_f, projection, x0, {\"A\": A, \"b\": b, \"disp\": -1})\n",
    "    time_pg[i] = res[\"time\"]\n",
    "    iter_pg[i] = res[\"num_iter\"]\n",
    "    cg = ssopt.CondGD(maxiter=None, tol=tol)\n",
    "    res = cg.solve(f, grad_f, linsolver, x0, {\"A\": A, \"b\": b, \"disp\": -1})\n",
    "    time_cg[i] = res[\"time\"]\n",
    "    iter_cg[i] = res[\"num_iter\"]"
   ]
  },
  {
   "cell_type": "code",
   "execution_count": 21,
   "metadata": {
    "slideshow": {
     "slide_type": "slide"
    }
   },
   "outputs": [
    {
     "data": {
      "image/png": "[encoded data removed]",
      "text/plain": [
       "<matplotlib.figure.Figure at 0x7fdbdc398490>"
      ]
     },
     "metadata": {},
     "output_type": "display_data"
    }
   ],
   "source": [
    "myplot({\"CG\":eps, \"PG\": eps}, {\"CG\": time_cg, \"PG\": time_pg}, \n",
    "       r\"Accuracy, $\\varepsilon$\", \"Time, s\", xscale=\"log\")"
   ]
  },
  {
   "cell_type": "code",
   "execution_count": 22,
   "metadata": {
    "slideshow": {
     "slide_type": "slide"
    }
   },
   "outputs": [
    {
     "data": {
      "image/png": "[encoded data removed]",
      "text/plain": [
       "<matplotlib.figure.Figure at 0x7fdbdc8d2850>"
      ]
     },
     "metadata": {},
     "output_type": "display_data"
    }
   ],
   "source": [
    "myplot({\"CG\":eps, \"PG\": eps}, {\"CG\": iter_cg, \"PG\": iter_pg},\n",
    "       r\"Accuracy, $\\varepsilon$\", \"Number of iteration\", xscale=\"log\")"
   ]
  },
  {
   "cell_type": "code",
   "execution_count": 23,
   "metadata": {
    "slideshow": {
     "slide_type": "slide"
    }
   },
   "outputs": [
    {
     "name": "stdout",
     "output_type": "stream",
     "text": [
      "CVX optimal value = -5.42261753831e-09\n"
     ]
    }
   ],
   "source": [
    "x = cvx.Variable(n)\n",
    "obj = cvx.Minimize(cvx.quad_form(x, A))\n",
    "constr = [cvx.norm(x, 1) <= 1, x >= 0]\n",
    "problem = cvx.Problem(objective=obj, constraints=constr)\n",
    "value = problem.solve()\n",
    "x_cvx = np.array(x.value).ravel()\n",
    "print(\"CVX optimal value =\", value)"
   ]
  },
  {
   "cell_type": "markdown",
   "metadata": {
    "slideshow": {
     "slide_type": "slide"
    }
   },
   "source": [
    "## Pro & Contra\n",
    "\n",
    "Pro\n",
    "- Оценка сходимости для функционала **не зависит** от размерности\n",
    "- Если множество - многоугольник, то $x_k$ - выпуклая комбинация $k$ вершин многоугольника - разреженная решение для $k \\ll n$\n",
    "- Сходимость по функционалу не улучшаема даже для сильно выпуклых функций\n",
    "- Упрощение понятия \"простое множество\"\n",
    "\n",
    "Contra\n",
    "- Сходимость по функционалу только сублинейная вида $\\frac{C}{k}$\n",
    "- Не обобщается на негладкие задачи"
   ]
  },
  {
   "cell_type": "markdown",
   "metadata": {
    "slideshow": {
     "slide_type": "slide"
    }
   },
   "source": [
    "## Резюме\n",
    "- Множество простой структуры\n",
    "- Проекция\n",
    "- Метод проекции градиента\n",
    "- Метод условного градиента"
   ]
  }
 ],
 "metadata": {
  "celltoolbar": "Slideshow",
  "kernelspec": {
   "display_name": "Python [conda env:cvxpy]",
   "language": "python",
   "name": "conda-env-cvxpy-py"
  },
  "language_info": {
   "codemirror_mode": {
    "name": "ipython",
    "version": 2
   },
   "file_extension": ".py",
   "mimetype": "text/x-python",
   "name": "python",
   "nbconvert_exporter": "python",
   "pygments_lexer": "ipython2",
   "version": "2.7.13"
  }
 },
 "nbformat": 4,
 "nbformat_minor": 2
}
