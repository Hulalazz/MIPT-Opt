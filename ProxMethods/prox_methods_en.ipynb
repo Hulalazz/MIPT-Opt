{
 "cells": [
  {
   "cell_type": "markdown",
   "metadata": {
    "slideshow": {
     "slide_type": "slide"
    }
   },
   "source": [
    "# Introduction to proximal methods "
   ]
  },
  {
   "cell_type": "markdown",
   "metadata": {
    "slideshow": {
     "slide_type": "slide"
    }
   },
   "source": [
    "## Gradient descent as forward Euler scheme\n",
    "\n",
    "Consider the following ODE\n",
    "$$\n",
    "\\frac{dx}{dt} = -f'(x(t))\n",
    "$$\n",
    "and after discretization\n",
    "\n",
    "$$\n",
    "\\frac{x_{k+1} - x_k}{\\alpha} = -f'(x_k),\n",
    "$$\n",
    "\n",
    "where $\\alpha = t_{k+1} - t_k$ is a grid step and $x_k \\equiv x(t_k)$\n",
    "\n",
    "From this follows \n",
    "\n",
    "$$\n",
    "x_{k+1} = x_k - \\alpha f'(x_k),\n",
    "$$\n",
    "\n",
    "which is equivalent to gradient descent method"
   ]
  },
  {
   "cell_type": "markdown",
   "metadata": {
    "slideshow": {
     "slide_type": "slide"
    }
   },
   "source": [
    "### Properties of forward Euler scheme\n",
    "\n",
    "- Easy to use\n",
    "- Can be unstable if $\\alpha$ is too large, which is natural drawback of gradient descent with large step size\n",
    "- Stability issue can be solved with **backward Euler scheme**"
   ]
  },
  {
   "cell_type": "markdown",
   "metadata": {
    "slideshow": {
     "slide_type": "slide"
    }
   },
   "source": [
    "## Proximal method as backward Euler scheme\n",
    "\n",
    "$$\n",
    "\\frac{dx}{dt} = -f'(x(t))\n",
    "$$\n",
    "\n",
    "and after discretization in backward manner\n",
    "\n",
    "$$\n",
    "\\frac{x_{k+1} - x_k}{\\alpha} = -f'({\\color{red}{x_{k+1}}}),\n",
    "$$\n",
    "\n",
    "After some re-arrangements\n",
    "\\begin{align*}\n",
    "& \\left(\\frac{1}{2\\alpha} \\|u - x_k\\|_2^2 + f(u) \\right)'(x_{k+1}) = 0 \\\\\n",
    "& x_{k+1} = \\arg\\min_u \\left(f(u) + \\frac{1}{2\\alpha} \\|u - x_k\\|_2^2\\right) = prox_{\\alpha f}(x_k)\n",
    "\\end{align*}\n",
    "\n"
   ]
  },
  {
   "cell_type": "markdown",
   "metadata": {
    "slideshow": {
     "slide_type": "slide"
    }
   },
   "source": [
    "### Example: iterative refinement\n",
    "\n",
    "The method to solve positive semi-definite linear system given Cholesky factorization of $A + \\epsilon I$ for some $\\epsilon$\n",
    "$$\n",
    "f(x) = \\frac{1}{2}x^{\\top}Ax - b^{\\top}x \\to \\min_x,\n",
    "$$\n",
    "where $A \\in \\mathbb{S}^n_+$\n",
    "\n",
    "\\begin{align*}\n",
    "prox_{\\alpha f} (x_k) & = \\arg\\min_u \\left(\\frac{1}{2}u^{\\top}Au - b^{\\top}u + \\frac{1}{2\\alpha} \\|u - x_k\\|_2^2\\right) \\\\\n",
    "& = \\left(A + (1/ \\alpha) I\\right)^{-1}\\left(b + (1 / \\alpha)x_k\\right) \\\\\n",
    "& = x_k + (A + \\epsilon I)^{-1}(b - Ax_k)\n",
    "\\end{align*}\n"
   ]
  },
  {
   "cell_type": "markdown",
   "metadata": {
    "slideshow": {
     "slide_type": "slide"
    }
   },
   "source": [
    "### Properties of proximal map \n",
    "$$\n",
    "x_{k+1} = prox_{f}(x_k)\n",
    "$$\n",
    "\n",
    "1. Fixed point of proximal operator is equal to minimizer of $f$\n",
    "\n",
    "$$\n",
    "x^* = prox_f(x^*)\n",
    "$$ \n",
    "\n",
    "Proximal map is not a contraction\n",
    "\n",
    "There exists theory on firm non-expansiveness of proximal operator\n",
    "\n",
    "2. Resolvent of operator\n",
    "\n",
    "$$\n",
    "prox_{\\alpha f}(x) = (I + \\alpha f')^{-1}(x)\n",
    "$$\n",
    "\n",
    "This property can be extended to subdifferential."
   ]
  },
  {
   "cell_type": "markdown",
   "metadata": {
    "slideshow": {
     "slide_type": "slide"
    }
   },
   "source": [
    "### Modified gradient step interpretation\n",
    "\n",
    "Assume $f$ is twice differentiable and strong convex ($f''(x) \\succ 0$).\n",
    "\n",
    "1. Gradient method as approximation of proximal method\n",
    "\n",
    "$$\n",
    "x_{k+1} = prox_{\\alpha f} (x_k) = (I + \\alpha f')^{-1}(x_k) \\approx x_k - \\alpha f'(x_k) + o(\\alpha), \\; \\alpha \\to 0  \n",
    "$$\n",
    "\n",
    "2. Proximal method for second-order approximation $\\hat{f}(v) = f(x) + \\langle f'(x), v - x \\rangle + \\frac{1}{2}\\langle v - x, f''(x) (v - x) \\rangle$\n",
    "\n",
    "$$\n",
    "prox_{\\alpha \\hat{f}}(x_k) = x_k - (f''(x_k) + (1 / \\alpha)I)^{-1}f'(x_k) \n",
    "$$"
   ]
  },
  {
   "cell_type": "markdown",
   "metadata": {
    "slideshow": {
     "slide_type": "slide"
    }
   },
   "source": [
    "### Separable sum\n",
    "\n",
    "If $f$ has the form\n",
    "\n",
    "$$\n",
    "f(x) = \\sum_{i=1}^n f_i(x_i)\n",
    "$$\n",
    "\n",
    "then \n",
    "$$\n",
    "prox_f(v)_i = prox_{f_i}(v_i)\n",
    "$$\n",
    "\n",
    "- High parallelization of the proximal operator computing \n",
    "- **Consensus form** of the problem\n",
    "$$\n",
    "\\min \\sum_{i=1}^n f_i(x) \\to \\min \\sum_{i=1}^n f_i(x_i), \\; \\text{s.t. } x_1 = \\ldots = x_n\n",
    "$$"
   ]
  },
  {
   "cell_type": "markdown",
   "metadata": {
    "slideshow": {
     "slide_type": "slide"
    }
   },
   "source": [
    "## Proximal gradient method (PGM)\n",
    "\n",
    "Consider convex function $f$ such that\n",
    "\n",
    "$$\n",
    "f(x) = h(x) + g(x),\n",
    "$$\n",
    "\n",
    "where $h(x)$ is convex differentiable, and $g(x)$ can be convex extended-value function, so $g: \\mathbb{R}^n \\to \\mathbb{R} \\cup \\{+\\infty\\}$\n",
    "\n",
    "Then the one step of the proximal gradient method is\n",
    "\n",
    "$$\n",
    "x_{k+1} = prox_{\\alpha_k g} (x_k - \\alpha_k h'(x_k))\n",
    "$$\n",
    "\n",
    "- Convergence rate $\\mathcal{O}(1/k)$ for step size $\\alpha_k \\equiv \\alpha \\in (0, 1/L]$, where $L$ is Lipschitz constant of $f'$\n",
    "- Backtracking procedure is available for adaptive search of $\\alpha_k$"
   ]
  },
  {
   "cell_type": "markdown",
   "metadata": {
    "slideshow": {
     "slide_type": "slide"
    }
   },
   "source": [
    "### Pacticular cases of PGM\n",
    "\n",
    "- If $g(x)$ is an indicator function of some convex sets $G$\n",
    "$$\n",
    "g(x) = \\begin{cases} 0 & x \\in G \\\\ +\\infty & x \\not\\in G   \\end{cases}\n",
    "$$\n",
    "\n",
    "PGM is projected gradient method since\n",
    "\n",
    "$$\n",
    "prox_{g} (y) = \\arg\\min_{u \\in G} (\\| y - u\\|^2_2) \\equiv \\pi_G(y)\n",
    "$$\n",
    "\n",
    "- If $h \\equiv 0$, then PGM is simple proximal method\n",
    "- If $g \\equiv 0$, then PGM is vanilla gradient descent method "
   ]
  },
  {
   "cell_type": "markdown",
   "metadata": {
    "slideshow": {
     "slide_type": "slide"
    }
   },
   "source": [
    "### Fixed point iteration interpretation\n",
    "\n",
    "From the first-order optimality condition follows\n",
    "\n",
    "\\begin{align*}\n",
    "& 0 \\in \\alpha h'(x^*) + \\alpha\\partial g(x^*)\\\\\n",
    "& 0 \\in \\alpha h'(x^*) + x^* - x^* + \\alpha\\partial g(x^*)\\\\\n",
    "& (I - \\alpha h')(x^*) \\in (I + \\alpha \\partial g)(x^*)\\\\\n",
    "& x^* = (I + \\alpha \\partial g)^{-1}(I - \\alpha h')(x^*)\\\\\n",
    "& x^* = prox_{\\alpha g}(x^* - \\alpha h'(x^*))\n",
    "\\end{align*}"
   ]
  },
  {
   "cell_type": "markdown",
   "metadata": {
    "slideshow": {
     "slide_type": "slide"
    }
   },
   "source": [
    "## Accelerated proximal gradient method\n",
    "\n",
    "\\begin{align*}\n",
    "& y_{k+1} = x_k + w_k (x_k - x_{k+1})\\\\\n",
    "& x_{k+1} = prox_{\\alpha_k g} (y_{k+1} - \\alpha_k h'(y_{k+1}))\n",
    "\\end{align*}\n",
    "\n",
    "- $\\{w_k\\}$ is special sequence that has to be chosen to accelerate convergence, for example $w_k = \\frac{k}{k+3}$\n",
    "- Similar backtracking procedure is helpful for adaptive search $\\alpha_k$\n",
    "- Convergence rate $\\mathcal{O}(1/k^2)$ which is tight lower bound for convex function"
   ]
  },
  {
   "cell_type": "markdown",
   "metadata": {
    "slideshow": {
     "slide_type": "slide"
    }
   },
   "source": [
    "## Examples\n",
    "\n",
    "- Lasso\n",
    "- Matrix decomposition"
   ]
  },
  {
   "cell_type": "markdown",
   "metadata": {
    "slideshow": {
     "slide_type": "slide"
    }
   },
   "source": [
    "### Lasso\n",
    "\n",
    "$$\n",
    "\\min_x \\frac{1}{2}\\|Ax - y \\|^2_2 + \\gamma \\|x\\|_1\n",
    "$$\n",
    "\n",
    "- $h(x) = \\frac{1}{2}\\|Ax - y \\|^2_2$\n",
    "- $g(x) = \\gamma \\|x\\|_1$"
   ]
  },
  {
   "cell_type": "markdown",
   "metadata": {
    "slideshow": {
     "slide_type": "slide"
    }
   },
   "source": [
    "####  Soft thresholding\n",
    "\n",
    "- $\\|x\\|_1 = |x_1| + \\ldots + |x_n|$\n",
    "- Separable sum\n",
    "- $prox_{\\alpha \\|x\\|_1} (x)_i = prox_{\\alpha |\\cdot|}(x_i)$\n",
    "- $prox_{\\alpha |\\cdot|} (x_i) = \\arg\\min_u (|u| + 1/(2\\alpha)\\|x_i - u\\|^2_2)$\n",
    "- Analytical solution\n",
    "$$ \n",
    "prox_{\\alpha |\\cdot|} (x_i) = \\begin{cases} x_i - \\alpha & x_i \\geq \\alpha  \\\\ 0 & |x_i| \\leq \\alpha \\\\ x_i + \\alpha & x_i \\leq -\\alpha \\end{cases}\n",
    "$$\n",
    "- Vectorized form\n",
    "$$\n",
    "prox_{\\alpha \\|x\\|_1} (x) = \\text{sign}(x)(|x| - \\alpha)_+, \\; |x| = (|x_1|, \\ldots, |x_n|)\n",
    "$$"
   ]
  },
  {
   "cell_type": "markdown",
   "metadata": {
    "slideshow": {
     "slide_type": "slide"
    }
   },
   "source": [
    "####  (F)ISTA\n",
    "\n",
    "- Proximal gradient method for Lasso problem is known as ISTA (Iterative shrinkage-thresholding algorithm)\n",
    "- Fast proximal gradient is known as FISTA (Fast ISTA)"
   ]
  },
  {
   "cell_type": "markdown",
   "metadata": {
    "slideshow": {
     "slide_type": "slide"
    }
   },
   "source": [
    "### Experiments"
   ]
  },
  {
   "cell_type": "code",
   "execution_count": 1,
   "metadata": {
    "slideshow": {
     "slide_type": "slide"
    }
   },
   "outputs": [],
   "source": [
    "import numpy as np\n",
    "import matplotlib.pyplot as plt\n",
    "%matplotlib inline\n",
    "plt.rc(\"text\", usetex=True)\n",
    "import cvxpy as cvx"
   ]
  },
  {
   "cell_type": "code",
   "execution_count": 2,
   "metadata": {
    "slideshow": {
     "slide_type": "slide"
    }
   },
   "outputs": [],
   "source": [
    "def prox_alg(f, f_grad, g_prox, x0, num_iter, beta=0.5, fix_lam=None, accel=False):\n",
    "    conv = [x0]\n",
    "    x = x0.copy()\n",
    "    if accel:\n",
    "        t_prev = 1\n",
    "        t_next = (1 + np.sqrt(1 + 4 * t_prev**2)) / 2.\n",
    "    if fix_lam is None:\n",
    "        lam = 1.\n",
    "    for i in range(num_iter):\n",
    "        if accel and i > 0:\n",
    "            x = x + (t_prev - 1) / t_next * (x - conv[-2])\n",
    "            t_prev = t_next\n",
    "            t_next = (1 + np.sqrt(1 + 4 * t_prev**2)) / 2.\n",
    "        if fix_lam is None:\n",
    "            while True:\n",
    "                z = g_prox(x - lam * f_grad(x), lam)\n",
    "                if f(z) <= f(x) + f_grad(x).dot(z - x) + np.linalg.norm(z - x)**2 / (2 * lam):\n",
    "                    break\n",
    "                else:\n",
    "                    lam = lam * beta\n",
    "        else:\n",
    "            z = g_prox(x - fix_lam * f_grad(x), fix_lam)\n",
    "        x = z.copy()\n",
    "        conv.append(x)\n",
    "    return x, conv"
   ]
  },
  {
   "cell_type": "code",
   "execution_count": 3,
   "metadata": {
    "slideshow": {
     "slide_type": "slide"
    }
   },
   "outputs": [],
   "source": [
    "f = lambda x: np.linalg.norm(A.dot(x) - y)**2 / 2\n",
    "f_grad = lambda x: A.T.dot(A.dot(x) - y)\n",
    "def g_prox(h, lam):\n",
    "    return np.sign(h) * np.maximum(np.abs(h) - lam * gamma, 0) "
   ]
  },
  {
   "cell_type": "code",
   "execution_count": 4,
   "metadata": {
    "slideshow": {
     "slide_type": "slide"
    }
   },
   "outputs": [
    {
     "name": "stdout",
     "output_type": "stream",
     "text": [
      "Number of nonzeros in x_true = 95\n",
      "Gamma = 0.35823624569136425\n",
      "S2N ratio = 8.164268408617884\n"
     ]
    }
   ],
   "source": [
    "import sklearn.preprocessing as skprep\n",
    "m = 500\n",
    "n = 2500\n",
    "A = np.random.rand(m, n)\n",
    "A = skprep.normalize(A, norm=\"l2\", axis=0)\n",
    "L = np.linalg.eigvalsh(A.T.dot(A)).max()\n",
    "x_true = np.random.randn(n)\n",
    "x_true[np.random.rand(n) < 0.96] = 0\n",
    "print(\"Number of nonzeros in x_true = {}\".format(np.sum(x_true != 0)))\n",
    "v = 9e-2 * np.random.randn(m)\n",
    "y = A.dot(x_true) + v\n",
    "gamma_max = np.linalg.norm(A.T.dot(y), ord=np.inf)\n",
    "gamma = 0.1 * gamma_max\n",
    "print(\"Gamma = {}\".format(gamma))\n",
    "print(\"S2N ratio = {}\".format(np.linalg.norm(A.dot(x_true))**2 / np.linalg.norm(v)**2))\n",
    "f_star = f(x_true) + gamma*np.linalg.norm(x_true, 1)"
   ]
  },
  {
   "cell_type": "code",
   "execution_count": 5,
   "metadata": {
    "slideshow": {
     "slide_type": "slide"
    }
   },
   "outputs": [
    {
     "name": "stdout",
     "output_type": "stream",
     "text": [
      "CVXPy optimal value = 12.77660417075663\n"
     ]
    }
   ],
   "source": [
    "x_c = cvx.Variable(n)\n",
    "lambd = cvx.Parameter(sign=\"Positive\")\n",
    "lambd.value = gamma\n",
    "problem = cvx.Problem(cvx.Minimize(lambd * cvx.norm1(x_c) + 0.5 * cvx.sum_squares(A * x_c - y)))\n",
    "problem.solve(solver=\"SCS\", verbose=False, eps=1e-5)\n",
    "x_cvx = np.array(x_c.value).ravel()\n",
    "print(\"CVXPy optimal value = {}\".format(problem.value))"
   ]
  },
  {
   "cell_type": "code",
   "execution_count": 6,
   "metadata": {
    "slideshow": {
     "slide_type": "slide"
    }
   },
   "outputs": [],
   "source": [
    "num_iter = 500\n",
    "# x0 = np.zeros(n)\n",
    "x0 = np.random.rand(n)"
   ]
  },
  {
   "cell_type": "code",
   "execution_count": 7,
   "metadata": {
    "slideshow": {
     "slide_type": "slide"
    }
   },
   "outputs": [
    {
     "name": "stdout",
     "output_type": "stream",
     "text": [
      "Number nonzeros in x* = 2068\n",
      "f* = 161.7646389628865\n",
      "Number nonzeros in x* = 20\n",
      "f* = 12.797441609374895\n"
     ]
    }
   ],
   "source": [
    "x, conv = prox_alg(f, f_grad, g_prox, x0, num_iter, fix_lam=None)\n",
    "print(\"Number nonzeros in x* = {}\".format(np.sum(x != 0)))\n",
    "print(\"f* = {}\".format(f(x) + gamma * np.linalg.norm(x, 1)))\n",
    "x_acc, conv_acc = prox_alg(f, f_grad, g_prox, x0, num_iter, fix_lam=None, accel=True)\n",
    "print(\"Number nonzeros in x* = {}\".format(np.sum(x_acc != 0)))\n",
    "print(\"f* = {}\".format(f(x_acc) + gamma * np.linalg.norm(x_acc, 1)))"
   ]
  },
  {
   "cell_type": "code",
   "execution_count": 8,
   "metadata": {
    "slideshow": {
     "slide_type": "slide"
    }
   },
   "outputs": [
    {
     "data": {
      "image/png": "[encoded data removed]",
      "text/plain": [
       "<matplotlib.figure.Figure at 0x1a0b87ff60>"
      ]
     },
     "metadata": {},
     "output_type": "display_data"
    }
   ],
   "source": [
    "plt.figure(figsize=(10, 8))\n",
    "fontsize=25\n",
    "plt.plot([f(x) + gamma * np.linalg.norm(x, 1) for x in conv], label=\"ISTA\")\n",
    "plt.plot([f(x) + gamma * np.linalg.norm(x, 1) for x in conv_acc], label=\"FISTA\")\n",
    "plt.legend(fontsize=fontsize)\n",
    "plt.xlabel(r\"Number of iterations, $k$\", fontsize=fontsize)\n",
    "plt.ylabel(r\"Lasso objective, $h(x_k) + g(x_k)$\", fontsize=fontsize)\n",
    "plt.xticks(fontsize=fontsize)\n",
    "_ = plt.yticks(fontsize=fontsize)\n",
    "plt.yscale(\"log\")"
   ]
  },
  {
   "cell_type": "markdown",
   "metadata": {
    "slideshow": {
     "slide_type": "slide"
    }
   },
   "source": [
    "### Matrix decomposition\n",
    "\n",
    "\\begin{align*}\n",
    "& \\min \\phi_1(X_1) + \\gamma_2 \\phi_2(X_2) + \\ldots + \\gamma_N \\phi_N(X_N) \\\\\n",
    "\\text{s.t. } & X_1 + \\ldots + X_N = A\n",
    "\\end{align*}\n",
    "\n",
    "- Decompose matrix in the sum of well-structured matrices\n",
    "- [Robust PCA](http://www.princeton.edu/~yc5/ele538b_sparsity/lectures/robust_PCA.pdf): $A = L + S$, where \n",
    "    - $L$ is low-rank\n",
    "    - $S$ is sparse"
   ]
  },
  {
   "cell_type": "markdown",
   "metadata": {
    "slideshow": {
     "slide_type": "slide"
    }
   },
   "source": [
    "### Some penalties and structures being induced by them\n",
    "\n",
    "- Squared Frobenius norm gives small entries of $X$\n",
    "$$\n",
    "\\phi(X) = \\sum_{i,j} X^2_{ij}\n",
    "$$\n",
    "- Entrywise $\\ell_1$ norm leads to sparsity of $X$\n",
    "$$\n",
    "\\phi(X) = \\sum_{i,j} |X_{ij}|\n",
    "$$\n",
    "- Nuclear norm gives low-rank matrix $X$ \n",
    "$$\n",
    "\\phi(X) = \\|X\\|_* = \\sum_{i=1}^n \\sigma_i(X)\n",
    "$$"
   ]
  },
  {
   "cell_type": "code",
   "execution_count": 9,
   "metadata": {
    "slideshow": {
     "slide_type": "slide"
    }
   },
   "outputs": [],
   "source": [
    "import copy\n",
    "\n",
    "def prox_alg_mat(f, f_grad, g_prox, X0, num_iter, beta=0.5, fix_lam=None, accel=False):\n",
    "    conv = [X0]\n",
    "    X = copy.copy(X0)\n",
    "    if accel:\n",
    "        t_prev = 1\n",
    "        t_next = (1 + np.sqrt(1 + 4 * t_prev**2)) / 2.\n",
    "    if fix_lam is None:\n",
    "        lam = 1.\n",
    "    Z = [[] for X in X0]\n",
    "    for i in range(num_iter):\n",
    "        if accel and i > 0:\n",
    "            for i in range(len(X)):\n",
    "                X[i] = X[i] + (t_prev - 1) / t_next * (X[i] - conv[-2][i])\n",
    "            t_prev = t_next\n",
    "            t_next = (1 + np.sqrt(1 + 4 * t_prev**2)) / 2.\n",
    "        if fix_lam is None:\n",
    "            current_f = f(X)\n",
    "            current_grad = []\n",
    "            for grad in f_grad:\n",
    "                current_grad.append(grad(X))\n",
    "            while True:\n",
    "                for i, g in enumerate(g_prox):\n",
    "                    Z[i] = g(X[i] - lam * current_grad[i], lam)\n",
    "                lin_term = 0\n",
    "                for i in range(len(Z)):\n",
    "                    lin_term += np.trace(current_grad[i].T.dot(Z[i] - X[i]))\n",
    "                quad_term = 0\n",
    "                for i in range(len(Z)):\n",
    "                    quad_term += np.linalg.norm(Z[i] - X[i])**2\n",
    "                if f(Z) <= current_f + lin_term + quad_term / (2 * lam):\n",
    "                    break\n",
    "                else:\n",
    "                    lam = lam * beta\n",
    "        else:\n",
    "            for i, g in enumerate(g_prox):\n",
    "                Z[i] = g(X[i] - fix_lam * f_grad[i](X), fix_lam)\n",
    "        X = copy.copy(Z)\n",
    "        conv.append(X)\n",
    "    return X, conv"
   ]
  },
  {
   "cell_type": "code",
   "execution_count": 10,
   "metadata": {
    "slideshow": {
     "slide_type": "slide"
    }
   },
   "outputs": [
    {
     "name": "stdout",
     "output_type": "stream",
     "text": [
      "995\n",
      "28.21177975455779\n",
      "2.5243259406441365\n"
     ]
    }
   ],
   "source": [
    "m = 100\n",
    "n = 100\n",
    "rank = 4\n",
    "L = np.random.randn(m, rank).dot(np.random.randn(rank, n))\n",
    "S = 20 * np.random.rand(m * n) - 10\n",
    "S[np.random.rand(m*n) < 0.9] = 0\n",
    "print(np.sum(S != 0))\n",
    "S = S.reshape(m, n)\n",
    "V = 0.05 * np.random.randn(m, n)\n",
    "A = L + S + V\n",
    "max_gamma_3 = np.linalg.norm(A, ord=\"nuc\")\n",
    "gamma_3 = 0.015 * max_gamma_3\n",
    "print(gamma_3)\n",
    "max_gamma_2 = np.max(np.abs(A))\n",
    "gamma_2 = 0.15 * max_gamma_2\n",
    "print(gamma_2)"
   ]
  },
  {
   "cell_type": "code",
   "execution_count": 11,
   "metadata": {
    "slideshow": {
     "slide_type": "slide"
    }
   },
   "outputs": [
    {
     "name": "stdout",
     "output_type": "stream",
     "text": [
      "----------------------------------------------------------------------------\n",
      "\tSCS v1.2.6 - Splitting Conic Solver\n",
      "\t(c) Brendan O'Donoghue, Stanford University, 2012-2016\n",
      "----------------------------------------------------------------------------\n",
      "Lin-sys: sparse-indirect, nnz in A = 139902, CG tol ~ 1/iter^(2.00)\n",
      "eps = 1.00e-05, alpha = 1.50, max_iters = 3000, normalize = 1, scale = 1.00\n",
      "Variables n = 70001, constraints m = 80002\n",
      "Cones:\tprimal zero / dual free vars: 29900\n",
      "\tlinear vars: 20000\n",
      "\tsoc vars: 10002, soc blks: 1\n",
      "\tsd vars: 20100, sd blks: 1\n",
      "Setup time: 1.33e-02s\n",
      "----------------------------------------------------------------------------\n",
      " Iter | pri res | dua res | rel gap | pri obj | dua obj | kap/tau | time (s)\n",
      "----------------------------------------------------------------------------\n",
      "     0|      inf       inf       nan      -inf       inf       inf  4.12e-02 \n",
      "   100| 5.64e-03  1.15e-02  1.41e-02  1.94e+04  2.00e+04  6.92e-12  2.33e+00 \n",
      "   200| 5.54e-04  1.14e-03  1.39e-03  1.98e+04  1.98e+04  5.05e-12  4.62e+00 \n",
      "   300| 5.28e-05  8.89e-05  1.01e-04  1.98e+04  1.98e+04  5.22e-12  6.87e+00 \n",
      "   400| 3.55e-05  2.36e-05  1.08e-05  1.98e+04  1.98e+04  5.23e-12  9.01e+00 \n",
      "   500| 3.48e-05  2.10e-05  4.52e-06  1.98e+04  1.98e+04  5.23e-12  1.11e+01 \n",
      "   600| 3.42e-05  2.05e-05  4.07e-06  1.98e+04  1.98e+04  5.23e-12  1.32e+01 \n",
      "   700| 3.36e-05  2.02e-05  3.98e-06  1.98e+04  1.98e+04  5.24e-12  1.53e+01 \n",
      "   800| 3.30e-05  1.98e-05  3.90e-06  1.98e+04  1.98e+04  5.24e-12  1.74e+01 \n",
      "   900| 3.25e-05  1.95e-05  3.84e-06  1.98e+04  1.98e+04  5.24e-12  1.96e+01 \n",
      "  1000| 3.19e-05  1.91e-05  3.77e-06  1.98e+04  1.98e+04  5.24e-12  2.18e+01 \n",
      "  1100| 3.14e-05  1.88e-05  3.71e-06  1.98e+04  1.98e+04  5.24e-12  2.40e+01 \n",
      "  1200| 3.08e-05  1.85e-05  3.65e-06  1.98e+04  1.98e+04  5.24e-12  2.62e+01 \n",
      "  1300| 3.03e-05  1.81e-05  3.58e-06  1.98e+04  1.98e+04  5.25e-12  2.85e+01 \n",
      "  1400| 2.98e-05  1.78e-05  3.52e-06  1.98e+04  1.98e+04  5.25e-12  3.07e+01 \n",
      "  1500| 2.93e-05  1.75e-05  3.46e-06  1.98e+04  1.98e+04  5.25e-12  3.31e+01 \n",
      "  1600| 2.88e-05  1.72e-05  3.40e-06  1.98e+04  1.98e+04  5.25e-12  3.56e+01 \n",
      "  1700| 2.83e-05  1.69e-05  3.34e-06  1.98e+04  1.98e+04  5.25e-12  3.78e+01 \n",
      "  1800| 2.78e-05  1.66e-05  3.28e-06  1.98e+04  1.98e+04  5.25e-12  4.03e+01 \n",
      "  1900| 2.73e-05  1.63e-05  3.23e-06  1.98e+04  1.98e+04  5.26e-12  4.30e+01 \n",
      "  2000| 2.69e-05  1.60e-05  3.17e-06  1.98e+04  1.98e+04  5.26e-12  4.54e+01 \n",
      "  2100| 2.64e-05  1.58e-05  3.12e-06  1.98e+04  1.98e+04  5.26e-12  4.81e+01 \n",
      "  2200| 2.59e-05  1.55e-05  3.06e-06  1.98e+04  1.98e+04  5.26e-12  5.10e+01 \n",
      "  2300| 2.55e-05  1.52e-05  3.01e-06  1.98e+04  1.98e+04  5.26e-12  5.38e+01 \n",
      "  2400| 2.51e-05  1.50e-05  2.96e-06  1.98e+04  1.98e+04  5.26e-12  5.61e+01 \n",
      "  2500| 2.46e-05  1.47e-05  2.90e-06  1.98e+04  1.98e+04  5.26e-12  5.84e+01 \n",
      "  2600| 2.42e-05  1.44e-05  2.85e-06  1.98e+04  1.98e+04  5.27e-12  6.08e+01 \n",
      "  2700| 2.38e-05  1.42e-05  2.81e-06  1.98e+04  1.98e+04  5.27e-12  6.32e+01 \n",
      "  2800| 2.34e-05  1.40e-05  2.76e-06  1.98e+04  1.98e+04  5.27e-12  6.55e+01 \n",
      "  2900| 2.30e-05  1.37e-05  2.71e-06  1.98e+04  1.98e+04  5.27e-12  6.78e+01 \n",
      "  3000| 2.26e-05  1.35e-05  2.66e-06  1.98e+04  1.98e+04  5.27e-12  7.01e+01 \n",
      "----------------------------------------------------------------------------\n",
      "Status: Solved/Inaccurate\n",
      "Hit max_iters, solution may be inaccurate\n",
      "Timing: Solve time: 7.01e+01s\n",
      "\tLin-sys: avg # CG iterations: 6.56, avg solve time: 7.43e-03s\n",
      "\tCones: avg projection time: 1.44e-02s\n",
      "----------------------------------------------------------------------------\n",
      "Error metrics:\n",
      "dist(s, K) = 2.4261e-08, dist(y, K*) = 5.3425e-10, s'y/|s||y| = -2.2977e-13\n",
      "|Ax + s - b|_2 / (1 + |b|_2) = 2.2611e-05\n",
      "|A'y + c|_2 / (1 + |c|_2) = 1.3478e-05\n",
      "|c'x + b'y| / (1 + |c'x| + |b'y|) = 2.6650e-06\n",
      "----------------------------------------------------------------------------\n",
      "c'x = 19806.7591, -b'y = 19806.8647\n",
      "============================================================================\n",
      "CVXPy optimal value = 19806.75914527093\n",
      "Rank of lowrank term = 100\n"
     ]
    }
   ],
   "source": [
    "L_c = cvx.Variable(m, n)\n",
    "S_c = cvx.Variable(m, n)\n",
    "problem = cvx.Problem(cvx.Minimize(0.5 * cvx.sum_squares(A  - (L_c + S_c)) + gamma_2 * cvx.norm(S_c, 1) + \n",
    "                                  gamma_3 * cvx.norm(L_c, \"nuc\")))\n",
    "problem.solve(solver=\"SCS\", verbose=True, eps=1e-5, max_iters=3000, use_indirect=True)\n",
    "L_cvx = np.array(L_c.value)\n",
    "S_cvx = np.array(S_c.value)\n",
    "print(\"CVXPy optimal value = {}\".format(problem.value))\n",
    "print(\"Rank of lowrank term = {}\".format(np.linalg.matrix_rank(L_cvx)))"
   ]
  },
  {
   "cell_type": "code",
   "execution_count": 12,
   "metadata": {
    "slideshow": {
     "slide_type": "slide"
    }
   },
   "outputs": [],
   "source": [
    "def f(X):\n",
    "    Y = np.zeros_like(X[0])\n",
    "    for y in X:\n",
    "        Y = Y + y\n",
    "    return np.linalg.norm(A - Y, ord=\"fro\")**2 * 0.5\n",
    "\n",
    "def grad_f_L(X):\n",
    "    return X[0] + X[1] - A\n",
    "\n",
    "def grad_f_S(X):\n",
    "    return X[0] + X[1] - A\n",
    "\n",
    "f_grad = [grad_f_S, grad_f_L]\n",
    "\n",
    "def entry_l1_prox(X, lam):\n",
    "    return np.sign(X) * np.maximum(np.abs(X) - gamma_2 * lam, 0) \n",
    "\n",
    "def nuclear_norm_prox(X, lam):\n",
    "    U, sigma, V = np.linalg.svd(X)\n",
    "    return U.dot(np.diag(np.maximum(sigma - lam * gamma_3, 0))).dot(V)\n",
    "\n",
    "g_prox = [entry_l1_prox, nuclear_norm_prox]"
   ]
  },
  {
   "cell_type": "code",
   "execution_count": 13,
   "metadata": {
    "slideshow": {
     "slide_type": "slide"
    }
   },
   "outputs": [],
   "source": [
    "# X0 = [np.random.randn(m, n), np.random.randn(m, n)]\n",
    "X0 = [np.zeros((m, n)), np.zeros((m, n))]\n",
    "num_iter = 600"
   ]
  },
  {
   "cell_type": "code",
   "execution_count": 14,
   "metadata": {
    "slideshow": {
     "slide_type": "slide"
    }
   },
   "outputs": [
    {
     "name": "stdout",
     "output_type": "stream",
     "text": [
      "f* = 19942.6895636611\n",
      "Rank of the low-rank term = 4\n",
      "Number of nnz in sparse term = 932\n",
      "f* = 19777.485860074474\n",
      "Rank of the low-rank term = 4\n",
      "Number of nnz in sparse term = 780\n"
     ]
    }
   ],
   "source": [
    "step = 5e-3\n",
    "X_pm, conv = prox_alg_mat(f, f_grad, g_prox, X0, num_iter, beta=0.5, fix_lam=step, accel=False)\n",
    "print(\"f* = {}\".format(f(X_pm) + gamma_2 * np.sum(np.abs(X_pm[0])) + gamma_3 * np.linalg.norm(X_pm[1], \"nuc\")))\n",
    "print(\"Rank of the low-rank term = {}\".format(np.linalg.matrix_rank(X_pm[1])))\n",
    "print(\"Number of nnz in sparse term = {}\".format(np.sum(X_pm[0] != 0)))\n",
    "X_pm_acc, conv_acc = prox_alg_mat(f, f_grad, g_prox, X0, num_iter, beta=0.5, fix_lam=step, accel=True)\n",
    "print(\"f* = {}\".format(f(X_pm_acc) + gamma_2 * np.sum(np.abs(X_pm_acc[0])) + \n",
    "                       gamma_3 * np.linalg.norm(X_pm_acc[1], \"nuc\")))\n",
    "print(\"Rank of the low-rank term = {}\".format(np.linalg.matrix_rank(X_pm_acc[1])))\n",
    "print(\"Number of nnz in sparse term = {}\".format(np.sum(X_pm_acc[0] != 0)))"
   ]
  },
  {
   "cell_type": "code",
   "execution_count": 15,
   "metadata": {
    "slideshow": {
     "slide_type": "slide"
    }
   },
   "outputs": [
    {
     "data": {
      "image/png": "[encoded data removed]",
      "text/plain": [
       "<matplotlib.figure.Figure at 0x106c09c18>"
      ]
     },
     "metadata": {},
     "output_type": "display_data"
    }
   ],
   "source": [
    "plt.figure(figsize=(10, 8))\n",
    "fontsize=25\n",
    "plt.plot([f(X) + gamma_2 * np.sum(np.abs(X[0])) + gamma_3 * np.linalg.norm(X[1], \"nuc\") for X in conv], label=\"PGM\")\n",
    "plt.plot([f(X) + gamma_2 * np.sum(np.abs(X[0])) + gamma_3 * np.linalg.norm(X[1], \"nuc\") for X in conv_acc], label=\"FPGM\")\n",
    "plt.legend(fontsize=fontsize)\n",
    "plt.xlabel(r\"Number of iterations, $k$\", fontsize=fontsize)\n",
    "plt.ylabel(r\"Objective\", fontsize=fontsize)\n",
    "plt.xticks(fontsize=fontsize)\n",
    "_ = plt.yticks(fontsize=fontsize)\n",
    "plt.yscale(\"log\")"
   ]
  },
  {
   "cell_type": "markdown",
   "metadata": {
    "slideshow": {
     "slide_type": "slide"
    }
   },
   "source": [
    "##  Further directions\n",
    "\n",
    "1. Non-euclidean distance used as penalty, i.e. Bregman divergence and Mirror descent method \n",
    "2. Non-convex optimization\n",
    "3. Parallel implementations and distributed setting\n",
    "4. Use different discretization methods from ODE-related science to get new fast optimization methods, see [this paper](https://arxiv.org/pdf/1805.00521.pdf)"
   ]
  },
  {
   "cell_type": "markdown",
   "metadata": {
    "slideshow": {
     "slide_type": "slide"
    }
   },
   "source": [
    "## References\n",
    "\n",
    "1. [Proximal algorithms](http://web.stanford.edu/~boyd/papers/pdf/prox_algs.pdf) and related [sources](http://web.stanford.edu/~boyd/papers/prox_algs.html) by N. Parikh and S. Boyd \n",
    "2. [Gradient-based algorithms with applications to signal recovery problems](http://www.math.tau.ac.il/~teboulle/papers/gradient_chapter.pdf) by A. Beck and M. Teboulle\n",
    "3. [Proximal Backpropagation](https://arxiv.org/abs/1706.04638) by T Frerix et al (ICLR 2018)\n",
    "4. [Stochastic Proximal Gradient Descent with Acceleration Techniques](https://papers.nips.cc/paper/5610-stochastic-proximal-gradient-descent-with-acceleration-techniques.pdf) by A. Nitanda (NIPS 2014)"
   ]
  },
  {
   "cell_type": "markdown",
   "metadata": {
    "slideshow": {
     "slide_type": "slide"
    }
   },
   "source": [
    "## Summary\n",
    "\n",
    "1. Proximal method\n",
    "2. Proximal map and its property\n",
    "3. Proximal gradient method and its acceleration\n",
    "5. Applications"
   ]
  }
 ],
 "metadata": {
  "celltoolbar": "Slideshow",
  "kernelspec": {
   "display_name": "Python 3 (cvxpy)",
   "language": "python",
   "name": "cvxpy"
  },
  "language_info": {
   "codemirror_mode": {
    "name": "ipython",
    "version": 3
   },
   "file_extension": ".py",
   "mimetype": "text/x-python",
   "name": "python",
   "nbconvert_exporter": "python",
   "pygments_lexer": "ipython3",
   "version": "3.6.4"
  }
 },
 "nbformat": 4,
 "nbformat_minor": 2
}
