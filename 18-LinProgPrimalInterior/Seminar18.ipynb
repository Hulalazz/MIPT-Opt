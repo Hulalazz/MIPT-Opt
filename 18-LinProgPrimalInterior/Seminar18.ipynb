{
 "cells": [
  {
   "cell_type": "markdown",
   "metadata": {
    "slideshow": {
     "slide_type": "slide"
    }
   },
   "source": [
    "# Семинар 18\n",
    "\n",
    "# Линейное программирование. Прямой метод внутренней точки"
   ]
  },
  {
   "cell_type": "markdown",
   "metadata": {
    "slideshow": {
     "slide_type": "slide"
    }
   },
   "source": [
    "## На прошлом семинаре...\n",
    "\n",
    "- Постановки задачи линейного программирования\n",
    "- Примеры приложений\n",
    "- Симплекс-метод и его недостатки"
   ]
  },
  {
   "cell_type": "markdown",
   "metadata": {
    "collapsed": true,
    "slideshow": {
     "slide_type": "slide"
    }
   },
   "source": [
    "## Обзор существующих библиотек для решения задачи линейного программирования\n",
    "\n",
    "- Решение задачи линейного прграммирования стало полноценной технологией, поэтому обычно нужно вызвать правильную функцию на правильном языке и получить ответ. \n",
    "- Обзор можно найти [тут](https://en.wikipedia.org/wiki/Linear_programming#Solvers_and_scripting_.28programming.29_languages)\n",
    "- Сравнение можно найти [тут](http://prod.sandia.gov/techlib/access-control.cgi/2013/138847.pdf)"
   ]
  },
  {
   "cell_type": "markdown",
   "metadata": {
    "slideshow": {
     "slide_type": "slide"
    }
   },
   "source": [
    "## Немного истории\n",
    "\n",
    "- В 1979 г. Л. Хачиян [предложил](http://www.mathnet.ru/links/18409a6ec8cd239985969a9e98c2f6ae/zvmmf5239.pdf) метод эллипсоидов и показал, что он решает любую задачу линейного программирования за **полиномиальное время**. Сообщение об этом появилось на [первой полосе New York Times 7 ноября 1979](http://www.nytimes.com/1979/11/07/archives/a-soviet-discovery-rocks-world-of-mathematics-russians-surprise.html?_r=0). Популярное изложение успехов советской школы математического программирования в статье [Коммерсанта](https://www.kommersant.ru/doc/2679807).\n",
    "- Однако сложность метода эллипсоидов $O(n^6 L^2)$, и он проигрывал симплекс-методу при решении реальных задач\n",
    "- В 1984 г. Н. Кармаркар [предложил](http://retis.sssup.it/~bini/teaching/optim2010/karmarkar.pdf) другой полиномиальный метод решения задачи линейного программирования, который был значительно быстрее метода эллипсоидов, а именно $O(n^{3.5} L^2)$.  \n",
    "- И метод эллипсоидов, и метод Кармаркара относятся к прямо-двойственным методам или методам внутренней точки, которые будут освещены далее..."
   ]
  },
  {
   "cell_type": "markdown",
   "metadata": {
    "collapsed": true,
    "slideshow": {
     "slide_type": "slide"
    }
   },
   "source": [
    "## Альтернатива симплекс-методу"
   ]
  },
  {
   "cell_type": "markdown",
   "metadata": {
    "collapsed": true,
    "slideshow": {
     "slide_type": "fragment"
    }
   },
   "source": [
    "- Симплекс-метод основан на подходе поиска решения среди вершин\n",
    "- Однако можно искать решение по-другому: двигаться по точкам внутри области к одной из вершин - решению задачи\n",
    "- Поэтому такие методы называют *методами внутренней точки* "
   ]
  },
  {
   "cell_type": "markdown",
   "metadata": {
    "slideshow": {
     "slide_type": "slide"
    }
   },
   "source": [
    "## \"Дёшево, но много\" vs. \"дорого, но мало\"\n",
    "\n",
    "- Один из основных водоразделов в методах оптимизации\n",
    "- Линейное программирование решается за полиномиальное время, эксплуатируя стратегию \"дорого, но мало\"\n",
    "- Далее будут показаны задачи и методы, которые работают по стратегии \"дёшево, но много\""
   ]
  },
  {
   "cell_type": "markdown",
   "metadata": {
    "slideshow": {
     "slide_type": "slide"
    }
   },
   "source": [
    "## Двойственность в задаче линейного программирования\n",
    "\n",
    "**Теорема.**\n",
    "\n",
    "- Если прямая (двойственная) задачи имеет конечное решение, то конечное решение имеет и двойственная (прямая).\n",
    "- Если прямая (двойственная) задача неограничена, то допустимое множество двойственной (прямой) задачи пусто."
   ]
  },
  {
   "cell_type": "markdown",
   "metadata": {
    "slideshow": {
     "slide_type": "slide"
    }
   },
   "source": [
    "## Идея методов внутренней точки\n",
    "\n",
    "Исходная задача\n",
    "\\begin{align*}\n",
    "&\\min_x c^{\\top}x \\\\\n",
    "\\text{s.t. } & Ax = b\\\\\n",
    "& x_i \\geq 0, \\; i = 1,\\dots, n\n",
    "\\end{align*}\n",
    "\n",
    "Аппроксимированная задача\n",
    "\\begin{align*}\n",
    "&\\min_x c^{\\top}x {\\color{red}{- \\mu \\sum\\limits_{i=1}^n \\ln x_i}} \\\\\n",
    "\\text{s.t. } & Ax = b\\\\\n",
    "\\end{align*}\n",
    "для некоторого $\\mu > 0$"
   ]
  },
  {
   "cell_type": "markdown",
   "metadata": {
    "slideshow": {
     "slide_type": "slide"
    }
   },
   "source": [
    "### Барьерная функция\n",
    "\n",
    "**Определение.** Функция $B(x, \\mu) = -\\mu\\ln x$ называется *барьерной* для задачи с ограничением $x \\geq 0$.\n",
    "\n",
    "Более подробно о таких функциях будет рассказано в контексте нелинейной условной оптимизации..."
   ]
  },
  {
   "cell_type": "markdown",
   "metadata": {
    "slideshow": {
     "slide_type": "slide"
    }
   },
   "source": [
    "### Что произошло?\n",
    "\n",
    "- Сделали из линейной задачу нелинейную\n",
    "- Перенесли ограничение типа неравенства в целевую функцию\n",
    "- Ввели дополнительный параметр $\\mu$"
   ]
  },
  {
   "cell_type": "markdown",
   "metadata": {
    "slideshow": {
     "slide_type": "slide"
    }
   },
   "source": [
    "### Почему это хорошо?\n",
    "\n",
    "Переход к задаче с ограничениями типа равенств $\\to$ упрощение условий оптимальности, в частности\n",
    "\n",
    "- Исключено требование дополняющей нежёсткости\n",
    "- Исключено условие неотрицательности множителя Лагранжа для ограничения типа неравенства"
   ]
  },
  {
   "cell_type": "markdown",
   "metadata": {
    "slideshow": {
     "slide_type": "slide"
    }
   },
   "source": [
    "### Условия оптимальности\n",
    "\n",
    "- Лагранжиан: $L = c^{\\top}x - \\mu\\sum\\limits_{i=1}^n \\ln x_i + \\lambda^{\\top}(Ax - b)$\n",
    "- Стационарная точка $L$: \n",
    "$$\n",
    "c - \\mu X^{-1}e + A^{\\top}\\lambda = 0,\n",
    "$$\n",
    "где $X = \\mathrm{diag}(x_1, \\dots, x_n)$ и $e = [1, \\dots, 1]$\n",
    "- Ограничение типа равенства: $Ax = b$"
   ]
  },
  {
   "cell_type": "markdown",
   "metadata": {
    "slideshow": {
     "slide_type": "fragment"
    }
   },
   "source": [
    "Пусть $s = \\mu X^{-1}e$, тогда условия оптимальности можно переписать так:\n",
    "- $A^{\\top}\\lambda + c - s = 0 $\n",
    "- $Xs = {\\color{red}{\\mu e}}$\n",
    "- $Ax = b$\n",
    "\n",
    "Также $x > 0 \\Rightarrow s > 0$ "
   ]
  },
  {
   "cell_type": "markdown",
   "metadata": {
    "slideshow": {
     "slide_type": "slide"
    }
   },
   "source": [
    "## Сравнение с условиями оптимальности для исходной задачи\n",
    "\n",
    "- Лагранжиан: $L = c^{\\top}x + \\lambda^{\\top}(Ax - b) - s^{\\top}x$\n",
    "- Условие стационарности: $c + A^{\\top}\\lambda - s = 0$\n",
    "- Допустимость прямой задачи: $Ax = b, \\; x \\geq 0$\n",
    "- Допустимость двойственной: $s \\geq 0$\n",
    "- Условие дополняющей нежёсткости: $s_ix_i = 0$"
   ]
  },
  {
   "cell_type": "markdown",
   "metadata": {
    "slideshow": {
     "slide_type": "slide"
    }
   },
   "source": [
    "### После упрощения\n",
    "\n",
    "- $A^{\\top}\\lambda + c - s = 0$\n",
    "- $Ax = b$\n",
    "- $Xs = {\\color{red}{0}}$\n",
    "- $x \\geq 0, \\; s \\geq 0$"
   ]
  },
  {
   "cell_type": "markdown",
   "metadata": {
    "slideshow": {
     "slide_type": "slide"
    }
   },
   "source": [
    "### Вывод\n",
    "\n",
    "- Введение барьерной функции c множителем $\\mu$ эквивалентно релаксации условий дополняющей нежёсткости на параметр $\\mu$\n",
    "- При $\\mu \\to 0$ решения задач совпадают!\n",
    "- Идея: итеративно решать задачи с барьерной функцией, уменьшая $\\mu$. Последовательность решений сойдётся к вершине симплекса по траектории из точек, лежащих внутри симплекса."
   ]
  },
  {
   "cell_type": "markdown",
   "metadata": {
    "slideshow": {
     "slide_type": "slide"
    }
   },
   "source": [
    "### Общая схема\n",
    "```python\n",
    "def GeneralInteriorPointLP(c, A, b, x0, mu0, rho, tol):\n",
    "    x = x0\n",
    "    mu = mu0\n",
    "    e = np.ones(c.shape[0])\n",
    "    while True:\n",
    "        primal_var, dual_var = StepInsideFeasibleSet(c, A, b, x, mu)\n",
    "        mu *= rho\n",
    "        if converge(primal_var, dual_var, c, A, b, tol) and mu < tol:\n",
    "            break\n",
    "    return x\n",
    "```"
   ]
  },
  {
   "cell_type": "markdown",
   "metadata": {
    "slideshow": {
     "slide_type": "slide"
    }
   },
   "source": [
    "## Как решать задачу с барьерной функцией?"
   ]
  },
  {
   "cell_type": "markdown",
   "metadata": {
    "slideshow": {
     "slide_type": "fragment"
    }
   },
   "source": [
    "- Прямой метод - следующий слайд\n",
    "- Прямо-двойственный метод - через несколько недель"
   ]
  },
  {
   "cell_type": "markdown",
   "metadata": {
    "slideshow": {
     "slide_type": "slide"
    }
   },
   "source": [
    "## Прямой метод\n",
    "\n",
    "Вспомним исходную задачу:\n",
    "\\begin{align*}\n",
    "&\\min_x c^{\\top}x - \\mu \\sum\\limits_{i=1}^n \\ln x_i \\\\\n",
    "\\text{s.t. } & Ax = b\\\\\n",
    "\\end{align*}\n",
    "\n",
    "Идея: приблизим целевую функцию до второго порядка, как в методе Ньютона."
   ]
  },
  {
   "cell_type": "markdown",
   "metadata": {
    "slideshow": {
     "slide_type": "slide"
    }
   },
   "source": [
    "### Реализация\n",
    "На $(k+1)$-ой итерации необходимо решить следующую задачу: \n",
    "\\begin{align*}\n",
    "&\\min_p \\frac{1}{2}p^{\\top}Hp + g^{\\top}p\\\\\n",
    "\\text{s.t. } & A(x_k + p) = b,\\\\\n",
    "\\end{align*}\n",
    "где $H = \\mu X^{-2}$ - гессиан, и $g = c - \\mu X^{-1}e$ - градиент."
   ]
  },
  {
   "cell_type": "markdown",
   "metadata": {
    "slideshow": {
     "slide_type": "slide"
    }
   },
   "source": [
    "### Снова KKT\n",
    "\n",
    "Выпишем условия ККТ для этой задачи\n",
    "- $Hp + g + A^{\\top}\\lambda = 0$\n",
    "- $Ap = 0$\n",
    "\n",
    "или\n",
    "$$\\begin{bmatrix}\n",
    "H & A^{\\top}\\\\\n",
    "A & 0\n",
    "\\end{bmatrix}\n",
    "\\begin{bmatrix}\n",
    "p\\\\\n",
    "\\lambda\n",
    "\\end{bmatrix}\n",
    "= \n",
    "\\begin{bmatrix}\n",
    "-g\\\\\n",
    "0\n",
    "\\end{bmatrix}$$"
   ]
  },
  {
   "cell_type": "markdown",
   "metadata": {
    "slideshow": {
     "slide_type": "fragment"
    }
   },
   "source": [
    "Из первой строки:\n",
    "$$\n",
    "-\\mu X^{-2}p + A^{\\top}\\lambda = c - \\mu X^{-1}e\n",
    "$$\n",
    "$$\n",
    "-\\mu Ap + AX^{2}A^{\\top}\\lambda = AX^2c - \\mu AXe\n",
    "$$\n",
    "$$\n",
    "AX^{2}A^{\\top}\\lambda = AX^2c - \\mu AXe\n",
    "$$\n",
    "Так как $X \\in \\mathbb{S}^n_{++}$ и $A$ полного ранга, то уравнение имеет единственное решение $\\lambda^*$."
   ]
  },
  {
   "cell_type": "markdown",
   "metadata": {
    "slideshow": {
     "slide_type": "slide"
    }
   },
   "source": [
    "### Найдём направление $p$\n",
    "\n",
    "$$\n",
    "-\\mu p + X^2A^{\\top}\\lambda^* = X^2c - \\mu Xe = X^2c - \\mu x\n",
    "$$\n",
    "$$\n",
    "p = x + \\frac{1}{\\mu}X^2(A^{\\top}\\lambda^* - c)\n",
    "$$"
   ]
  },
  {
   "cell_type": "markdown",
   "metadata": {
    "slideshow": {
     "slide_type": "slide"
    }
   },
   "source": [
    "### Поиск шага $\\alpha$\n",
    "\n",
    "- Обычный линейный поиск с условиями достаточного убывания\n",
    "- Условие $A(x_k + \\alpha p) = b$ выполняется автоматически"
   ]
  },
  {
   "cell_type": "markdown",
   "metadata": {
    "slideshow": {
     "slide_type": "slide"
    }
   },
   "source": [
    "### Псевдокод прямого барьерного метода\n",
    "\n",
    "```python\n",
    "def PrimalBarrierLP(c, A, b, x0, mu0, rho, tol):\n",
    "    x = x0\n",
    "    mu = mu0\n",
    "    e = np.ones(x.shape[0])\n",
    "    while True:\n",
    "        p, lam = ComputeNewtonDirection(c, x, A, mu)\n",
    "        alpha = line_search(p, mu, c, x)\n",
    "        x = x + alpha * p\n",
    "        mu = rho * mu\n",
    "        if mu < tol and np.linalg.norm(x.dot(c - A.T.dot(lam)) - mu * e) < tol:\n",
    "            break\n",
    "    return x\n",
    "```"
   ]
  },
  {
   "cell_type": "markdown",
   "metadata": {
    "slideshow": {
     "slide_type": "slide"
    }
   },
   "source": [
    "## Сравнение барьерного метода и прямого метода внутренней точки\n",
    "\n",
    "- Пример Klee-Minty c прошлого семинара\n",
    "\\begin{align*}\n",
    "& \\max_{x \\in \\mathbb{R}^n} 2^{n-1}x_1 + 2^{n-2}x_2 + \\dots + 2x_{n-1} + x_n\\\\\n",
    "\\text{s.t. } & x_1 \\leq 5\\\\\n",
    "& 4x_1 + x_2 \\leq 25\\\\\n",
    "& 8x_1 + 4x_2 + x_3 \\leq 125\\\\\n",
    "& \\ldots\\\\\n",
    "& 2^n x_1 + 2^{n-1}x_2 + 2^{n-2}x_3 + \\ldots + x_n \\leq 5^n\\\\\n",
    "& x \\geq 0\n",
    "\\end{align*}\n",
    "- Какая сложность работы симплекс метода?"
   ]
  },
  {
   "cell_type": "markdown",
   "metadata": {
    "slideshow": {
     "slide_type": "slide"
    }
   },
   "source": [
    "- Сведение к стандартной форме\n",
    "$$\n",
    "\\begin{align*}\n",
    "& \\min_{x, \\; z} -c^{\\top}x \\\\\n",
    "\\text{s.t. } & Ax + z = b\\\\\n",
    "& x \\geq 0, \\quad z \\geq 0\n",
    "\\end{align*}\n",
    "$$\n",
    "- Сравним скорось работы прямого барьерного метода и симплекс-метода"
   ]
  },
  {
   "cell_type": "code",
   "execution_count": 1,
   "metadata": {
    "slideshow": {
     "slide_type": "slide"
    }
   },
   "outputs": [],
   "source": [
    "import numpy as np\n",
    "%matplotlib inline\n",
    "import matplotlib.pyplot as plt\n",
    "import scipy.optimize as scopt\n",
    "import scipy.linalg as sclin\n",
    "plt.rc(\"text\", usetex=True)"
   ]
  },
  {
   "cell_type": "code",
   "execution_count": 2,
   "metadata": {
    "collapsed": true,
    "slideshow": {
     "slide_type": "slide"
    }
   },
   "outputs": [],
   "source": [
    "def NewtonLinConstraintsFeasible(f, gradf, hessf, A, x0, line_search, linsys_solver, args=(), \n",
    "                                 disp=False, disp_conv=False, callback=None, tol=1e-6, max_iter=100, **kwargs):\n",
    "    x = x0.copy()\n",
    "    n = x0.shape[0]\n",
    "    iteration = 0\n",
    "    lam = np.random.randn(A.shape[0])\n",
    "    while True:\n",
    "        gradient, hess = gradf(x, *args), hessf(x, *args)\n",
    "        h = linsys_solver(hess, A, gradient)\n",
    "        descent_dir = h[:n]\n",
    "        decrement = descent_dir.dot(hessf(x, *args).dot(descent_dir))\n",
    "        if decrement < tol:\n",
    "            if disp_conv:\n",
    "                print(\"Tolerance achieved! Decrement = {}\".format(decrement))\n",
    "            break\n",
    "        alpha = line_search(x, descent_dir, f, gradf, args, **kwargs)\n",
    "        if alpha < 1e-16:\n",
    "            if disp_conv:\n",
    "                print(\"Step is too small!\")\n",
    "        x = x + alpha * descent_dir\n",
    "        if callback is not None:\n",
    "            callback((descent_dir, x))\n",
    "        iteration += 1\n",
    "        if disp:\n",
    "            print(\"Current function val = {}\".format(f(x, *args)))\n",
    "            print(\"Newton decrement = {}\".format(decrement))\n",
    "        if iteration >= max_iter:\n",
    "            if disp_conv:\n",
    "                print(\"Maxiter exceeds!\")\n",
    "            break\n",
    "    res = {\"x\": x, \"num_iter\": iteration, \"tol\": decrement}\n",
    "    return res"
   ]
  },
  {
   "cell_type": "code",
   "execution_count": 28,
   "metadata": {
    "collapsed": true,
    "slideshow": {
     "slide_type": "slide"
    }
   },
   "outputs": [],
   "source": [
    "def simple_solver(hess, A, gradient):\n",
    "    n = hess.shape[0]\n",
    "    n_lin_row, n_lin_col = A.shape\n",
    "    modified_hess = np.zeros((n + n_lin_row, n + n_lin_row))\n",
    "    modified_hess[:n, :n] = hess\n",
    "    modified_hess[n:n + n_lin_row, :n_lin_col] = A\n",
    "    modified_hess[:n_lin_col, n:n + n_lin_row] = A.T\n",
    "    rhs = np.zeros(n + n_lin_row)\n",
    "    rhs[:n] = -gradient\n",
    "    h = np.linalg.solve(modified_hess, rhs)\n",
    "    return h\n",
    "\n",
    "def elimination_solver(hess, A, gradient):\n",
    "    inv_hess_diag = np.divide(1.0, np.diag(hess))\n",
    "    inv_hess_grad = np.multiply(-inv_hess_diag, gradient)\n",
    "    rhs = A.dot(inv_hess_grad)\n",
    "    L_inv_hess = np.sqrt(inv_hess_diag)\n",
    "    AL_inv_hess = A * L_inv_hess\n",
    "    print(AL_inv_hess.shape)\n",
    "    S = AL_inv_hess.dot(AL_inv_hess.T)\n",
    "    cho_S = sclin.cho_factor(S)\n",
    "    w = sclin.cho_solve(cho_S, rhs)\n",
    "#     w = np.linalg.solve(S, rhs)\n",
    "    v = np.subtract(inv_hess_grad, np.multiply(inv_hess_diag, A.T.dot(w)))\n",
    "#     h = np.zeros(hess.shape[1] + A.shape[0])\n",
    "#     h[:hess.shape[1]] = v\n",
    "#     h[hess.shape[1]:hess.shape[1] + A.shape[0]] = w\n",
    "    return v"
   ]
  },
  {
   "cell_type": "code",
   "execution_count": 16,
   "metadata": {
    "collapsed": true,
    "slideshow": {
     "slide_type": "slide"
    }
   },
   "outputs": [],
   "source": [
    "def backtracking(x, descent_dir, f, grad_f, args, **kwargs):\n",
    "    beta1 = kwargs[\"beta1\"]\n",
    "    rho = kwargs[\"rho\"]\n",
    "    alpha = 1\n",
    "    while f(x + alpha * descent_dir, *args) >= f(x, *args) + beta1 * alpha * grad_f(x, *args).dot(descent_dir) \\\n",
    "            or np.isnan(f(x + alpha * descent_dir, *args)):\n",
    "        alpha *= rho\n",
    "        if alpha < 1e-16:\n",
    "            break\n",
    "    return alpha"
   ]
  },
  {
   "cell_type": "code",
   "execution_count": 5,
   "metadata": {
    "collapsed": true,
    "slideshow": {
     "slide_type": "slide"
    }
   },
   "outputs": [],
   "source": [
    "def generate_KleeMinty_test_problem(n):\n",
    "    c = np.array([2**i for i in range(n)])\n",
    "    c = -c[::-1]\n",
    "    bounds = [(0, None) for i in range(n)]\n",
    "    b = np.array([5**(i+1) for i in range(n)])\n",
    "    a = np.array([1] + [2**(i+1) for i in range(1, n)])\n",
    "    A = np.zeros((n, n))\n",
    "    for i in range(n):\n",
    "        A[i:, i] = a[:n-i]\n",
    "    return c, A, b, bounds"
   ]
  },
  {
   "cell_type": "code",
   "execution_count": 29,
   "metadata": {
    "collapsed": true,
    "slideshow": {
     "slide_type": "slide"
    }
   },
   "outputs": [],
   "source": [
    "n = 7\n",
    "c, A, b, _ = generate_KleeMinty_test_problem(n)\n",
    "\n",
    "def f(x, c, mu):\n",
    "    n = c.shape[0]\n",
    "    return c.dot(x[:n]) - mu * np.sum(np.log(x))\n",
    "\n",
    "def gradf(x, c, mu):\n",
    "    grad = np.zeros(len(x))\n",
    "    n = c.shape[0]\n",
    "    grad[:n] = c - mu / x[:n]\n",
    "    grad[n:] = -mu / x[n:]\n",
    "    return grad\n",
    "\n",
    "def hessf(x, c, mu):\n",
    "    return mu * np.diag(1. / x**2)\n",
    "\n",
    "A_lin = np.zeros((n, n + A.shape[0]))\n",
    "A_lin[:n, :n] = A\n",
    "A_lin[:n, n:n + A.shape[0]] = np.eye(A.shape[0])\n",
    "mu = 0.1"
   ]
  },
  {
   "cell_type": "markdown",
   "metadata": {
    "slideshow": {
     "slide_type": "slide"
    }
   },
   "source": [
    "#### Проверим верно ли вычисляется градиент"
   ]
  },
  {
   "cell_type": "code",
   "execution_count": 19,
   "metadata": {
    "slideshow": {
     "slide_type": "fragment"
    }
   },
   "outputs": [
    {
     "data": {
      "text/plain": [
       "2.6600705800059417e-06"
      ]
     },
     "execution_count": 19,
     "metadata": {},
     "output_type": "execute_result"
    }
   ],
   "source": [
    "scopt.check_grad(f, gradf, np.random.rand(n), c, mu)"
   ]
  },
  {
   "cell_type": "markdown",
   "metadata": {
    "slideshow": {
     "slide_type": "slide"
    }
   },
   "source": [
    "### Выбор начального приближения допустимого по ограничениям и области определения целевой функции"
   ]
  },
  {
   "cell_type": "code",
   "execution_count": 30,
   "metadata": {
    "slideshow": {
     "slide_type": "fragment"
    }
   },
   "outputs": [
    {
     "name": "stdout",
     "output_type": "stream",
     "text": [
      "1.13742335327e-13\n",
      "0\n"
     ]
    }
   ],
   "source": [
    "x0 = np.zeros(2*n)\n",
    "x0[:n] = np.random.rand(n)\n",
    "x0[n:2*n] = b - A.dot(x0[:n])\n",
    "print(np.linalg.norm(A_lin.dot(x0) - b))\n",
    "print(np.sum(x0 <= 1e-6))"
   ]
  },
  {
   "cell_type": "markdown",
   "metadata": {
    "slideshow": {
     "slide_type": "slide"
    }
   },
   "source": [
    "### Проверим сходимость"
   ]
  },
  {
   "cell_type": "code",
   "execution_count": 21,
   "metadata": {
    "slideshow": {
     "slide_type": "fragment"
    }
   },
   "outputs": [
    {
     "name": "stderr",
     "output_type": "stream",
     "text": [
      "/home/alex/anaconda2/envs/cvxpy/lib/python3.6/site-packages/ipykernel/__main__.py:6: RuntimeWarning: invalid value encountered in log\n"
     ]
    },
    {
     "name": "stdout",
     "output_type": "stream",
     "text": [
      "Decrement value = 5.914689980146328e-10\n"
     ]
    },
    {
     "data": {
      "image/png": "[encoded data removed]",
      "text/plain": [
       "<matplotlib.figure.Figure at 0x7f3a2227c5f8>"
      ]
     },
     "metadata": {},
     "output_type": "display_data"
    }
   ],
   "source": [
    "hist_conv = []\n",
    "def cl(x):\n",
    "    hist_conv.append(x)\n",
    "res = NewtonLinConstraintsFeasible(f, gradf, hessf, A_lin, x0, backtracking, elimination_solver, (c, mu), callback=cl,\n",
    "                           max_iter=2000, beta1=0.1, rho=0.7)\n",
    "print(\"Decrement value = {}\".format(res[\"tol\"]))\n",
    "fstar = f(res[\"x\"], c, mu)\n",
    "hist_conv_f = [np.abs(fstar - f(descdir_x[1], c, mu)) for descdir_x in hist_conv]\n",
    "plt.figure(figsize=(12, 5))\n",
    "plt.subplot(1,2,1)\n",
    "plt.semilogy(hist_conv_f)\n",
    "plt.xlabel(\"Number of iteration, $k$\", fontsize=18)\n",
    "plt.ylabel(\"$f^* - f_k$\", fontsize=18)\n",
    "plt.xticks(fontsize=18)\n",
    "_ = plt.yticks(fontsize=18)\n",
    "\n",
    "hist_conv_x = [np.linalg.norm(res[\"x\"] - x[1]) for x in hist_conv]\n",
    "plt.subplot(1,2,2)\n",
    "plt.semilogy(hist_conv_x)\n",
    "plt.xlabel(\"Number of iteration, $k$\", fontsize=18)\n",
    "plt.ylabel(\"$\\| x_k - x^*\\|_2$\", fontsize=18)\n",
    "plt.xticks(fontsize=18)\n",
    "_ = plt.yticks(fontsize=18)\n",
    "plt.tight_layout()"
   ]
  },
  {
   "cell_type": "markdown",
   "metadata": {
    "slideshow": {
     "slide_type": "slide"
    }
   },
   "source": [
    "### Реализация барьерного метода"
   ]
  },
  {
   "cell_type": "code",
   "execution_count": 31,
   "metadata": {
    "collapsed": true,
    "slideshow": {
     "slide_type": "fragment"
    }
   },
   "outputs": [],
   "source": [
    "def BarrierPrimalLinConstr(f, gradf, hessf, A, c, x0, mu0, rho_mu, linesearch, linsys_solver, \n",
    "                           tol=1e-8, max_iter=500, disp_conv=False, **kwargs):\n",
    "    x = x0.copy()\n",
    "    n = x0.shape[0]\n",
    "    mu = mu0\n",
    "    while True:\n",
    "        res = NewtonLinConstraintsFeasible(f, gradf, hessf, A, x, linesearch, linsys_solver, (c, mu), \n",
    "                                           disp_conv=disp_conv, max_iter=max_iter, beta1=0.01, rho=0.5)\n",
    "        x = res[\"x\"].copy()\n",
    "        if n * mu < tol:\n",
    "            break\n",
    "        mu *= rho_mu\n",
    "    return x"
   ]
  },
  {
   "cell_type": "code",
   "execution_count": 32,
   "metadata": {
    "slideshow": {
     "slide_type": "slide"
    }
   },
   "outputs": [
    {
     "name": "stdout",
     "output_type": "stream",
     "text": [
      "(7, 14)\n",
      "(7, 14)\n",
      "(7, 14)\n",
      "(7, 14)\n",
      "(7, 14)\n",
      "(7, 14)\n",
      "(7, 14)\n",
      "(7, 14)\n",
      "(7, 14)\n",
      "(7, 14)\n",
      "(7, 14)\n",
      "(7, 14)\n",
      "(7, 14)\n",
      "(7, 14)\n",
      "(7, 14)\n",
      "(7, 14)\n",
      "(7, 14)\n",
      "(7, 14)\n",
      "(7, 14)\n",
      "(7, 14)\n",
      "(7, 14)\n",
      "(7, 14)\n",
      "(7, 14)\n",
      "(7, 14)\n",
      "(7, 14)\n",
      "(7, 14)\n",
      "(7, 14)\n",
      "(7, 14)\n",
      "(7, 14)\n",
      "(7, 14)\n",
      "(7, 14)\n",
      "(7, 14)\n",
      "(7, 14)\n",
      "(7, 14)\n",
      "(7, 14)\n",
      "(7, 14)\n",
      "(7, 14)\n",
      "(7, 14)\n",
      "(7, 14)\n",
      "(7, 14)\n",
      "(7, 14)\n",
      "(7, 14)\n",
      "(7, 14)\n",
      "(7, 14)\n",
      "(7, 14)\n",
      "(7, 14)\n",
      "(7, 14)\n",
      "(7, 14)\n",
      "(7, 14)\n",
      "(7, 14)\n",
      "(7, 14)\n",
      "(7, 14)\n",
      "(7, 14)\n",
      "(7, 14)\n",
      "(7, 14)\n",
      "(7, 14)\n",
      "(7, 14)\n",
      "(7, 14)\n",
      "(7, 14)\n",
      "(7, 14)\n",
      "(7, 14)\n",
      "(7, 14)\n",
      "(7, 14)\n",
      "(7, 14)\n",
      "(7, 14)\n",
      "(7, 14)\n",
      "(7, 14)\n",
      "(7, 14)\n",
      "(7, 14)\n",
      "(7, 14)\n",
      "(7, 14)\n",
      "(7, 14)\n",
      "(7, 14)\n",
      "(7, 14)\n",
      "(7, 14)\n",
      "(7, 14)\n",
      "(7, 14)\n",
      "(7, 14)\n",
      "(7, 14)\n",
      "(7, 14)\n",
      "(7, 14)\n",
      "(7, 14)\n",
      "(7, 14)\n",
      "(7, 14)\n",
      "(7, 14)\n",
      "(7, 14)\n",
      "(7, 14)\n",
      "(7, 14)\n",
      "(7, 14)\n",
      "(7, 14)\n",
      "(7, 14)\n",
      "(7, 14)\n",
      "(7, 14)\n",
      "(7, 14)\n",
      "(7, 14)\n",
      "(7, 14)\n",
      "(7, 14)\n",
      "(7, 14)\n",
      "(7, 14)\n",
      "(7, 14)\n",
      "(7, 14)\n",
      "(7, 14)\n",
      "(7, 14)\n",
      "(7, 14)\n",
      "(7, 14)\n",
      "(7, 14)\n",
      "(7, 14)\n",
      "(7, 14)\n",
      "(7, 14)\n",
      "(7, 14)\n",
      "(7, 14)\n",
      "(7, 14)\n",
      "(7, 14)\n",
      "(7, 14)\n",
      "(7, 14)\n",
      "(7, 14)\n",
      "(7, 14)\n",
      "(7, 14)\n",
      "(7, 14)\n",
      "(7, 14)\n",
      "(7, 14)\n",
      "(7, 14)\n",
      "(7, 14)\n",
      "(7, 14)\n",
      "(7, 14)\n",
      "(7, 14)\n",
      "(7, 14)\n",
      "(7, 14)\n",
      "(7, 14)\n",
      "(7, 14)\n",
      "(7, 14)\n",
      "(7, 14)\n",
      "(7, 14)\n",
      "(7, 14)\n",
      "(7, 14)\n",
      "(7, 14)\n",
      "(7, 14)\n",
      "(7, 14)\n",
      "(7, 14)\n",
      "(7, 14)\n",
      "(7, 14)\n",
      "(7, 14)\n",
      "(7, 14)\n",
      "(7, 14)\n",
      "(7, 14)\n",
      "(7, 14)\n",
      "(7, 14)\n",
      "(7, 14)\n",
      "(7, 14)\n",
      "(7, 14)\n",
      "(7, 14)\n",
      "(7, 14)\n",
      "(7, 14)\n",
      "(7, 14)\n",
      "(7, 14)\n"
     ]
    },
    {
     "name": "stderr",
     "output_type": "stream",
     "text": [
      "/home/alex/anaconda2/envs/cvxpy/lib/python3.6/site-packages/ipykernel/__main__.py:6: RuntimeWarning: invalid value encountered in log\n"
     ]
    },
    {
     "name": "stdout",
     "output_type": "stream",
     "text": [
      "(7, 14)\n",
      "(7, 14)\n",
      "(7, 14)\n",
      "(7, 14)\n",
      "(7, 14)\n",
      "(7, 14)\n",
      "(7, 14)\n",
      "(7, 14)\n",
      "(7, 14)\n",
      "(7, 14)\n",
      "(7, 14)\n",
      "(7, 14)\n",
      "(7, 14)\n",
      "(7, 14)\n",
      "(7, 14)\n",
      "(7, 14)\n",
      "(7, 14)\n",
      "(7, 14)\n",
      "(7, 14)\n",
      "(7, 14)\n",
      "(7, 14)\n",
      "(7, 14)\n",
      "(7, 14)\n",
      "(7, 14)\n",
      "(7, 14)\n",
      "(7, 14)\n",
      "(7, 14)\n",
      "(7, 14)\n",
      "(7, 14)\n",
      "(7, 14)\n",
      "(7, 14)\n",
      "(7, 14)\n",
      "(7, 14)\n",
      "(7, 14)\n",
      "(7, 14)\n",
      "(7, 14)\n",
      "(7, 14)\n",
      "(7, 14)\n",
      "(7, 14)\n",
      "(7, 14)\n",
      "(7, 14)\n",
      "(7, 14)\n",
      "(7, 14)\n",
      "(7, 14)\n",
      "(7, 14)\n",
      "(7, 14)\n",
      "(7, 14)\n",
      "(7, 14)\n",
      "(7, 14)\n",
      "(7, 14)\n",
      "(7, 14)\n",
      "(7, 14)\n",
      "(7, 14)\n",
      "(7, 14)\n",
      "(7, 14)\n",
      "(7, 14)\n",
      "(7, 14)\n",
      "(7, 14)\n",
      "(7, 14)\n",
      "(7, 14)\n",
      "(7, 14)\n",
      "(7, 14)\n",
      "(7, 14)\n",
      "(7, 14)\n",
      "(7, 14)\n",
      "(7, 14)\n",
      "(7, 14)\n",
      "(7, 14)\n",
      "(7, 14)\n",
      "(7, 14)\n",
      "(7, 14)\n",
      "(7, 14)\n",
      "(7, 14)\n",
      "(7, 14)\n",
      "(7, 14)\n",
      "(7, 14)\n",
      "(7, 14)\n",
      "(7, 14)\n",
      "(7, 14)\n",
      "(7, 14)\n",
      "(7, 14)\n",
      "(7, 14)\n",
      "(7, 14)\n",
      "(7, 14)\n",
      "(7, 14)\n",
      "(7, 14)\n",
      "(7, 14)\n",
      "(7, 14)\n",
      "(7, 14)\n",
      "(7, 14)\n",
      "(7, 14)\n",
      "(7, 14)\n",
      "(7, 14)\n",
      "(7, 14)\n",
      "(7, 14)\n",
      "(7, 14)\n",
      "(7, 14)\n",
      "(7, 14)\n",
      "(7, 14)\n",
      "(7, 14)\n",
      "(7, 14)\n",
      "(7, 14)\n",
      "(7, 14)\n",
      "(7, 14)\n",
      "(7, 14)\n",
      "(7, 14)\n",
      "(7, 14)\n",
      "(7, 14)\n",
      "(7, 14)\n",
      "(7, 14)\n",
      "(7, 14)\n",
      "(7, 14)\n",
      "(7, 14)\n",
      "(7, 14)\n",
      "(7, 14)\n",
      "(7, 14)\n",
      "(7, 14)\n",
      "(7, 14)\n",
      "(7, 14)\n",
      "(7, 14)\n",
      "(7, 14)\n",
      "(7, 14)\n",
      "(7, 14)\n",
      "(7, 14)\n",
      "(7, 14)\n",
      "(7, 14)\n",
      "(7, 14)\n",
      "(7, 14)\n",
      "(7, 14)\n",
      "(7, 14)\n",
      "(7, 14)\n",
      "(7, 14)\n",
      "(7, 14)\n",
      "(7, 14)\n",
      "(7, 14)\n",
      "(7, 14)\n",
      "(7, 14)\n",
      "(7, 14)\n",
      "(7, 14)\n",
      "(7, 14)\n",
      "(7, 14)\n",
      "(7, 14)\n",
      "(7, 14)\n",
      "(7, 14)\n",
      "(7, 14)\n",
      "(7, 14)\n",
      "(7, 14)\n",
      "(7, 14)\n",
      "(7, 14)\n",
      "(7, 14)\n",
      "(7, 14)\n",
      "(7, 14)\n",
      "(7, 14)\n",
      "(7, 14)\n",
      "(7, 14)\n",
      "(7, 14)\n",
      "(7, 14)\n",
      "(7, 14)\n",
      "(7, 14)\n",
      "(7, 14)\n",
      "(7, 14)\n",
      "(7, 14)\n",
      "(7, 14)\n",
      "(7, 14)\n",
      "(7, 14)\n",
      "(7, 14)\n",
      "(7, 14)\n",
      "(7, 14)\n",
      "(7, 14)\n",
      "(7, 14)\n",
      "(7, 14)\n",
      "(7, 14)\n",
      "(7, 14)\n",
      "(7, 14)\n",
      "(7, 14)\n",
      "(7, 14)\n",
      "(7, 14)\n",
      "(7, 14)\n",
      "(7, 14)\n",
      "(7, 14)\n",
      "(7, 14)\n",
      "(7, 14)\n",
      "(7, 14)\n",
      "(7, 14)\n",
      "(7, 14)\n",
      "(7, 14)\n",
      "(7, 14)\n",
      "(7, 14)\n",
      "(7, 14)\n",
      "(7, 14)\n",
      "(7, 14)\n",
      "(7, 14)\n",
      "(7, 14)\n",
      "(7, 14)\n",
      "(7, 14)\n",
      "(7, 14)\n",
      "(7, 14)\n",
      "(7, 14)\n",
      "(7, 14)\n",
      "(7, 14)\n",
      "(7, 14)\n",
      "(7, 14)\n",
      "(7, 14)\n",
      "(7, 14)\n",
      "(7, 14)\n",
      "(7, 14)\n",
      "(7, 14)\n",
      "(7, 14)\n",
      "(7, 14)\n",
      "(7, 14)\n",
      "(7, 14)\n",
      "(7, 14)\n",
      "(7, 14)\n",
      "(7, 14)\n",
      "(7, 14)\n",
      "(7, 14)\n",
      "(7, 14)\n",
      "(7, 14)\n",
      "(7, 14)\n",
      "(7, 14)\n",
      "(7, 14)\n",
      "(7, 14)\n",
      "(7, 14)\n",
      "(7, 14)\n",
      "(7, 14)\n",
      "(7, 14)\n",
      "(7, 14)\n",
      "(7, 14)\n",
      "(7, 14)\n",
      "(7, 14)\n",
      "(7, 14)\n",
      "(7, 14)\n",
      "(7, 14)\n",
      "(7, 14)\n",
      "(7, 14)\n",
      "(7, 14)\n",
      "(7, 14)\n",
      "(7, 14)\n",
      "(7, 14)\n",
      "(7, 14)\n",
      "(7, 14)\n",
      "(7, 14)\n",
      "(7, 14)\n",
      "(7, 14)\n",
      "(7, 14)\n",
      "(7, 14)\n",
      "(7, 14)\n",
      "(7, 14)\n",
      "(7, 14)\n",
      "(7, 14)\n",
      "(7, 14)\n",
      "(7, 14)\n",
      "(7, 14)\n",
      "(7, 14)\n",
      "(7, 14)\n",
      "(7, 14)\n",
      "(7, 14)\n",
      "(7, 14)\n",
      "(7, 14)\n",
      "(7, 14)\n",
      "(7, 14)\n",
      "(7, 14)\n",
      "(7, 14)\n",
      "(7, 14)\n",
      "(7, 14)\n",
      "(7, 14)\n",
      "(7, 14)\n",
      "(7, 14)\n",
      "(7, 14)\n",
      "(7, 14)\n",
      "(7, 14)\n",
      "(7, 14)\n",
      "(7, 14)\n",
      "(7, 14)\n",
      "(7, 14)\n",
      "(7, 14)\n",
      "(7, 14)\n",
      "(7, 14)\n",
      "(7, 14)\n",
      "(7, 14)\n",
      "(7, 14)\n",
      "(7, 14)\n",
      "(7, 14)\n",
      "(7, 14)\n",
      "(7, 14)\n",
      "(7, 14)\n",
      "(7, 14)\n",
      "(7, 14)\n",
      "(7, 14)\n",
      "(7, 14)\n",
      "(7, 14)\n",
      "(7, 14)\n",
      "(7, 14)\n",
      "(7, 14)\n",
      "(7, 14)\n",
      "(7, 14)\n",
      "(7, 14)\n",
      "(7, 14)\n",
      "(7, 14)\n",
      "(7, 14)\n",
      "(7, 14)\n",
      "(7, 14)\n",
      "(7, 14)\n",
      "(7, 14)\n",
      "(7, 14)\n",
      "(7, 14)\n",
      "(7, 14)\n",
      "(7, 14)\n",
      "(7, 14)\n",
      "(7, 14)\n",
      "(7, 14)\n",
      "(7, 14)\n",
      "(7, 14)\n",
      "(7, 14)\n",
      "(7, 14)\n",
      "(7, 14)\n",
      "(7, 14)\n",
      "(7, 14)\n",
      "(7, 14)\n",
      "(7, 14)\n",
      "(7, 14)\n",
      "(7, 14)\n",
      "(7, 14)\n",
      "(7, 14)\n",
      "(7, 14)\n",
      "(7, 14)\n",
      "(7, 14)\n",
      "(7, 14)\n",
      "(7, 14)\n",
      "(7, 14)\n",
      "(7, 14)\n",
      "(7, 14)\n",
      "(7, 14)\n",
      "(7, 14)\n",
      "(7, 14)\n",
      "(7, 14)\n",
      "(7, 14)\n",
      "(7, 14)\n",
      "(7, 14)\n",
      "(7, 14)\n",
      "(7, 14)\n",
      "(7, 14)\n",
      "(7, 14)\n",
      "(7, 14)\n",
      "(7, 14)\n",
      "(7, 14)\n",
      "(7, 14)\n",
      "(7, 14)\n",
      "(7, 14)\n",
      "(7, 14)\n",
      "(7, 14)\n",
      "(7, 14)\n",
      "(7, 14)\n",
      "(7, 14)\n",
      "(7, 14)\n",
      "(7, 14)\n",
      "(7, 14)\n",
      "(7, 14)\n",
      "(7, 14)\n",
      "(7, 14)\n",
      "(7, 14)\n",
      "(7, 14)\n",
      "(7, 14)\n",
      "(7, 14)\n",
      "(7, 14)\n",
      "(7, 14)\n",
      "(7, 14)\n",
      "(7, 14)\n",
      "(7, 14)\n",
      "(7, 14)\n",
      "(7, 14)\n",
      "(7, 14)\n",
      "(7, 14)\n",
      "(7, 14)\n",
      "(7, 14)\n",
      "(7, 14)\n",
      "(7, 14)\n",
      "(7, 14)\n",
      "(7, 14)\n",
      "(7, 14)\n",
      "(7, 14)\n",
      "(7, 14)\n",
      "(7, 14)\n",
      "(7, 14)\n",
      "(7, 14)\n",
      "(7, 14)\n",
      "(7, 14)\n",
      "(7, 14)\n",
      "(7, 14)\n",
      "(7, 14)\n",
      "(7, 14)\n",
      "(7, 14)\n",
      "(7, 14)\n",
      "(7, 14)\n",
      "(7, 14)\n",
      "(7, 14)\n",
      "(7, 14)\n",
      "(7, 14)\n",
      "(7, 14)\n",
      "(7, 14)\n",
      "(7, 14)\n",
      "(7, 14)\n",
      "(7, 14)\n",
      "(7, 14)\n",
      "(7, 14)\n",
      "(7, 14)\n",
      "(7, 14)\n",
      "(7, 14)\n",
      "(7, 14)\n",
      "(7, 14)\n",
      "(7, 14)\n",
      "(7, 14)\n",
      "(7, 14)\n",
      "(7, 14)\n",
      "(7, 14)\n",
      "(7, 14)\n",
      "(7, 14)\n",
      "(7, 14)\n",
      "(7, 14)\n",
      "(7, 14)\n",
      "(7, 14)\n",
      "(7, 14)\n",
      "(7, 14)\n",
      "(7, 14)\n",
      "(7, 14)\n",
      "(7, 14)\n",
      "(7, 14)\n",
      "(7, 14)\n",
      "(7, 14)\n",
      "(7, 14)\n",
      "(7, 14)\n",
      "(7, 14)\n",
      "(7, 14)\n",
      "(7, 14)\n",
      "(7, 14)\n",
      "(7, 14)\n",
      "(7, 14)\n",
      "(7, 14)\n",
      "(7, 14)\n",
      "(7, 14)\n",
      "(7, 14)\n",
      "(7, 14)\n",
      "(7, 14)\n",
      "(7, 14)\n",
      "(7, 14)\n",
      "(7, 14)\n",
      "(7, 14)\n",
      "(7, 14)\n",
      "(7, 14)\n",
      "(7, 14)\n",
      "(7, 14)\n",
      "(7, 14)\n",
      "(7, 14)\n",
      "(7, 14)\n",
      "(7, 14)\n",
      "(7, 14)\n",
      "(7, 14)\n",
      "(7, 14)\n",
      "(7, 14)\n",
      "(7, 14)\n",
      "(7, 14)\n",
      "(7, 14)\n",
      "(7, 14)\n",
      "(7, 14)\n",
      "(7, 14)\n",
      "(7, 14)\n",
      "(7, 14)\n",
      "(7, 14)\n",
      "(7, 14)\n",
      "(7, 14)\n",
      "(7, 14)\n",
      "(7, 14)\n",
      "(7, 14)\n",
      "(7, 14)\n",
      "(7, 14)\n",
      "(7, 14)\n",
      "(7, 14)\n",
      "(7, 14)\n",
      "(7, 14)\n",
      "(7, 14)\n",
      "(7, 14)\n",
      "(7, 14)\n",
      "(7, 14)\n",
      "(7, 14)\n",
      "(7, 14)\n",
      "(7, 14)\n",
      "(7, 14)\n",
      "(7, 14)\n",
      "(7, 14)\n",
      "(7, 14)\n",
      "(7, 14)\n",
      "(7, 14)\n",
      "(7, 14)\n",
      "(7, 14)\n",
      "(7, 14)\n",
      "(7, 14)\n",
      "(7, 14)\n",
      "(7, 14)\n",
      "(7, 14)\n",
      "(7, 14)\n",
      "(7, 14)\n",
      "(7, 14)\n",
      "(7, 14)\n",
      "(7, 14)\n",
      "(7, 14)\n",
      "(7, 14)\n",
      "(7, 14)\n",
      "(7, 14)\n",
      "(7, 14)\n",
      "(7, 14)\n",
      "(7, 14)\n",
      "(7, 14)\n",
      "(7, 14)\n",
      "(7, 14)\n",
      "(7, 14)\n",
      "(7, 14)\n",
      "(7, 14)\n",
      "(7, 14)\n",
      "(7, 14)\n",
      "(7, 14)\n",
      "(7, 14)\n",
      "(7, 14)\n",
      "(7, 14)\n",
      "(7, 14)\n",
      "(7, 14)\n",
      "(7, 14)\n",
      "(7, 14)\n",
      "(7, 14)\n",
      "(7, 14)\n",
      "(7, 14)\n",
      "(7, 14)\n",
      "(7, 14)\n",
      "(7, 14)\n",
      "(7, 14)\n",
      "(7, 14)\n",
      "(7, 14)\n",
      "(7, 14)\n",
      "(7, 14)\n",
      "(7, 14)\n",
      "(7, 14)\n",
      "(7, 14)\n",
      "(7, 14)\n",
      "(7, 14)\n",
      "(7, 14)\n",
      "(7, 14)\n",
      "(7, 14)\n",
      "(7, 14)\n",
      "(7, 14)\n",
      "(7, 14)\n",
      "(7, 14)\n",
      "(7, 14)\n",
      "(7, 14)\n",
      "(7, 14)\n",
      "(7, 14)\n",
      "(7, 14)\n",
      "(7, 14)\n",
      "(7, 14)\n",
      "(7, 14)\n",
      "(7, 14)\n",
      "(7, 14)\n",
      "(7, 14)\n",
      "(7, 14)\n",
      "(7, 14)\n",
      "(7, 14)\n",
      "(7, 14)\n",
      "(7, 14)\n",
      "(7, 14)\n",
      "(7, 14)\n",
      "(7, 14)\n",
      "(7, 14)\n",
      "(7, 14)\n",
      "(7, 14)\n",
      "(7, 14)\n",
      "(7, 14)\n",
      "(7, 14)\n",
      "(7, 14)\n",
      "(7, 14)\n",
      "(7, 14)\n",
      "(7, 14)\n",
      "(7, 14)\n",
      "(7, 14)\n",
      "(7, 14)\n",
      "(7, 14)\n",
      "(7, 14)\n",
      "(7, 14)\n",
      "(7, 14)\n",
      "(7, 14)\n",
      "(7, 14)\n",
      "(7, 14)\n",
      "(7, 14)\n",
      "(7, 14)\n",
      "(7, 14)\n",
      "(7, 14)\n",
      "(7, 14)\n",
      "(7, 14)\n",
      "(7, 14)\n",
      "(7, 14)\n",
      "(7, 14)\n",
      "(7, 14)\n",
      "(7, 14)\n",
      "(7, 14)\n",
      "(7, 14)\n",
      "(7, 14)\n",
      "(7, 14)\n",
      "(7, 14)\n",
      "(7, 14)\n",
      "(7, 14)\n",
      "(7, 14)\n",
      "(7, 14)\n",
      "(7, 14)\n",
      "(7, 14)\n",
      "(7, 14)\n",
      "(7, 14)\n",
      "(7, 14)\n",
      "(7, 14)\n",
      "(7, 14)\n",
      "(7, 14)\n",
      "(7, 14)\n",
      "(7, 14)\n",
      "(7, 14)\n",
      "(7, 14)\n",
      "(7, 14)\n",
      "(7, 14)\n",
      "(7, 14)\n",
      "(7, 14)\n",
      "(7, 14)\n",
      "(7, 14)\n",
      "(7, 14)\n",
      "(7, 14)\n",
      "(7, 14)\n",
      "(7, 14)\n",
      "(7, 14)\n",
      "(7, 14)\n",
      "(7, 14)\n",
      "(7, 14)\n",
      "(7, 14)\n",
      "(7, 14)\n",
      "(7, 14)\n",
      "(7, 14)\n",
      "(7, 14)\n",
      "(7, 14)\n",
      "(7, 14)\n",
      "(7, 14)\n",
      "(7, 14)\n",
      "(7, 14)\n",
      "(7, 14)\n",
      "(7, 14)\n",
      "(7, 14)\n",
      "(7, 14)\n",
      "(7, 14)\n",
      "(7, 14)\n",
      "(7, 14)\n",
      "(7, 14)\n",
      "(7, 14)\n",
      "(7, 14)\n",
      "(7, 14)\n",
      "(7, 14)\n",
      "(7, 14)\n",
      "(7, 14)\n",
      "(7, 14)\n",
      "(7, 14)\n",
      "(7, 14)\n",
      "(7, 14)\n",
      "(7, 14)\n",
      "(7, 14)\n",
      "(7, 14)\n",
      "(7, 14)\n",
      "(7, 14)\n",
      "(7, 14)\n",
      "(7, 14)\n",
      "(7, 14)\n",
      "(7, 14)\n",
      "(7, 14)\n",
      "(7, 14)\n",
      "(7, 14)\n",
      "(7, 14)\n",
      "(7, 14)\n",
      "(7, 14)\n",
      "(7, 14)\n",
      "(7, 14)\n",
      "(7, 14)\n",
      "(7, 14)\n",
      "(7, 14)\n",
      "(7, 14)\n",
      "(7, 14)\n",
      "(7, 14)\n",
      "(7, 14)\n",
      "(7, 14)\n",
      "(7, 14)\n",
      "(7, 14)\n",
      "(7, 14)\n",
      "(7, 14)\n",
      "(7, 14)\n",
      "(7, 14)\n",
      "(7, 14)\n",
      "(7, 14)\n",
      "(7, 14)\n",
      "(7, 14)\n",
      "(7, 14)\n",
      "(7, 14)\n",
      "(7, 14)\n",
      "(7, 14)\n",
      "(7, 14)\n",
      "(7, 14)\n",
      "(7, 14)\n",
      "(7, 14)\n",
      "(7, 14)\n",
      "(7, 14)\n",
      "(7, 14)\n",
      "(7, 14)\n",
      "(7, 14)\n",
      "(7, 14)\n",
      "(7, 14)\n",
      "(7, 14)\n",
      "(7, 14)\n",
      "(7, 14)\n",
      "(7, 14)\n",
      "(7, 14)\n",
      "(7, 14)\n",
      "(7, 14)\n",
      "(7, 14)\n",
      "(7, 14)\n",
      "(7, 14)\n",
      "(7, 14)\n",
      "(7, 14)\n",
      "(7, 14)\n",
      "(7, 14)\n",
      "(7, 14)\n",
      "(7, 14)\n",
      "(7, 14)\n",
      "(7, 14)\n",
      "(7, 14)\n",
      "(7, 14)\n",
      "(7, 14)\n",
      "(7, 14)\n",
      "(7, 14)\n",
      "(7, 14)\n",
      "(7, 14)\n",
      "(7, 14)\n",
      "(7, 14)\n",
      "(7, 14)\n",
      "(7, 14)\n",
      "(7, 14)\n",
      "(7, 14)\n",
      "(7, 14)\n",
      "(7, 14)\n",
      "(7, 14)\n",
      "(7, 14)\n",
      "(7, 14)\n",
      "(7, 14)\n",
      "(7, 14)\n",
      "(7, 14)\n",
      "(7, 14)\n",
      "(7, 14)\n",
      "(7, 14)\n",
      "(7, 14)\n",
      "(7, 14)\n",
      "(7, 14)\n",
      "(7, 14)\n",
      "(7, 14)\n",
      "(7, 14)\n",
      "(7, 14)\n",
      "(7, 14)\n",
      "(7, 14)\n",
      "(7, 14)\n",
      "(7, 14)\n",
      "(7, 14)\n",
      "(7, 14)\n",
      "(7, 14)\n",
      "(7, 14)\n",
      "(7, 14)\n",
      "(7, 14)\n",
      "(7, 14)\n",
      "(7, 14)\n",
      "(7, 14)\n",
      "(7, 14)\n",
      "(7, 14)\n",
      "(7, 14)\n",
      "(7, 14)\n",
      "(7, 14)\n",
      "(7, 14)\n",
      "(7, 14)\n",
      "(7, 14)\n",
      "(7, 14)\n",
      "(7, 14)\n",
      "(7, 14)\n",
      "(7, 14)\n",
      "(7, 14)\n",
      "(7, 14)\n",
      "(7, 14)\n",
      "(7, 14)\n",
      "(7, 14)\n",
      "(7, 14)\n",
      "(7, 14)\n",
      "(7, 14)\n",
      "(7, 14)\n",
      "(7, 14)\n",
      "(7, 14)\n",
      "(7, 14)\n",
      "(7, 14)\n",
      "(7, 14)\n",
      "(7, 14)\n",
      "(7, 14)\n",
      "(7, 14)\n",
      "(7, 14)\n",
      "(7, 14)\n",
      "(7, 14)\n",
      "(7, 14)\n",
      "(7, 14)\n",
      "(7, 14)\n",
      "(7, 14)\n",
      "(7, 14)\n",
      "(7, 14)\n",
      "(7, 14)\n",
      "(7, 14)\n",
      "(7, 14)\n",
      "(7, 14)\n",
      "(7, 14)\n",
      "(7, 14)\n",
      "(7, 14)\n",
      "(7, 14)\n",
      "(7, 14)\n",
      "(7, 14)\n",
      "(7, 14)\n",
      "(7, 14)\n",
      "(7, 14)\n",
      "(7, 14)\n",
      "(7, 14)\n",
      "(7, 14)\n",
      "(7, 14)\n",
      "(7, 14)\n",
      "(7, 14)\n",
      "(7, 14)\n",
      "(7, 14)\n",
      "(7, 14)\n",
      "(7, 14)\n",
      "(7, 14)\n",
      "(7, 14)\n",
      "(7, 14)\n",
      "(7, 14)\n",
      "(7, 14)\n",
      "(7, 14)\n",
      "(7, 14)\n",
      "(7, 14)\n",
      "(7, 14)\n",
      "(7, 14)\n",
      "(7, 14)\n",
      "(7, 14)\n",
      "(7, 14)\n",
      "(7, 14)\n",
      "(7, 14)\n",
      "(7, 14)\n",
      "(7, 14)\n",
      "(7, 14)\n",
      "(7, 14)\n",
      "(7, 14)\n",
      "(7, 14)\n",
      "(7, 14)\n",
      "(7, 14)\n",
      "(7, 14)\n",
      "(7, 14)\n",
      "(7, 14)\n",
      "(7, 14)\n",
      "(7, 14)\n",
      "(7, 14)\n",
      "(7, 14)\n",
      "(7, 14)\n",
      "(7, 14)\n",
      "(7, 14)\n",
      "(7, 14)\n",
      "(7, 14)\n",
      "(7, 14)\n",
      "(7, 14)\n",
      "(7, 14)\n",
      "(7, 14)\n",
      "(7, 14)\n",
      "(7, 14)\n",
      "(7, 14)\n",
      "(7, 14)\n",
      "(7, 14)\n",
      "(7, 14)\n",
      "(7, 14)\n",
      "(7, 14)\n",
      "(7, 14)\n",
      "(7, 14)\n",
      "(7, 14)\n",
      "(7, 14)\n",
      "(7, 14)\n",
      "(7, 14)\n",
      "(7, 14)\n",
      "(7, 14)\n",
      "(7, 14)\n",
      "(7, 14)\n",
      "(7, 14)\n",
      "(7, 14)\n",
      "(7, 14)\n",
      "(7, 14)\n",
      "(7, 14)\n",
      "(7, 14)\n",
      "(7, 14)\n",
      "(7, 14)\n",
      "(7, 14)\n",
      "(7, 14)\n",
      "(7, 14)\n",
      "(7, 14)\n",
      "(7, 14)\n",
      "(7, 14)\n",
      "(7, 14)\n",
      "(7, 14)\n",
      "(7, 14)\n",
      "(7, 14)\n",
      "(7, 14)\n",
      "(7, 14)\n",
      "(7, 14)\n",
      "(7, 14)\n",
      "(7, 14)\n",
      "(7, 14)\n",
      "(7, 14)\n",
      "(7, 14)\n",
      "(7, 14)\n",
      "(7, 14)\n",
      "(7, 14)\n",
      "(7, 14)\n",
      "(7, 14)\n",
      "(7, 14)\n",
      "(7, 14)\n",
      "(7, 14)\n",
      "(7, 14)\n",
      "(7, 14)\n",
      "(7, 14)\n",
      "(7, 14)\n",
      "(7, 14)\n",
      "(7, 14)\n",
      "(7, 14)\n",
      "(7, 14)\n",
      "(7, 14)\n",
      "(7, 14)\n",
      "(7, 14)\n",
      "(7, 14)\n",
      "(7, 14)\n",
      "(7, 14)\n",
      "(7, 14)\n",
      "(7, 14)\n",
      "(7, 14)\n",
      "(7, 14)\n",
      "(7, 14)\n",
      "(7, 14)\n",
      "(7, 14)\n",
      "(7, 14)\n",
      "(7, 14)\n",
      "(7, 14)\n",
      "(7, 14)\n",
      "(7, 14)\n",
      "(7, 14)\n",
      "(7, 14)\n",
      "(7, 14)\n",
      "(7, 14)\n",
      "(7, 14)\n",
      "(7, 14)\n",
      "(7, 14)\n",
      "(7, 14)\n",
      "(7, 14)\n",
      "(7, 14)\n",
      "(7, 14)\n",
      "(7, 14)\n",
      "(7, 14)\n",
      "(7, 14)\n",
      "(7, 14)\n",
      "(7, 14)\n",
      "(7, 14)\n",
      "(7, 14)\n",
      "(7, 14)\n",
      "(7, 14)\n",
      "(7, 14)\n",
      "(7, 14)\n",
      "(7, 14)\n",
      "(7, 14)\n",
      "(7, 14)\n",
      "(7, 14)\n",
      "(7, 14)\n",
      "(7, 14)\n",
      "(7, 14)\n",
      "(7, 14)\n",
      "(7, 14)\n",
      "(7, 14)\n",
      "(7, 14)\n",
      "(7, 14)\n",
      "(7, 14)\n",
      "(7, 14)\n",
      "(7, 14)\n",
      "(7, 14)\n",
      "(7, 14)\n",
      "(7, 14)\n",
      "(7, 14)\n",
      "(7, 14)\n",
      "(7, 14)\n",
      "(7, 14)\n",
      "(7, 14)\n",
      "(7, 14)\n",
      "(7, 14)\n",
      "(7, 14)\n",
      "(7, 14)\n",
      "(7, 14)\n",
      "(7, 14)\n",
      "(7, 14)\n",
      "(7, 14)\n",
      "(7, 14)\n",
      "(7, 14)\n",
      "(7, 14)\n",
      "(7, 14)\n",
      "(7, 14)\n",
      "(7, 14)\n",
      "(7, 14)\n",
      "(7, 14)\n",
      "(7, 14)\n",
      "(7, 14)\n",
      "(7, 14)\n",
      "(7, 14)\n",
      "(7, 14)\n",
      "(7, 14)\n",
      "(7, 14)\n",
      "(7, 14)\n",
      "(7, 14)\n",
      "(7, 14)\n",
      "(7, 14)\n",
      "(7, 14)\n",
      "(7, 14)\n",
      "(7, 14)\n",
      "(7, 14)\n",
      "(7, 14)\n",
      "(7, 14)\n",
      "(7, 14)\n",
      "(7, 14)\n",
      "(7, 14)\n",
      "(7, 14)\n",
      "(7, 14)\n",
      "(7, 14)\n",
      "(7, 14)\n",
      "(7, 14)\n",
      "(7, 14)\n",
      "(7, 14)\n",
      "(7, 14)\n",
      "(7, 14)\n",
      "(7, 14)\n",
      "(7, 14)\n",
      "(7, 14)\n",
      "(7, 14)\n",
      "(7, 14)\n",
      "(7, 14)\n",
      "(7, 14)\n",
      "(7, 14)\n",
      "(7, 14)\n",
      "(7, 14)\n",
      "(7, 14)\n",
      "(7, 14)\n",
      "(7, 14)\n",
      "(7, 14)\n",
      "(7, 14)\n",
      "(7, 14)\n",
      "(7, 14)\n",
      "(7, 14)\n",
      "(7, 14)\n",
      "(7, 14)\n",
      "(7, 14)\n",
      "(7, 14)\n",
      "(7, 14)\n",
      "(7, 14)\n",
      "(7, 14)\n",
      "(7, 14)\n",
      "(7, 14)\n",
      "(7, 14)\n",
      "(7, 14)\n",
      "(7, 14)\n",
      "(7, 14)\n",
      "(7, 14)\n",
      "(7, 14)\n",
      "(7, 14)\n",
      "(7, 14)\n",
      "(7, 14)\n",
      "(7, 14)\n",
      "(7, 14)\n",
      "(7, 14)\n",
      "(7, 14)\n"
     ]
    },
    {
     "name": "stdout",
     "output_type": "stream",
     "text": [
      "(7, 14)\n",
      "(7, 14)\n",
      "(7, 14)\n",
      "(7, 14)\n",
      "(7, 14)\n",
      "(7, 14)\n",
      "(7, 14)\n",
      "(7, 14)\n",
      "(7, 14)\n",
      "(7, 14)\n",
      "(7, 14)\n",
      "(7, 14)\n",
      "(7, 14)\n",
      "(7, 14)\n",
      "(7, 14)\n",
      "(7, 14)\n",
      "(7, 14)\n",
      "(7, 14)\n",
      "(7, 14)\n",
      "(7, 14)\n",
      "(7, 14)\n",
      "(7, 14)\n",
      "(7, 14)\n",
      "(7, 14)\n",
      "(7, 14)\n",
      "(7, 14)\n",
      "(7, 14)\n",
      "(7, 14)\n",
      "(7, 14)\n",
      "(7, 14)\n",
      "(7, 14)\n",
      "(7, 14)\n",
      "(7, 14)\n",
      "(7, 14)\n",
      "(7, 14)\n",
      "(7, 14)\n",
      "(7, 14)\n",
      "(7, 14)\n",
      "(7, 14)\n",
      "(7, 14)\n",
      "(7, 14)\n",
      "(7, 14)\n",
      "(7, 14)\n",
      "(7, 14)\n",
      "(7, 14)\n",
      "(7, 14)\n",
      "(7, 14)\n",
      "(7, 14)\n",
      "(7, 14)\n",
      "(7, 14)\n",
      "(7, 14)\n",
      "(7, 14)\n",
      "(7, 14)\n",
      "(7, 14)\n",
      "(7, 14)\n",
      "(7, 14)\n",
      "(7, 14)\n",
      "(7, 14)\n",
      "(7, 14)\n",
      "(7, 14)\n",
      "(7, 14)\n",
      "(7, 14)\n",
      "(7, 14)\n",
      "(7, 14)\n",
      "(7, 14)\n",
      "(7, 14)\n",
      "(7, 14)\n",
      "(7, 14)\n",
      "(7, 14)\n",
      "(7, 14)\n",
      "(7, 14)\n",
      "(7, 14)\n",
      "(7, 14)\n",
      "(7, 14)\n",
      "(7, 14)\n",
      "(7, 14)\n",
      "(7, 14)\n",
      "(7, 14)\n",
      "(7, 14)\n",
      "(7, 14)\n",
      "(7, 14)\n",
      "(7, 14)\n",
      "(7, 14)\n",
      "(7, 14)\n",
      "(7, 14)\n",
      "(7, 14)\n",
      "(7, 14)\n",
      "(7, 14)\n",
      "(7, 14)\n",
      "(7, 14)\n",
      "(7, 14)\n",
      "(7, 14)\n",
      "(7, 14)\n",
      "(7, 14)\n",
      "(7, 14)\n",
      "(7, 14)\n",
      "(7, 14)\n",
      "(7, 14)\n",
      "(7, 14)\n",
      "(7, 14)\n",
      "(7, 14)\n",
      "(7, 14)\n",
      "(7, 14)\n",
      "(7, 14)\n",
      "(7, 14)\n",
      "(7, 14)\n",
      "(7, 14)\n",
      "(7, 14)\n",
      "(7, 14)\n",
      "(7, 14)\n",
      "(7, 14)\n",
      "(7, 14)\n",
      "(7, 14)\n",
      "(7, 14)\n",
      "(7, 14)\n",
      "(7, 14)\n",
      "(7, 14)\n",
      "(7, 14)\n",
      "(7, 14)\n",
      "(7, 14)\n",
      "(7, 14)\n",
      "(7, 14)\n",
      "(7, 14)\n",
      "(7, 14)\n",
      "(7, 14)\n",
      "(7, 14)\n",
      "(7, 14)\n",
      "(7, 14)\n",
      "(7, 14)\n",
      "(7, 14)\n",
      "(7, 14)\n",
      "(7, 14)\n",
      "(7, 14)\n",
      "(7, 14)\n",
      "(7, 14)\n",
      "(7, 14)\n",
      "(7, 14)\n",
      "(7, 14)\n",
      "(7, 14)\n",
      "(7, 14)\n",
      "(7, 14)\n",
      "(7, 14)\n",
      "(7, 14)\n",
      "(7, 14)\n",
      "(7, 14)\n",
      "(7, 14)\n",
      "(7, 14)\n",
      "(7, 14)\n",
      "(7, 14)\n",
      "(7, 14)\n",
      "(7, 14)\n",
      "(7, 14)\n",
      "(7, 14)\n",
      "(7, 14)\n",
      "(7, 14)\n",
      "(7, 14)\n",
      "(7, 14)\n",
      "(7, 14)\n",
      "(7, 14)\n",
      "(7, 14)\n",
      "(7, 14)\n",
      "(7, 14)\n",
      "(7, 14)\n",
      "(7, 14)\n",
      "(7, 14)\n",
      "(7, 14)\n",
      "(7, 14)\n",
      "(7, 14)\n",
      "(7, 14)\n",
      "(7, 14)\n",
      "(7, 14)\n",
      "(7, 14)\n",
      "(7, 14)\n",
      "(7, 14)\n",
      "(7, 14)\n",
      "(7, 14)\n",
      "(7, 14)\n",
      "(7, 14)\n",
      "(7, 14)\n",
      "(7, 14)\n",
      "(7, 14)\n",
      "(7, 14)\n",
      "(7, 14)\n",
      "(7, 14)\n",
      "(7, 14)\n",
      "(7, 14)\n",
      "(7, 14)\n",
      "(7, 14)\n",
      "(7, 14)\n",
      "(7, 14)\n",
      "(7, 14)\n",
      "(7, 14)\n",
      "(7, 14)\n",
      "(7, 14)\n",
      "(7, 14)\n",
      "(7, 14)\n",
      "(7, 14)\n",
      "(7, 14)\n",
      "(7, 14)\n",
      "(7, 14)\n",
      "(7, 14)\n",
      "(7, 14)\n",
      "(7, 14)\n",
      "(7, 14)\n",
      "(7, 14)\n",
      "(7, 14)\n",
      "(7, 14)\n",
      "(7, 14)\n",
      "(7, 14)\n",
      "(7, 14)\n",
      "(7, 14)\n",
      "(7, 14)\n",
      "(7, 14)\n",
      "(7, 14)\n",
      "(7, 14)\n",
      "(7, 14)\n",
      "(7, 14)\n",
      "(7, 14)\n",
      "(7, 14)\n",
      "(7, 14)\n",
      "(7, 14)\n",
      "(7, 14)\n",
      "(7, 14)\n",
      "(7, 14)\n",
      "(7, 14)\n",
      "(7, 14)\n",
      "(7, 14)\n",
      "(7, 14)\n",
      "(7, 14)\n",
      "(7, 14)\n",
      "(7, 14)\n",
      "(7, 14)\n",
      "(7, 14)\n",
      "(7, 14)\n",
      "(7, 14)\n",
      "(7, 14)\n",
      "(7, 14)\n",
      "(7, 14)\n",
      "(7, 14)\n",
      "(7, 14)\n",
      "(7, 14)\n",
      "(7, 14)\n",
      "(7, 14)\n",
      "(7, 14)\n",
      "(7, 14)\n",
      "(7, 14)\n",
      "(7, 14)\n",
      "(7, 14)\n",
      "(7, 14)\n",
      "(7, 14)\n",
      "(7, 14)\n",
      "(7, 14)\n",
      "(7, 14)\n",
      "(7, 14)\n",
      "(7, 14)\n",
      "(7, 14)\n",
      "(7, 14)\n",
      "(7, 14)\n",
      "(7, 14)\n",
      "(7, 14)\n",
      "(7, 14)\n",
      "(7, 14)\n",
      "(7, 14)\n",
      "(7, 14)\n",
      "(7, 14)\n",
      "(7, 14)\n",
      "(7, 14)\n",
      "(7, 14)\n",
      "(7, 14)\n",
      "(7, 14)\n",
      "(7, 14)\n",
      "(7, 14)\n",
      "(7, 14)\n",
      "(7, 14)\n",
      "(7, 14)\n",
      "(7, 14)\n",
      "(7, 14)\n",
      "(7, 14)\n",
      "(7, 14)\n",
      "(7, 14)\n",
      "(7, 14)\n",
      "(7, 14)\n",
      "(7, 14)\n",
      "(7, 14)\n",
      "(7, 14)\n",
      "(7, 14)\n",
      "(7, 14)\n",
      "(7, 14)\n",
      "(7, 14)\n",
      "(7, 14)\n",
      "(7, 14)\n",
      "(7, 14)\n",
      "(7, 14)\n",
      "(7, 14)\n",
      "(7, 14)\n",
      "(7, 14)\n",
      "(7, 14)\n",
      "(7, 14)\n",
      "(7, 14)\n",
      "(7, 14)\n",
      "(7, 14)\n",
      "(7, 14)\n",
      "(7, 14)\n",
      "(7, 14)\n",
      "(7, 14)\n",
      "(7, 14)\n",
      "(7, 14)\n",
      "(7, 14)\n",
      "(7, 14)\n",
      "(7, 14)\n",
      "(7, 14)\n",
      "(7, 14)\n",
      "(7, 14)\n",
      "(7, 14)\n",
      "(7, 14)\n",
      "(7, 14)\n",
      "(7, 14)\n",
      "(7, 14)\n",
      "(7, 14)\n",
      "(7, 14)\n",
      "(7, 14)\n",
      "(7, 14)\n",
      "(7, 14)\n",
      "(7, 14)\n",
      "(7, 14)\n",
      "(7, 14)\n",
      "(7, 14)\n",
      "(7, 14)\n",
      "(7, 14)\n",
      "(7, 14)\n",
      "(7, 14)\n",
      "(7, 14)\n",
      "(7, 14)\n",
      "(7, 14)\n",
      "(7, 14)\n",
      "(7, 14)\n",
      "(7, 14)\n",
      "(7, 14)\n",
      "(7, 14)\n",
      "(7, 14)\n",
      "(7, 14)\n",
      "(7, 14)\n",
      "(7, 14)\n",
      "(7, 14)\n",
      "(7, 14)\n",
      "(7, 14)\n",
      "(7, 14)\n",
      "(7, 14)\n",
      "(7, 14)\n",
      "(7, 14)\n",
      "(7, 14)\n",
      "(7, 14)\n",
      "(7, 14)\n",
      "(7, 14)\n",
      "(7, 14)\n",
      "(7, 14)\n",
      "(7, 14)\n",
      "(7, 14)\n",
      "(7, 14)\n",
      "(7, 14)\n",
      "(7, 14)\n",
      "(7, 14)\n",
      "(7, 14)\n",
      "(7, 14)\n",
      "(7, 14)\n",
      "(7, 14)\n",
      "(7, 14)\n",
      "(7, 14)\n",
      "(7, 14)\n",
      "(7, 14)\n",
      "(7, 14)\n",
      "(7, 14)\n",
      "(7, 14)\n",
      "(7, 14)\n",
      "(7, 14)\n",
      "(7, 14)\n",
      "(7, 14)\n",
      "(7, 14)\n",
      "(7, 14)\n",
      "(7, 14)\n",
      "(7, 14)\n",
      "(7, 14)\n",
      "(7, 14)\n",
      "(7, 14)\n",
      "(7, 14)\n",
      "(7, 14)\n",
      "(7, 14)\n",
      "(7, 14)\n",
      "(7, 14)\n",
      "(7, 14)\n",
      "(7, 14)\n",
      "(7, 14)\n",
      "(7, 14)\n",
      "(7, 14)\n",
      "(7, 14)\n",
      "(7, 14)\n",
      "(7, 14)\n",
      "(7, 14)\n",
      "(7, 14)\n",
      "(7, 14)\n",
      "(7, 14)\n",
      "(7, 14)\n",
      "(7, 14)\n",
      "(7, 14)\n",
      "(7, 14)\n",
      "(7, 14)\n",
      "(7, 14)\n",
      "(7, 14)\n",
      "(7, 14)\n",
      "(7, 14)\n",
      "(7, 14)\n",
      "(7, 14)\n",
      "(7, 14)\n",
      "(7, 14)\n",
      "(7, 14)\n",
      "(7, 14)\n",
      "(7, 14)\n",
      "(7, 14)\n",
      "(7, 14)\n",
      "(7, 14)\n",
      "(7, 14)\n",
      "(7, 14)\n",
      "(7, 14)\n",
      "(7, 14)\n",
      "(7, 14)\n",
      "(7, 14)\n",
      "(7, 14)\n",
      "(7, 14)\n",
      "(7, 14)\n",
      "(7, 14)\n",
      "(7, 14)\n",
      "(7, 14)\n",
      "(7, 14)\n",
      "(7, 14)\n",
      "(7, 14)\n",
      "(7, 14)\n",
      "(7, 14)\n",
      "(7, 14)\n",
      "(7, 14)\n",
      "(7, 14)\n",
      "(7, 14)\n",
      "(7, 14)\n",
      "(7, 14)\n",
      "(7, 14)\n",
      "(7, 14)\n",
      "(7, 14)\n",
      "(7, 14)\n",
      "(7, 14)\n",
      "(7, 14)\n",
      "(7, 14)\n",
      "(7, 14)\n",
      "(7, 14)\n",
      "(7, 14)\n",
      "(7, 14)\n",
      "(7, 14)\n",
      "(7, 14)\n",
      "(7, 14)\n",
      "(7, 14)\n",
      "(7, 14)\n",
      "(7, 14)\n",
      "(7, 14)\n",
      "(7, 14)\n",
      "(7, 14)\n",
      "(7, 14)\n",
      "(7, 14)\n",
      "(7, 14)\n",
      "(7, 14)\n",
      "(7, 14)\n",
      "(7, 14)\n",
      "(7, 14)\n",
      "(7, 14)\n",
      "(7, 14)\n",
      "(7, 14)\n",
      "(7, 14)\n",
      "(7, 14)\n",
      "(7, 14)\n",
      "(7, 14)\n",
      "(7, 14)\n",
      "(7, 14)\n",
      "(7, 14)\n",
      "(7, 14)\n",
      "(7, 14)\n",
      "(7, 14)\n",
      "(7, 14)\n",
      "(7, 14)\n",
      "(7, 14)\n",
      "(7, 14)\n",
      "(7, 14)\n",
      "(7, 14)\n",
      "(7, 14)\n",
      "(7, 14)\n",
      "(7, 14)\n",
      "(7, 14)\n",
      "(7, 14)\n"
     ]
    },
    {
     "ename": "KeyboardInterrupt",
     "evalue": "",
     "output_type": "error",
     "traceback": [
      "\u001b[0;31m---------------------------------------------------------------------------\u001b[0m",
      "\u001b[0;31mKeyboardInterrupt\u001b[0m                         Traceback (most recent call last)",
      "\u001b[0;32m<ipython-input-32-13bd2f4f5ef4>\u001b[0m in \u001b[0;36m<module>\u001b[0;34m()\u001b[0m\n\u001b[1;32m      1\u001b[0m \u001b[0mmu0\u001b[0m \u001b[0;34m=\u001b[0m \u001b[0;36m5\u001b[0m\u001b[0;34m\u001b[0m\u001b[0m\n\u001b[1;32m      2\u001b[0m \u001b[0mrho_mu\u001b[0m \u001b[0;34m=\u001b[0m \u001b[0;36m0.5\u001b[0m\u001b[0;34m\u001b[0m\u001b[0m\n\u001b[0;32m----> 3\u001b[0;31m \u001b[0mx\u001b[0m \u001b[0;34m=\u001b[0m \u001b[0mBarrierPrimalLinConstr\u001b[0m\u001b[0;34m(\u001b[0m\u001b[0mf\u001b[0m\u001b[0;34m,\u001b[0m \u001b[0mgradf\u001b[0m\u001b[0;34m,\u001b[0m \u001b[0mhessf\u001b[0m\u001b[0;34m,\u001b[0m \u001b[0mA_lin\u001b[0m\u001b[0;34m,\u001b[0m \u001b[0mc\u001b[0m\u001b[0;34m,\u001b[0m \u001b[0mx0\u001b[0m\u001b[0;34m,\u001b[0m \u001b[0mmu0\u001b[0m\u001b[0;34m,\u001b[0m \u001b[0mrho_mu\u001b[0m\u001b[0;34m,\u001b[0m \u001b[0mbacktracking\u001b[0m\u001b[0;34m,\u001b[0m \u001b[0melimination_solver\u001b[0m\u001b[0;34m,\u001b[0m \u001b[0mmax_iter\u001b[0m\u001b[0;34m=\u001b[0m\u001b[0;36m100\u001b[0m\u001b[0;34m)\u001b[0m\u001b[0;34m\u001b[0m\u001b[0m\n\u001b[0m\u001b[1;32m      4\u001b[0m \u001b[0mget_ipython\u001b[0m\u001b[0;34m(\u001b[0m\u001b[0;34m)\u001b[0m\u001b[0;34m.\u001b[0m\u001b[0mmagic\u001b[0m\u001b[0;34m(\u001b[0m\u001b[0;34m'timeit BarrierPrimalLinConstr(f, gradf, hessf, A_lin, c, x0, mu0, rho_mu, backtracking, elimination_solver, max_iter=100)'\u001b[0m\u001b[0;34m)\u001b[0m\u001b[0;34m\u001b[0m\u001b[0m\n\u001b[1;32m      5\u001b[0m \u001b[0mget_ipython\u001b[0m\u001b[0;34m(\u001b[0m\u001b[0;34m)\u001b[0m\u001b[0;34m.\u001b[0m\u001b[0mmagic\u001b[0m\u001b[0;34m(\u001b[0m\u001b[0;34m'timeit BarrierPrimalLinConstr(f, gradf, hessf, A_lin, c, x0, mu0, rho_mu, backtracking, simple_solver, max_iter=100)'\u001b[0m\u001b[0;34m)\u001b[0m\u001b[0;34m\u001b[0m\u001b[0m\n",
      "\u001b[0;32m<ipython-input-31-dbdd021a9ec9>\u001b[0m in \u001b[0;36mBarrierPrimalLinConstr\u001b[0;34m(f, gradf, hessf, A, c, x0, mu0, rho_mu, linesearch, linsys_solver, tol, max_iter, disp_conv, **kwargs)\u001b[0m\n\u001b[1;32m      6\u001b[0m     \u001b[0;32mwhile\u001b[0m \u001b[0;32mTrue\u001b[0m\u001b[0;34m:\u001b[0m\u001b[0;34m\u001b[0m\u001b[0m\n\u001b[1;32m      7\u001b[0m         res = NewtonLinConstraintsFeasible(f, gradf, hessf, A, x, linesearch, linsys_solver, (c, mu), \n\u001b[0;32m----> 8\u001b[0;31m                                            disp_conv=disp_conv, max_iter=max_iter, beta1=0.01, rho=0.5)\n\u001b[0m\u001b[1;32m      9\u001b[0m         \u001b[0mx\u001b[0m \u001b[0;34m=\u001b[0m \u001b[0mres\u001b[0m\u001b[0;34m[\u001b[0m\u001b[0;34m\"x\"\u001b[0m\u001b[0;34m]\u001b[0m\u001b[0;34m.\u001b[0m\u001b[0mcopy\u001b[0m\u001b[0;34m(\u001b[0m\u001b[0;34m)\u001b[0m\u001b[0;34m\u001b[0m\u001b[0m\n\u001b[1;32m     10\u001b[0m         \u001b[0;32mif\u001b[0m \u001b[0mn\u001b[0m \u001b[0;34m*\u001b[0m \u001b[0mmu\u001b[0m \u001b[0;34m<\u001b[0m \u001b[0mtol\u001b[0m\u001b[0;34m:\u001b[0m\u001b[0;34m\u001b[0m\u001b[0m\n",
      "\u001b[0;32m<ipython-input-2-5b293a8f561f>\u001b[0m in \u001b[0;36mNewtonLinConstraintsFeasible\u001b[0;34m(f, gradf, hessf, A, x0, line_search, linsys_solver, args, disp, disp_conv, callback, tol, max_iter, **kwargs)\u001b[0m\n\u001b[1;32m     14\u001b[0m                 \u001b[0mprint\u001b[0m\u001b[0;34m(\u001b[0m\u001b[0;34m\"Tolerance achieved! Decrement = {}\"\u001b[0m\u001b[0;34m.\u001b[0m\u001b[0mformat\u001b[0m\u001b[0;34m(\u001b[0m\u001b[0mdecrement\u001b[0m\u001b[0;34m)\u001b[0m\u001b[0;34m)\u001b[0m\u001b[0;34m\u001b[0m\u001b[0m\n\u001b[1;32m     15\u001b[0m             \u001b[0;32mbreak\u001b[0m\u001b[0;34m\u001b[0m\u001b[0m\n\u001b[0;32m---> 16\u001b[0;31m         \u001b[0malpha\u001b[0m \u001b[0;34m=\u001b[0m \u001b[0mline_search\u001b[0m\u001b[0;34m(\u001b[0m\u001b[0mx\u001b[0m\u001b[0;34m,\u001b[0m \u001b[0mdescent_dir\u001b[0m\u001b[0;34m,\u001b[0m \u001b[0mf\u001b[0m\u001b[0;34m,\u001b[0m \u001b[0mgradf\u001b[0m\u001b[0;34m,\u001b[0m \u001b[0margs\u001b[0m\u001b[0;34m,\u001b[0m \u001b[0;34m**\u001b[0m\u001b[0mkwargs\u001b[0m\u001b[0;34m)\u001b[0m\u001b[0;34m\u001b[0m\u001b[0m\n\u001b[0m\u001b[1;32m     17\u001b[0m         \u001b[0;32mif\u001b[0m \u001b[0malpha\u001b[0m \u001b[0;34m<\u001b[0m \u001b[0;36m1e-16\u001b[0m\u001b[0;34m:\u001b[0m\u001b[0;34m\u001b[0m\u001b[0m\n\u001b[1;32m     18\u001b[0m             \u001b[0;32mif\u001b[0m \u001b[0mdisp_conv\u001b[0m\u001b[0;34m:\u001b[0m\u001b[0;34m\u001b[0m\u001b[0m\n",
      "\u001b[0;32m<ipython-input-16-13806a14a6c5>\u001b[0m in \u001b[0;36mbacktracking\u001b[0;34m(x, descent_dir, f, grad_f, args, **kwargs)\u001b[0m\n\u001b[1;32m      3\u001b[0m     \u001b[0mrho\u001b[0m \u001b[0;34m=\u001b[0m \u001b[0mkwargs\u001b[0m\u001b[0;34m[\u001b[0m\u001b[0;34m\"rho\"\u001b[0m\u001b[0;34m]\u001b[0m\u001b[0;34m\u001b[0m\u001b[0m\n\u001b[1;32m      4\u001b[0m     \u001b[0malpha\u001b[0m \u001b[0;34m=\u001b[0m \u001b[0;36m1\u001b[0m\u001b[0;34m\u001b[0m\u001b[0m\n\u001b[0;32m----> 5\u001b[0;31m     \u001b[0;32mwhile\u001b[0m \u001b[0mf\u001b[0m\u001b[0;34m(\u001b[0m\u001b[0mx\u001b[0m \u001b[0;34m+\u001b[0m \u001b[0malpha\u001b[0m \u001b[0;34m*\u001b[0m \u001b[0mdescent_dir\u001b[0m\u001b[0;34m,\u001b[0m \u001b[0;34m*\u001b[0m\u001b[0margs\u001b[0m\u001b[0;34m)\u001b[0m \u001b[0;34m>=\u001b[0m \u001b[0mf\u001b[0m\u001b[0;34m(\u001b[0m\u001b[0mx\u001b[0m\u001b[0;34m,\u001b[0m \u001b[0;34m*\u001b[0m\u001b[0margs\u001b[0m\u001b[0;34m)\u001b[0m \u001b[0;34m+\u001b[0m \u001b[0mbeta1\u001b[0m \u001b[0;34m*\u001b[0m \u001b[0malpha\u001b[0m \u001b[0;34m*\u001b[0m \u001b[0mgrad_f\u001b[0m\u001b[0;34m(\u001b[0m\u001b[0mx\u001b[0m\u001b[0;34m,\u001b[0m \u001b[0;34m*\u001b[0m\u001b[0margs\u001b[0m\u001b[0;34m)\u001b[0m\u001b[0;34m.\u001b[0m\u001b[0mdot\u001b[0m\u001b[0;34m(\u001b[0m\u001b[0mdescent_dir\u001b[0m\u001b[0;34m)\u001b[0m             \u001b[0;32mor\u001b[0m \u001b[0mnp\u001b[0m\u001b[0;34m.\u001b[0m\u001b[0misnan\u001b[0m\u001b[0;34m(\u001b[0m\u001b[0mf\u001b[0m\u001b[0;34m(\u001b[0m\u001b[0mx\u001b[0m \u001b[0;34m+\u001b[0m \u001b[0malpha\u001b[0m \u001b[0;34m*\u001b[0m \u001b[0mdescent_dir\u001b[0m\u001b[0;34m,\u001b[0m \u001b[0;34m*\u001b[0m\u001b[0margs\u001b[0m\u001b[0;34m)\u001b[0m\u001b[0;34m)\u001b[0m\u001b[0;34m:\u001b[0m\u001b[0;34m\u001b[0m\u001b[0m\n\u001b[0m\u001b[1;32m      6\u001b[0m         \u001b[0malpha\u001b[0m \u001b[0;34m*=\u001b[0m \u001b[0mrho\u001b[0m\u001b[0;34m\u001b[0m\u001b[0m\n\u001b[1;32m      7\u001b[0m         \u001b[0;32mif\u001b[0m \u001b[0malpha\u001b[0m \u001b[0;34m<\u001b[0m \u001b[0;36m1e-16\u001b[0m\u001b[0;34m:\u001b[0m\u001b[0;34m\u001b[0m\u001b[0m\n",
      "\u001b[0;32m<ipython-input-29-e3c0222bbd9b>\u001b[0m in \u001b[0;36mgradf\u001b[0;34m(x, c, mu)\u001b[0m\n\u001b[1;32m     10\u001b[0m     \u001b[0mn\u001b[0m \u001b[0;34m=\u001b[0m \u001b[0mc\u001b[0m\u001b[0;34m.\u001b[0m\u001b[0mshape\u001b[0m\u001b[0;34m[\u001b[0m\u001b[0;36m0\u001b[0m\u001b[0;34m]\u001b[0m\u001b[0;34m\u001b[0m\u001b[0m\n\u001b[1;32m     11\u001b[0m     \u001b[0mgrad\u001b[0m\u001b[0;34m[\u001b[0m\u001b[0;34m:\u001b[0m\u001b[0mn\u001b[0m\u001b[0;34m]\u001b[0m \u001b[0;34m=\u001b[0m \u001b[0mc\u001b[0m \u001b[0;34m-\u001b[0m \u001b[0mmu\u001b[0m \u001b[0;34m/\u001b[0m \u001b[0mx\u001b[0m\u001b[0;34m[\u001b[0m\u001b[0;34m:\u001b[0m\u001b[0mn\u001b[0m\u001b[0;34m]\u001b[0m\u001b[0;34m\u001b[0m\u001b[0m\n\u001b[0;32m---> 12\u001b[0;31m     \u001b[0mgrad\u001b[0m\u001b[0;34m[\u001b[0m\u001b[0mn\u001b[0m\u001b[0;34m:\u001b[0m\u001b[0;34m]\u001b[0m \u001b[0;34m=\u001b[0m \u001b[0;34m-\u001b[0m\u001b[0mmu\u001b[0m \u001b[0;34m/\u001b[0m \u001b[0mx\u001b[0m\u001b[0;34m[\u001b[0m\u001b[0mn\u001b[0m\u001b[0;34m:\u001b[0m\u001b[0;34m]\u001b[0m\u001b[0;34m\u001b[0m\u001b[0m\n\u001b[0m\u001b[1;32m     13\u001b[0m     \u001b[0;32mreturn\u001b[0m \u001b[0mgrad\u001b[0m\u001b[0;34m\u001b[0m\u001b[0m\n\u001b[1;32m     14\u001b[0m \u001b[0;34m\u001b[0m\u001b[0m\n",
      "\u001b[0;31mKeyboardInterrupt\u001b[0m: "
     ]
    }
   ],
   "source": [
    "mu0 = 5\n",
    "rho_mu = 0.5\n",
    "x = BarrierPrimalLinConstr(f, gradf, hessf, A_lin, c, x0, mu0, rho_mu, backtracking, elimination_solver, max_iter=100)\n",
    "%timeit BarrierPrimalLinConstr(f, gradf, hessf, A_lin, c, x0, mu0, rho_mu, backtracking, elimination_solver, max_iter=100)\n",
    "%timeit BarrierPrimalLinConstr(f, gradf, hessf, A_lin, c, x0, mu0, rho_mu, backtracking, simple_solver, max_iter=100)\n",
    "print(x[:n])"
   ]
  },
  {
   "cell_type": "markdown",
   "metadata": {
    "slideshow": {
     "slide_type": "slide"
    }
   },
   "source": [
    "### Сравнение времени работы"
   ]
  },
  {
   "cell_type": "code",
   "execution_count": 12,
   "metadata": {
    "slideshow": {
     "slide_type": "slide"
    }
   },
   "outputs": [
    {
     "name": "stdout",
     "output_type": "stream",
     "text": [
      "Current dimension = 3\n"
     ]
    },
    {
     "name": "stderr",
     "output_type": "stream",
     "text": [
      "/home/alex/anaconda2/envs/cvxpy/lib/python3.6/site-packages/ipykernel/__main__.py:6: RuntimeWarning: invalid value encountered in log\n"
     ]
    },
    {
     "name": "stdout",
     "output_type": "stream",
     "text": [
      "Current dimension = 4\n"
     ]
    },
    {
     "name": "stderr",
     "output_type": "stream",
     "text": [
      "/home/alex/anaconda2/envs/cvxpy/lib/python3.6/site-packages/ipykernel/__main__.py:6: RuntimeWarning: invalid value encountered in log\n"
     ]
    },
    {
     "name": "stdout",
     "output_type": "stream",
     "text": [
      "Current dimension = 5\n"
     ]
    },
    {
     "name": "stderr",
     "output_type": "stream",
     "text": [
      "/home/alex/anaconda2/envs/cvxpy/lib/python3.6/site-packages/ipykernel/__main__.py:6: RuntimeWarning: invalid value encountered in log\n"
     ]
    },
    {
     "name": "stdout",
     "output_type": "stream",
     "text": [
      "Current dimension = 6\n"
     ]
    },
    {
     "name": "stderr",
     "output_type": "stream",
     "text": [
      "/home/alex/anaconda2/envs/cvxpy/lib/python3.6/site-packages/ipykernel/__main__.py:6: RuntimeWarning: invalid value encountered in log\n"
     ]
    },
    {
     "name": "stdout",
     "output_type": "stream",
     "text": [
      "Current dimension = 7\n"
     ]
    },
    {
     "name": "stderr",
     "output_type": "stream",
     "text": [
      "/home/alex/anaconda2/envs/cvxpy/lib/python3.6/site-packages/ipykernel/__main__.py:6: RuntimeWarning: invalid value encountered in log\n"
     ]
    },
    {
     "name": "stdout",
     "output_type": "stream",
     "text": [
      "Current dimension = 8\n"
     ]
    },
    {
     "name": "stderr",
     "output_type": "stream",
     "text": [
      "/home/alex/anaconda2/envs/cvxpy/lib/python3.6/site-packages/ipykernel/__main__.py:6: RuntimeWarning: invalid value encountered in log\n"
     ]
    },
    {
     "name": "stdout",
     "output_type": "stream",
     "text": [
      "Current dimension = 9\n"
     ]
    },
    {
     "name": "stderr",
     "output_type": "stream",
     "text": [
      "/home/alex/anaconda2/envs/cvxpy/lib/python3.6/site-packages/ipykernel/__main__.py:6: RuntimeWarning: invalid value encountered in log\n"
     ]
    },
    {
     "name": "stdout",
     "output_type": "stream",
     "text": [
      "Current dimension = 10\n"
     ]
    },
    {
     "name": "stderr",
     "output_type": "stream",
     "text": [
      "/home/alex/anaconda2/envs/cvxpy/lib/python3.6/site-packages/ipykernel/__main__.py:6: RuntimeWarning: invalid value encountered in log\n"
     ]
    },
    {
     "name": "stdout",
     "output_type": "stream",
     "text": [
      "Current dimension = 11\n"
     ]
    },
    {
     "name": "stderr",
     "output_type": "stream",
     "text": [
      "/home/alex/anaconda2/envs/cvxpy/lib/python3.6/site-packages/ipykernel/__main__.py:6: RuntimeWarning: invalid value encountered in log\n"
     ]
    },
    {
     "name": "stdout",
     "output_type": "stream",
     "text": [
      "Current dimension = 12\n"
     ]
    },
    {
     "name": "stderr",
     "output_type": "stream",
     "text": [
      "/home/alex/anaconda2/envs/cvxpy/lib/python3.6/site-packages/ipykernel/__main__.py:6: RuntimeWarning: invalid value encountered in log\n"
     ]
    },
    {
     "name": "stdout",
     "output_type": "stream",
     "text": [
      "Current dimension = 13\n"
     ]
    },
    {
     "name": "stderr",
     "output_type": "stream",
     "text": [
      "/home/alex/anaconda2/envs/cvxpy/lib/python3.6/site-packages/ipykernel/__main__.py:6: RuntimeWarning: invalid value encountered in log\n"
     ]
    },
    {
     "name": "stdout",
     "output_type": "stream",
     "text": [
      "Current dimension = 14\n"
     ]
    },
    {
     "name": "stderr",
     "output_type": "stream",
     "text": [
      "/home/alex/anaconda2/envs/cvxpy/lib/python3.6/site-packages/ipykernel/__main__.py:6: RuntimeWarning: invalid value encountered in log\n"
     ]
    },
    {
     "name": "stdout",
     "output_type": "stream",
     "text": [
      "Current dimension = 15\n"
     ]
    },
    {
     "name": "stderr",
     "output_type": "stream",
     "text": [
      "/home/alex/anaconda2/envs/cvxpy/lib/python3.6/site-packages/ipykernel/__main__.py:6: RuntimeWarning: invalid value encountered in log\n"
     ]
    }
   ],
   "source": [
    "mu0 = 2\n",
    "rho_mu = 0.5\n",
    "n_list = range(3, 16)\n",
    "n_iters = np.zeros(len(n_list))\n",
    "times_simplex = np.zeros(len(n_list))\n",
    "times_barrier_simple = np.zeros(len(n_list))\n",
    "for i, n in enumerate(n_list):\n",
    "    print(\"Current dimension = {}\".format(n))\n",
    "    c, A, b, bounds = generate_KleeMinty_test_problem(n)\n",
    "    res = scopt.linprog(c, A, b, bounds=bounds, options={\"maxiter\": 2**max(n_list)})\n",
    "    time = %timeit -o -q scopt.linprog(c, A, b, bounds=bounds, options={\"maxiter\": 2**max(n_list) + 1})\n",
    "    times_simplex[i] = time.best\n",
    "    A_lin = np.zeros((n, n + A.shape[0]))\n",
    "    A_lin[:n, :n] = A\n",
    "    A_lin[:n, n:n + A.shape[0]] = np.eye(A.shape[0])\n",
    "    x0 = np.zeros(2*n)\n",
    "    x0[:n] = np.random.rand(n)\n",
    "    x0[n:2*n] = b - A.dot(x0[:n])\n",
    "    time = %timeit -o -q BarrierPrimalLinConstr(f, gradf, hessf, A_lin, c, x0, mu0, rho_mu, backtracking, simple_solver)\n",
    "    times_barrier_simple[i] = time.best"
   ]
  },
  {
   "cell_type": "code",
   "execution_count": 13,
   "metadata": {
    "slideshow": {
     "slide_type": "slide"
    }
   },
   "outputs": [
    {
     "data": {
      "image/png": "[encoded data removed]",
      "text/plain": [
       "<matplotlib.figure.Figure at 0x7f352a5a5898>"
      ]
     },
     "metadata": {},
     "output_type": "display_data"
    }
   ],
   "source": [
    "plt.figure(figsize=(8, 5))\n",
    "plt.semilogy(n_list, times_simplex, label=\"Simplex\")\n",
    "plt.semilogy(n_list, times_barrier_simple, label=\"Primal barrier\")\n",
    "plt.legend(fontsize=18)\n",
    "plt.xlabel(\"Dimension, $n$\", fontsize=18)\n",
    "plt.ylabel(\"Computation time, sec.\", fontsize=18)\n",
    "plt.xticks(fontsize=18)\n",
    "_ = plt.yticks(fontsize=18)"
   ]
  },
  {
   "cell_type": "markdown",
   "metadata": {
    "slideshow": {
     "slide_type": "slide"
    }
   },
   "source": [
    "### Комментарии\n",
    "\n",
    "- Было показано, что прямой метод эквивалентен методу Кармаркара\n",
    "- Использует информацию только о прямой задаче\n",
    "- Начальное приближение должно лежать в допустимом множестве - отдельная задача"
   ]
  },
  {
   "cell_type": "markdown",
   "metadata": {
    "slideshow": {
     "slide_type": "slide"
    }
   },
   "source": [
    "### Сравнение способов решения линейной системы в методе Ньютона\n",
    "\n",
    "- Явно сформированная матрица\n",
    "- Использование блочной структуры и последовательное исключение переменных"
   ]
  },
  {
   "cell_type": "code",
   "execution_count": 12,
   "metadata": {
    "collapsed": true,
    "slideshow": {
     "slide_type": "slide"
    }
   },
   "outputs": [],
   "source": [
    "def generate_linprog_problem(n, m=10):\n",
    "    x = np.random.rand(n)\n",
    "    A = np.random.randn(m, n)\n",
    "    b = A.dot(x)\n",
    "    c = np.random.randn(n)\n",
    "    c[c < 0] = 1\n",
    "    return c, A, b, x"
   ]
  },
  {
   "cell_type": "code",
   "execution_count": 24,
   "metadata": {},
   "outputs": [
    {
     "name": "stdout",
     "output_type": "stream",
     "text": [
      "0.0\n"
     ]
    }
   ],
   "source": [
    "n = 20\n",
    "c, A, b, x0 = generate_linprog_problem(n)\n",
    "res = scopt.linprog(c, A_eq=A, b_eq=b, bounds=[(0, None) for i in range(n)])\n",
    "m = A.shape[0]\n",
    "# x0 = np.random.rand(n)\n",
    "# resid = b - A[:, m:].dot(x0[m:])\n",
    "# x0[:m] = np.linalg.solve(A[:m, :m], resid)\n",
    "print(np.linalg.norm(A.dot(x0) - b))\n",
    "mu0 = 1\n",
    "rho_mu = 0.5"
   ]
  },
  {
   "cell_type": "code",
   "execution_count": 25,
   "metadata": {
    "slideshow": {
     "slide_type": "slide"
    }
   },
   "outputs": [
    {
     "name": "stdout",
     "output_type": "stream",
     "text": [
      "3.07645865244e-08\n",
      "1.23572746966e-07\n",
      "6.41942482994\n",
      "6.41942476405\n"
     ]
    },
    {
     "name": "stderr",
     "output_type": "stream",
     "text": [
      "/home/alex/anaconda2/envs/cvxpy/lib/python3.6/site-packages/ipykernel/__main__.py:6: RuntimeWarning: invalid value encountered in log\n"
     ]
    }
   ],
   "source": [
    "x_bar_simple = BarrierPrimalLinConstr(f, gradf, hessf, A, c, x0, mu0, rho_mu, backtracking, \n",
    "                                      simple_solver, max_iter=100, tol=1e-8)\n",
    "x_bar_elim = BarrierPrimalLinConstr(f, gradf, hessf, A, c, x0, mu0, rho_mu, backtracking, \n",
    "                                    elimination_solver, tol=1e-8)\n",
    "print(np.linalg.norm(res[\"x\"] - x_bar_simple))\n",
    "print(np.linalg.norm(res[\"x\"] - x_bar_elim))\n",
    "print(c.dot(res[\"x\"]))\n",
    "print(c.dot(x_bar_elim))"
   ]
  },
  {
   "cell_type": "code",
   "execution_count": 26,
   "metadata": {
    "slideshow": {
     "slide_type": "slide"
    }
   },
   "outputs": [
    {
     "name": "stdout",
     "output_type": "stream",
     "text": [
      "Current dimension = 20\n"
     ]
    },
    {
     "name": "stderr",
     "output_type": "stream",
     "text": [
      "/home/alex/anaconda2/envs/cvxpy/lib/python3.6/site-packages/ipykernel/__main__.py:6: RuntimeWarning: invalid value encountered in log\n"
     ]
    },
    {
     "name": "stdout",
     "output_type": "stream",
     "text": [
      "17 ms ± 1.36 ms per loop (mean ± std. dev. of 7 runs, 100 loops each)\n"
     ]
    },
    {
     "name": "stderr",
     "output_type": "stream",
     "text": [
      "/home/alex/anaconda2/envs/cvxpy/lib/python3.6/site-packages/ipykernel/__main__.py:6: RuntimeWarning: invalid value encountered in log\n"
     ]
    },
    {
     "name": "stdout",
     "output_type": "stream",
     "text": [
      "20.4 ms ± 1.09 ms per loop (mean ± std. dev. of 7 runs, 10 loops each)\n",
      "Current dimension = 120\n"
     ]
    },
    {
     "name": "stderr",
     "output_type": "stream",
     "text": [
      "/home/alex/anaconda2/envs/cvxpy/lib/python3.6/site-packages/ipykernel/__main__.py:6: RuntimeWarning: invalid value encountered in log\n"
     ]
    },
    {
     "name": "stdout",
     "output_type": "stream",
     "text": [
      "53.5 ms ± 9.95 ms per loop (mean ± std. dev. of 7 runs, 1 loop each)\n"
     ]
    },
    {
     "name": "stderr",
     "output_type": "stream",
     "text": [
      "/home/alex/anaconda2/envs/cvxpy/lib/python3.6/site-packages/ipykernel/__main__.py:6: RuntimeWarning: invalid value encountered in log\n"
     ]
    },
    {
     "name": "stdout",
     "output_type": "stream",
     "text": [
      "34.5 ms ± 5.7 ms per loop (mean ± std. dev. of 7 runs, 10 loops each)\n",
      "Current dimension = 220\n"
     ]
    },
    {
     "name": "stderr",
     "output_type": "stream",
     "text": [
      "/home/alex/anaconda2/envs/cvxpy/lib/python3.6/site-packages/ipykernel/__main__.py:6: RuntimeWarning: invalid value encountered in log\n"
     ]
    },
    {
     "name": "stdout",
     "output_type": "stream",
     "text": [
      "105 ms ± 6.22 ms per loop (mean ± std. dev. of 7 runs, 1 loop each)\n"
     ]
    },
    {
     "name": "stderr",
     "output_type": "stream",
     "text": [
      "/home/alex/anaconda2/envs/cvxpy/lib/python3.6/site-packages/ipykernel/__main__.py:6: RuntimeWarning: invalid value encountered in log\n"
     ]
    },
    {
     "name": "stdout",
     "output_type": "stream",
     "text": [
      "56.1 ms ± 9.15 ms per loop (mean ± std. dev. of 7 runs, 10 loops each)\n",
      "Current dimension = 320\n"
     ]
    },
    {
     "name": "stderr",
     "output_type": "stream",
     "text": [
      "/home/alex/anaconda2/envs/cvxpy/lib/python3.6/site-packages/ipykernel/__main__.py:6: RuntimeWarning: invalid value encountered in log\n"
     ]
    },
    {
     "name": "stdout",
     "output_type": "stream",
     "text": [
      "217 ms ± 19.2 ms per loop (mean ± std. dev. of 7 runs, 1 loop each)\n"
     ]
    },
    {
     "name": "stderr",
     "output_type": "stream",
     "text": [
      "/home/alex/anaconda2/envs/cvxpy/lib/python3.6/site-packages/ipykernel/__main__.py:6: RuntimeWarning: invalid value encountered in log\n"
     ]
    },
    {
     "name": "stdout",
     "output_type": "stream",
     "text": [
      "5.19 s ± 110 ms per loop (mean ± std. dev. of 7 runs, 1 loop each)\n",
      "Current dimension = 420\n"
     ]
    },
    {
     "name": "stderr",
     "output_type": "stream",
     "text": [
      "/home/alex/anaconda2/envs/cvxpy/lib/python3.6/site-packages/ipykernel/__main__.py:6: RuntimeWarning: invalid value encountered in log\n"
     ]
    },
    {
     "name": "stdout",
     "output_type": "stream",
     "text": [
      "378 ms ± 15.1 ms per loop (mean ± std. dev. of 7 runs, 1 loop each)\n"
     ]
    },
    {
     "name": "stderr",
     "output_type": "stream",
     "text": [
      "/home/alex/anaconda2/envs/cvxpy/lib/python3.6/site-packages/ipykernel/__main__.py:6: RuntimeWarning: invalid value encountered in log\n"
     ]
    },
    {
     "ename": "KeyboardInterrupt",
     "evalue": "",
     "output_type": "error",
     "traceback": [
      "\u001b[0;31m---------------------------------------------------------------------------\u001b[0m",
      "\u001b[0;31mKeyboardInterrupt\u001b[0m                         Traceback (most recent call last)",
      "\u001b[0;32m<ipython-input-26-3518d033ee16>\u001b[0m in \u001b[0;36m<module>\u001b[0;34m()\u001b[0m\n\u001b[1;32m      9\u001b[0m     \u001b[0mtime\u001b[0m \u001b[0;34m=\u001b[0m \u001b[0mget_ipython\u001b[0m\u001b[0;34m(\u001b[0m\u001b[0;34m)\u001b[0m\u001b[0;34m.\u001b[0m\u001b[0mmagic\u001b[0m\u001b[0;34m(\u001b[0m\u001b[0;34m'timeit -o BarrierPrimalLinConstr(f, gradf, hessf, A, c, x0, mu0, rho_mu, backtracking, simple_solver)'\u001b[0m\u001b[0;34m)\u001b[0m\u001b[0;34m\u001b[0m\u001b[0m\n\u001b[1;32m     10\u001b[0m     \u001b[0mtimes_simple\u001b[0m\u001b[0;34m[\u001b[0m\u001b[0mi\u001b[0m\u001b[0;34m]\u001b[0m \u001b[0;34m=\u001b[0m \u001b[0mtime\u001b[0m\u001b[0;34m.\u001b[0m\u001b[0maverage\u001b[0m\u001b[0;34m\u001b[0m\u001b[0m\n\u001b[0;32m---> 11\u001b[0;31m     \u001b[0mtime\u001b[0m \u001b[0;34m=\u001b[0m \u001b[0mget_ipython\u001b[0m\u001b[0;34m(\u001b[0m\u001b[0;34m)\u001b[0m\u001b[0;34m.\u001b[0m\u001b[0mmagic\u001b[0m\u001b[0;34m(\u001b[0m\u001b[0;34m'timeit -o BarrierPrimalLinConstr(f, gradf, hessf, A, c, x0, mu0, rho_mu, backtracking, elimination_solver)'\u001b[0m\u001b[0;34m)\u001b[0m\u001b[0;34m\u001b[0m\u001b[0m\n\u001b[0m\u001b[1;32m     12\u001b[0m     \u001b[0mtimes_elim\u001b[0m\u001b[0;34m[\u001b[0m\u001b[0mi\u001b[0m\u001b[0;34m]\u001b[0m \u001b[0;34m=\u001b[0m \u001b[0mtime\u001b[0m\u001b[0;34m.\u001b[0m\u001b[0maverage\u001b[0m\u001b[0;34m\u001b[0m\u001b[0m\n",
      "\u001b[0;32m~/anaconda2/envs/cvxpy/lib/python3.6/site-packages/IPython/core/interactiveshell.py\u001b[0m in \u001b[0;36mmagic\u001b[0;34m(self, arg_s)\u001b[0m\n\u001b[1;32m   2144\u001b[0m         \u001b[0mmagic_name\u001b[0m\u001b[0;34m,\u001b[0m \u001b[0m_\u001b[0m\u001b[0;34m,\u001b[0m \u001b[0mmagic_arg_s\u001b[0m \u001b[0;34m=\u001b[0m \u001b[0marg_s\u001b[0m\u001b[0;34m.\u001b[0m\u001b[0mpartition\u001b[0m\u001b[0;34m(\u001b[0m\u001b[0;34m' '\u001b[0m\u001b[0;34m)\u001b[0m\u001b[0;34m\u001b[0m\u001b[0m\n\u001b[1;32m   2145\u001b[0m         \u001b[0mmagic_name\u001b[0m \u001b[0;34m=\u001b[0m \u001b[0mmagic_name\u001b[0m\u001b[0;34m.\u001b[0m\u001b[0mlstrip\u001b[0m\u001b[0;34m(\u001b[0m\u001b[0mprefilter\u001b[0m\u001b[0;34m.\u001b[0m\u001b[0mESC_MAGIC\u001b[0m\u001b[0;34m)\u001b[0m\u001b[0;34m\u001b[0m\u001b[0m\n\u001b[0;32m-> 2146\u001b[0;31m         \u001b[0;32mreturn\u001b[0m \u001b[0mself\u001b[0m\u001b[0;34m.\u001b[0m\u001b[0mrun_line_magic\u001b[0m\u001b[0;34m(\u001b[0m\u001b[0mmagic_name\u001b[0m\u001b[0;34m,\u001b[0m \u001b[0mmagic_arg_s\u001b[0m\u001b[0;34m)\u001b[0m\u001b[0;34m\u001b[0m\u001b[0m\n\u001b[0m\u001b[1;32m   2147\u001b[0m \u001b[0;34m\u001b[0m\u001b[0m\n\u001b[1;32m   2148\u001b[0m     \u001b[0;31m#-------------------------------------------------------------------------\u001b[0m\u001b[0;34m\u001b[0m\u001b[0;34m\u001b[0m\u001b[0m\n",
      "\u001b[0;32m~/anaconda2/envs/cvxpy/lib/python3.6/site-packages/IPython/core/interactiveshell.py\u001b[0m in \u001b[0;36mrun_line_magic\u001b[0;34m(self, magic_name, line)\u001b[0m\n\u001b[1;32m   2065\u001b[0m                 \u001b[0mkwargs\u001b[0m\u001b[0;34m[\u001b[0m\u001b[0;34m'local_ns'\u001b[0m\u001b[0;34m]\u001b[0m \u001b[0;34m=\u001b[0m \u001b[0msys\u001b[0m\u001b[0;34m.\u001b[0m\u001b[0m_getframe\u001b[0m\u001b[0;34m(\u001b[0m\u001b[0mstack_depth\u001b[0m\u001b[0;34m)\u001b[0m\u001b[0;34m.\u001b[0m\u001b[0mf_locals\u001b[0m\u001b[0;34m\u001b[0m\u001b[0m\n\u001b[1;32m   2066\u001b[0m             \u001b[0;32mwith\u001b[0m \u001b[0mself\u001b[0m\u001b[0;34m.\u001b[0m\u001b[0mbuiltin_trap\u001b[0m\u001b[0;34m:\u001b[0m\u001b[0;34m\u001b[0m\u001b[0m\n\u001b[0;32m-> 2067\u001b[0;31m                 \u001b[0mresult\u001b[0m \u001b[0;34m=\u001b[0m \u001b[0mfn\u001b[0m\u001b[0;34m(\u001b[0m\u001b[0;34m*\u001b[0m\u001b[0margs\u001b[0m\u001b[0;34m,\u001b[0m\u001b[0;34m**\u001b[0m\u001b[0mkwargs\u001b[0m\u001b[0;34m)\u001b[0m\u001b[0;34m\u001b[0m\u001b[0m\n\u001b[0m\u001b[1;32m   2068\u001b[0m             \u001b[0;32mreturn\u001b[0m \u001b[0mresult\u001b[0m\u001b[0;34m\u001b[0m\u001b[0m\n\u001b[1;32m   2069\u001b[0m \u001b[0;34m\u001b[0m\u001b[0m\n",
      "\u001b[0;32m<decorator-gen-61>\u001b[0m in \u001b[0;36mtimeit\u001b[0;34m(self, line, cell)\u001b[0m\n",
      "\u001b[0;32m~/anaconda2/envs/cvxpy/lib/python3.6/site-packages/IPython/core/magic.py\u001b[0m in \u001b[0;36m<lambda>\u001b[0;34m(f, *a, **k)\u001b[0m\n\u001b[1;32m    185\u001b[0m     \u001b[0;31m# but it's overkill for just that one bit of state.\u001b[0m\u001b[0;34m\u001b[0m\u001b[0;34m\u001b[0m\u001b[0m\n\u001b[1;32m    186\u001b[0m     \u001b[0;32mdef\u001b[0m \u001b[0mmagic_deco\u001b[0m\u001b[0;34m(\u001b[0m\u001b[0marg\u001b[0m\u001b[0;34m)\u001b[0m\u001b[0;34m:\u001b[0m\u001b[0;34m\u001b[0m\u001b[0m\n\u001b[0;32m--> 187\u001b[0;31m         \u001b[0mcall\u001b[0m \u001b[0;34m=\u001b[0m \u001b[0;32mlambda\u001b[0m \u001b[0mf\u001b[0m\u001b[0;34m,\u001b[0m \u001b[0;34m*\u001b[0m\u001b[0ma\u001b[0m\u001b[0;34m,\u001b[0m \u001b[0;34m**\u001b[0m\u001b[0mk\u001b[0m\u001b[0;34m:\u001b[0m \u001b[0mf\u001b[0m\u001b[0;34m(\u001b[0m\u001b[0;34m*\u001b[0m\u001b[0ma\u001b[0m\u001b[0;34m,\u001b[0m \u001b[0;34m**\u001b[0m\u001b[0mk\u001b[0m\u001b[0;34m)\u001b[0m\u001b[0;34m\u001b[0m\u001b[0m\n\u001b[0m\u001b[1;32m    188\u001b[0m \u001b[0;34m\u001b[0m\u001b[0m\n\u001b[1;32m    189\u001b[0m         \u001b[0;32mif\u001b[0m \u001b[0mcallable\u001b[0m\u001b[0;34m(\u001b[0m\u001b[0marg\u001b[0m\u001b[0;34m)\u001b[0m\u001b[0;34m:\u001b[0m\u001b[0;34m\u001b[0m\u001b[0m\n",
      "\u001b[0;32m~/anaconda2/envs/cvxpy/lib/python3.6/site-packages/IPython/core/magics/execution.py\u001b[0m in \u001b[0;36mtimeit\u001b[0;34m(self, line, cell)\u001b[0m\n\u001b[1;32m   1082\u001b[0m                     \u001b[0;32mbreak\u001b[0m\u001b[0;34m\u001b[0m\u001b[0m\n\u001b[1;32m   1083\u001b[0m \u001b[0;34m\u001b[0m\u001b[0m\n\u001b[0;32m-> 1084\u001b[0;31m         \u001b[0mall_runs\u001b[0m \u001b[0;34m=\u001b[0m \u001b[0mtimer\u001b[0m\u001b[0;34m.\u001b[0m\u001b[0mrepeat\u001b[0m\u001b[0;34m(\u001b[0m\u001b[0mrepeat\u001b[0m\u001b[0;34m,\u001b[0m \u001b[0mnumber\u001b[0m\u001b[0;34m)\u001b[0m\u001b[0;34m\u001b[0m\u001b[0m\n\u001b[0m\u001b[1;32m   1085\u001b[0m         \u001b[0mbest\u001b[0m \u001b[0;34m=\u001b[0m \u001b[0mmin\u001b[0m\u001b[0;34m(\u001b[0m\u001b[0mall_runs\u001b[0m\u001b[0;34m)\u001b[0m \u001b[0;34m/\u001b[0m \u001b[0mnumber\u001b[0m\u001b[0;34m\u001b[0m\u001b[0m\n\u001b[1;32m   1086\u001b[0m         \u001b[0mworst\u001b[0m \u001b[0;34m=\u001b[0m \u001b[0mmax\u001b[0m\u001b[0;34m(\u001b[0m\u001b[0mall_runs\u001b[0m\u001b[0;34m)\u001b[0m \u001b[0;34m/\u001b[0m \u001b[0mnumber\u001b[0m\u001b[0;34m\u001b[0m\u001b[0m\n",
      "\u001b[0;32m~/anaconda2/envs/cvxpy/lib/python3.6/timeit.py\u001b[0m in \u001b[0;36mrepeat\u001b[0;34m(self, repeat, number)\u001b[0m\n\u001b[1;32m    204\u001b[0m         \u001b[0mr\u001b[0m \u001b[0;34m=\u001b[0m \u001b[0;34m[\u001b[0m\u001b[0;34m]\u001b[0m\u001b[0;34m\u001b[0m\u001b[0m\n\u001b[1;32m    205\u001b[0m         \u001b[0;32mfor\u001b[0m \u001b[0mi\u001b[0m \u001b[0;32min\u001b[0m \u001b[0mrange\u001b[0m\u001b[0;34m(\u001b[0m\u001b[0mrepeat\u001b[0m\u001b[0;34m)\u001b[0m\u001b[0;34m:\u001b[0m\u001b[0;34m\u001b[0m\u001b[0m\n\u001b[0;32m--> 206\u001b[0;31m             \u001b[0mt\u001b[0m \u001b[0;34m=\u001b[0m \u001b[0mself\u001b[0m\u001b[0;34m.\u001b[0m\u001b[0mtimeit\u001b[0m\u001b[0;34m(\u001b[0m\u001b[0mnumber\u001b[0m\u001b[0;34m)\u001b[0m\u001b[0;34m\u001b[0m\u001b[0m\n\u001b[0m\u001b[1;32m    207\u001b[0m             \u001b[0mr\u001b[0m\u001b[0;34m.\u001b[0m\u001b[0mappend\u001b[0m\u001b[0;34m(\u001b[0m\u001b[0mt\u001b[0m\u001b[0;34m)\u001b[0m\u001b[0;34m\u001b[0m\u001b[0m\n\u001b[1;32m    208\u001b[0m         \u001b[0;32mreturn\u001b[0m \u001b[0mr\u001b[0m\u001b[0;34m\u001b[0m\u001b[0m\n",
      "\u001b[0;32m~/anaconda2/envs/cvxpy/lib/python3.6/site-packages/IPython/core/magics/execution.py\u001b[0m in \u001b[0;36mtimeit\u001b[0;34m(self, number)\u001b[0m\n\u001b[1;32m    158\u001b[0m         \u001b[0mgc\u001b[0m\u001b[0;34m.\u001b[0m\u001b[0mdisable\u001b[0m\u001b[0;34m(\u001b[0m\u001b[0;34m)\u001b[0m\u001b[0;34m\u001b[0m\u001b[0m\n\u001b[1;32m    159\u001b[0m         \u001b[0;32mtry\u001b[0m\u001b[0;34m:\u001b[0m\u001b[0;34m\u001b[0m\u001b[0m\n\u001b[0;32m--> 160\u001b[0;31m             \u001b[0mtiming\u001b[0m \u001b[0;34m=\u001b[0m \u001b[0mself\u001b[0m\u001b[0;34m.\u001b[0m\u001b[0minner\u001b[0m\u001b[0;34m(\u001b[0m\u001b[0mit\u001b[0m\u001b[0;34m,\u001b[0m \u001b[0mself\u001b[0m\u001b[0;34m.\u001b[0m\u001b[0mtimer\u001b[0m\u001b[0;34m)\u001b[0m\u001b[0;34m\u001b[0m\u001b[0m\n\u001b[0m\u001b[1;32m    161\u001b[0m         \u001b[0;32mfinally\u001b[0m\u001b[0;34m:\u001b[0m\u001b[0;34m\u001b[0m\u001b[0m\n\u001b[1;32m    162\u001b[0m             \u001b[0;32mif\u001b[0m \u001b[0mgcold\u001b[0m\u001b[0;34m:\u001b[0m\u001b[0;34m\u001b[0m\u001b[0m\n",
      "\u001b[0;32m<magic-timeit>\u001b[0m in \u001b[0;36minner\u001b[0;34m(_it, _timer)\u001b[0m\n",
      "\u001b[0;32m<ipython-input-22-dbdd021a9ec9>\u001b[0m in \u001b[0;36mBarrierPrimalLinConstr\u001b[0;34m(f, gradf, hessf, A, c, x0, mu0, rho_mu, linesearch, linsys_solver, tol, max_iter, disp_conv, **kwargs)\u001b[0m\n\u001b[1;32m      6\u001b[0m     \u001b[0;32mwhile\u001b[0m \u001b[0;32mTrue\u001b[0m\u001b[0;34m:\u001b[0m\u001b[0;34m\u001b[0m\u001b[0m\n\u001b[1;32m      7\u001b[0m         res = NewtonLinConstraintsFeasible(f, gradf, hessf, A, x, linesearch, linsys_solver, (c, mu), \n\u001b[0;32m----> 8\u001b[0;31m                                            disp_conv=disp_conv, max_iter=max_iter, beta1=0.01, rho=0.5)\n\u001b[0m\u001b[1;32m      9\u001b[0m         \u001b[0mx\u001b[0m \u001b[0;34m=\u001b[0m \u001b[0mres\u001b[0m\u001b[0;34m[\u001b[0m\u001b[0;34m\"x\"\u001b[0m\u001b[0;34m]\u001b[0m\u001b[0;34m.\u001b[0m\u001b[0mcopy\u001b[0m\u001b[0;34m(\u001b[0m\u001b[0;34m)\u001b[0m\u001b[0;34m\u001b[0m\u001b[0m\n\u001b[1;32m     10\u001b[0m         \u001b[0;32mif\u001b[0m \u001b[0mn\u001b[0m \u001b[0;34m*\u001b[0m \u001b[0mmu\u001b[0m \u001b[0;34m<\u001b[0m \u001b[0mtol\u001b[0m\u001b[0;34m:\u001b[0m\u001b[0;34m\u001b[0m\u001b[0m\n",
      "\u001b[0;32m<ipython-input-2-5b293a8f561f>\u001b[0m in \u001b[0;36mNewtonLinConstraintsFeasible\u001b[0;34m(f, gradf, hessf, A, x0, line_search, linsys_solver, args, disp, disp_conv, callback, tol, max_iter, **kwargs)\u001b[0m\n\u001b[1;32m      6\u001b[0m     \u001b[0mlam\u001b[0m \u001b[0;34m=\u001b[0m \u001b[0mnp\u001b[0m\u001b[0;34m.\u001b[0m\u001b[0mrandom\u001b[0m\u001b[0;34m.\u001b[0m\u001b[0mrandn\u001b[0m\u001b[0;34m(\u001b[0m\u001b[0mA\u001b[0m\u001b[0;34m.\u001b[0m\u001b[0mshape\u001b[0m\u001b[0;34m[\u001b[0m\u001b[0;36m0\u001b[0m\u001b[0;34m]\u001b[0m\u001b[0;34m)\u001b[0m\u001b[0;34m\u001b[0m\u001b[0m\n\u001b[1;32m      7\u001b[0m     \u001b[0;32mwhile\u001b[0m \u001b[0;32mTrue\u001b[0m\u001b[0;34m:\u001b[0m\u001b[0;34m\u001b[0m\u001b[0m\n\u001b[0;32m----> 8\u001b[0;31m         \u001b[0mgradient\u001b[0m\u001b[0;34m,\u001b[0m \u001b[0mhess\u001b[0m \u001b[0;34m=\u001b[0m \u001b[0mgradf\u001b[0m\u001b[0;34m(\u001b[0m\u001b[0mx\u001b[0m\u001b[0;34m,\u001b[0m \u001b[0;34m*\u001b[0m\u001b[0margs\u001b[0m\u001b[0;34m)\u001b[0m\u001b[0;34m,\u001b[0m \u001b[0mhessf\u001b[0m\u001b[0;34m(\u001b[0m\u001b[0mx\u001b[0m\u001b[0;34m,\u001b[0m \u001b[0;34m*\u001b[0m\u001b[0margs\u001b[0m\u001b[0;34m)\u001b[0m\u001b[0;34m\u001b[0m\u001b[0m\n\u001b[0m\u001b[1;32m      9\u001b[0m         \u001b[0mh\u001b[0m \u001b[0;34m=\u001b[0m \u001b[0mlinsys_solver\u001b[0m\u001b[0;34m(\u001b[0m\u001b[0mhess\u001b[0m\u001b[0;34m,\u001b[0m \u001b[0mA\u001b[0m\u001b[0;34m,\u001b[0m \u001b[0mgradient\u001b[0m\u001b[0;34m)\u001b[0m\u001b[0;34m\u001b[0m\u001b[0m\n\u001b[1;32m     10\u001b[0m         \u001b[0mdescent_dir\u001b[0m \u001b[0;34m=\u001b[0m \u001b[0mh\u001b[0m\u001b[0;34m[\u001b[0m\u001b[0;34m:\u001b[0m\u001b[0mn\u001b[0m\u001b[0;34m]\u001b[0m\u001b[0;34m\u001b[0m\u001b[0m\n",
      "\u001b[0;32m<ipython-input-18-e3c0222bbd9b>\u001b[0m in \u001b[0;36mhessf\u001b[0;34m(x, c, mu)\u001b[0m\n\u001b[1;32m     14\u001b[0m \u001b[0;34m\u001b[0m\u001b[0m\n\u001b[1;32m     15\u001b[0m \u001b[0;32mdef\u001b[0m \u001b[0mhessf\u001b[0m\u001b[0;34m(\u001b[0m\u001b[0mx\u001b[0m\u001b[0;34m,\u001b[0m \u001b[0mc\u001b[0m\u001b[0;34m,\u001b[0m \u001b[0mmu\u001b[0m\u001b[0;34m)\u001b[0m\u001b[0;34m:\u001b[0m\u001b[0;34m\u001b[0m\u001b[0m\n\u001b[0;32m---> 16\u001b[0;31m     \u001b[0;32mreturn\u001b[0m \u001b[0mmu\u001b[0m \u001b[0;34m*\u001b[0m \u001b[0mnp\u001b[0m\u001b[0;34m.\u001b[0m\u001b[0mdiag\u001b[0m\u001b[0;34m(\u001b[0m\u001b[0;36m1.\u001b[0m \u001b[0;34m/\u001b[0m \u001b[0mx\u001b[0m\u001b[0;34m**\u001b[0m\u001b[0;36m2\u001b[0m\u001b[0;34m)\u001b[0m\u001b[0;34m\u001b[0m\u001b[0m\n\u001b[0m\u001b[1;32m     17\u001b[0m \u001b[0;34m\u001b[0m\u001b[0m\n\u001b[1;32m     18\u001b[0m \u001b[0mA_lin\u001b[0m \u001b[0;34m=\u001b[0m \u001b[0mnp\u001b[0m\u001b[0;34m.\u001b[0m\u001b[0mzeros\u001b[0m\u001b[0;34m(\u001b[0m\u001b[0;34m(\u001b[0m\u001b[0mn\u001b[0m\u001b[0;34m,\u001b[0m \u001b[0mn\u001b[0m \u001b[0;34m+\u001b[0m \u001b[0mA\u001b[0m\u001b[0;34m.\u001b[0m\u001b[0mshape\u001b[0m\u001b[0;34m[\u001b[0m\u001b[0;36m0\u001b[0m\u001b[0;34m]\u001b[0m\u001b[0;34m)\u001b[0m\u001b[0;34m)\u001b[0m\u001b[0;34m\u001b[0m\u001b[0m\n",
      "\u001b[0;31mKeyboardInterrupt\u001b[0m: "
     ]
    }
   ],
   "source": [
    "n_list = [10*i for i in range(2, 103, 10)]\n",
    "times_simple = np.zeros(len(n_list))\n",
    "times_elim = np.zeros(len(n_list))\n",
    "mu0 = 5\n",
    "rho_mu = 0.5\n",
    "for i, n in enumerate(n_list):\n",
    "    print(\"Current dimension = {}\".format(n))\n",
    "    c, A, b, x0 = generate_linprog_problem(n)\n",
    "    time = %timeit -o BarrierPrimalLinConstr(f, gradf, hessf, A, c, x0, mu0, rho_mu, backtracking, simple_solver)\n",
    "    times_simple[i] = time.average\n",
    "    time = %timeit -o BarrierPrimalLinConstr(f, gradf, hessf, A, c, x0, mu0, rho_mu, backtracking, elimination_solver)\n",
    "    times_elim[i] = time.average"
   ]
  },
  {
   "cell_type": "code",
   "execution_count": 27,
   "metadata": {
    "slideshow": {
     "slide_type": "slide"
    }
   },
   "outputs": [
    {
     "data": {
      "image/png": "[encoded data removed]",
      "text/plain": [
       "<matplotlib.figure.Figure at 0x7f3a21735d68>"
      ]
     },
     "metadata": {},
     "output_type": "display_data"
    }
   ],
   "source": [
    "plt.semilogy(n_list, times_elim, label=\"Elimination solver\")\n",
    "plt.semilogy(n_list, times_simple, label=\"Simple solver\")\n",
    "# plt.semilogy(n_list, 10**(-6)*np.array(n_list)**3 / 3)\n",
    "plt.legend(fontsize=18)\n",
    "plt.xlabel(\"Dimension, $n$\", fontsize=18)\n",
    "plt.ylabel(\"Computation time, sec.\", fontsize=18)\n",
    "plt.xticks(fontsize=18)\n",
    "_ = plt.yticks(fontsize=18)"
   ]
  },
  {
   "cell_type": "code",
   "execution_count": null,
   "metadata": {
    "collapsed": true
   },
   "outputs": [],
   "source": []
  },
  {
   "cell_type": "markdown",
   "metadata": {
    "collapsed": true,
    "slideshow": {
     "slide_type": "slide"
    }
   },
   "source": [
    "## Резюме \n",
    "\n",
    "1. История развития теории линейного программирования и текущее состояние\n",
    "2. Концепция методов внутренней точки\n",
    "3. Прямой метод решения задачи линейного программирования"
   ]
  }
 ],
 "metadata": {
  "celltoolbar": "Slideshow",
  "kernelspec": {
   "display_name": "Python [conda env:cvxpy]",
   "language": "python",
   "name": "conda-env-cvxpy-py"
  },
  "language_info": {
   "codemirror_mode": {
    "name": "ipython",
    "version": 3
   },
   "file_extension": ".py",
   "mimetype": "text/x-python",
   "name": "python",
   "nbconvert_exporter": "python",
   "pygments_lexer": "ipython3",
   "version": "3.6.3"
  }
 },
 "nbformat": 4,
 "nbformat_minor": 2
}
