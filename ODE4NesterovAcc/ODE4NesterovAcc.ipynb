{
 "cells": [
  {
   "cell_type": "markdown",
   "metadata": {
    "slideshow": {
     "slide_type": "slide"
    }
   },
   "source": [
    "# Моделирование ускорения Нестерова с помощью обыкновенных дифференциальных уравнений\n",
    "\n",
    "По материалам статьи [[W.Su, S. Boyd, E.Candes 2015]](https://arxiv.org/pdf/1503.01243.pdf)"
   ]
  },
  {
   "cell_type": "markdown",
   "metadata": {
    "slideshow": {
     "slide_type": "slide"
    }
   },
   "source": [
    "## Постановка задачи\n",
    "\n",
    "$$\n",
    "\\min_{x \\in \\mathbb{R}^n} f(x)\n",
    "$$\n",
    "- $f$ - непрерывная и дифференцируемая\n",
    "- ограничений на $x$ нет\n",
    "- для решения задачи можно использовать только значение функции и её градиент"
   ]
  },
  {
   "cell_type": "markdown",
   "metadata": {
    "slideshow": {
     "slide_type": "slide"
    }
   },
   "source": [
    "## И снова градиентный спуск...\n",
    "\n",
    "$$\n",
    "x_{k+1} = x_{k} - \\alpha f'(x_k)\n",
    "$$\n",
    "\n",
    "**Теорема.** \n",
    "\n",
    "Пусть \n",
    "\n",
    "- $f(x)$ дифференцируема на $\\mathbb{R}^n$, \n",
    "- градиент $f(x)$ удовлетворяет условию Липшица с константой $L$\n",
    "- $f(x)$ ограничена снизу\n",
    "- $\\alpha = const$ и $0 < \\alpha < \\frac{2}{L}$\n",
    "\n",
    "Тогда для градиентного метода выполнено:\n",
    "$$\n",
    "\\lim\\limits_{k \\to \\infty} f'(x_k) = 0,\n",
    "$$\n",
    "а функция монотонно убывает $f(x_{k+1}) < f(x_k)$."
   ]
  },
  {
   "cell_type": "markdown",
   "metadata": {
    "collapsed": true,
    "slideshow": {
     "slide_type": "slide"
    }
   },
   "source": [
    "## Интерпретация градиентного спуска \n",
    "\n",
    "Рассмотрим обыкновенное диференциальное уравнение вида:\n",
    "$$\n",
    "\\frac{dx}{dt} = -f'(x(t)) \\quad x(0) = x_0\n",
    "$$\n",
    "и дискретизуем его на равномерной сетке с шагом $\\alpha$:\n",
    "$$\n",
    "\\frac{x_{k+1} - x_k}{\\alpha} = -f'(x_k),\n",
    "$$\n",
    "где $x_k \\equiv x(t_k)$ и $\\alpha = t_{k+1} - t_k$ - шаг сетки.\n",
    "\n",
    "Отсюда получаем выражение для $x_{k+1}$\n",
    "$$\n",
    "x_{k+1} = x_k - \\alpha f'(x_k),\n",
    "$$\n",
    "которое в точности совпадает с выраением для градиентного спуска.\n",
    "\n",
    "Такая схема называется явной или прямой схемой Эйлера.\n",
    "\n",
    "**Вопрос:** какая схема называется неявной или обратной?"
   ]
  },
  {
   "cell_type": "code",
   "execution_count": 81,
   "metadata": {
    "slideshow": {
     "slide_type": "slide"
    }
   },
   "outputs": [],
   "source": [
    "import numpy as np\n",
    "\n",
    "alpha = 10\n",
    "def gradf(t):\n",
    "    return alpha*t\n",
    "\n",
    "x0 = 1\n",
    "a = 0\n",
    "b = 1\n",
    "h = 1e-2\n",
    "N = int((b - a) / h)\n",
    "x = [x0]\n",
    "for i in xrange(N):\n",
    "    x.append(x[i] - h * gradf(x[i]))"
   ]
  },
  {
   "cell_type": "code",
   "execution_count": 82,
   "metadata": {
    "slideshow": {
     "slide_type": "slide"
    }
   },
   "outputs": [
    {
     "data": {
      "text/plain": [
       "<matplotlib.legend.Legend at 0x7ff652351d50>"
      ]
     },
     "execution_count": 82,
     "metadata": {},
     "output_type": "execute_result"
    },
    {
     "data": {
      "image/png": "[encoded data removed]",
      "text/plain": [
       "<matplotlib.figure.Figure at 0x7ff652613d50>"
      ]
     },
     "metadata": {},
     "output_type": "display_data"
    }
   ],
   "source": [
    "%matplotlib inline\n",
    "import matplotlib.pyplot as plt\n",
    "t = np.linspace(a, b, N+1, endpoint=True)\n",
    "plt.plot(t, x, label=\"Numerical\")\n",
    "plt.plot(t, x0 * np.exp(-alpha*t), label=\"Analytical\")\n",
    "plt.legend()"
   ]
  },
  {
   "cell_type": "markdown",
   "metadata": {
    "slideshow": {
     "slide_type": "slide"
    }
   },
   "source": [
    "## Концепция нижних оценок скоростей сходимости"
   ]
  },
  {
   "cell_type": "markdown",
   "metadata": {
    "slideshow": {
     "slide_type": "slide"
    }
   },
   "source": [
    "## Нижняя оценка скорости сходимости\n",
    "\n"
   ]
  },
  {
   "cell_type": "markdown",
   "metadata": {
    "slideshow": {
     "slide_type": "slide"
    }
   },
   "source": [
    "## Оценка сходимости для градиентного спуска\n",
    "\n"
   ]
  },
  {
   "cell_type": "markdown",
   "metadata": {
    "slideshow": {
     "slide_type": "slide"
    }
   },
   "source": [
    "## Оптимальный метод Нестерова\n",
    "\n",
    "- $x_0 = y_0$\n",
    "- $s \\leq \\frac{1}{L}$, где $L$ константа Липшица для градиента\n",
    "- \n",
    "\\begin{equation*}\n",
    "\\begin{split}\n",
    "& x_k = y_{k-1} - sf'(y_{k-1})\\\\\n",
    "& y_k = x_k + \\frac{k-1}{k+2}(x_k - x_{k-1})\n",
    "\\end{split}\n",
    "\\end{equation*}\n",
    "\n",
    "- Сходимость\n",
    "$$\n",
    "f(x_k) - f^* \\leq O\\left(\\frac{\\| x_k - x_0\\|^2}{sk^2}\\right)\n",
    "$$"
   ]
  },
  {
   "cell_type": "markdown",
   "metadata": {
    "slideshow": {
     "slide_type": "slide"
    }
   },
   "source": [
    "## Интерпретация метода Нестерова\n",
    "\n",
    "- Если градиентному спуску можно поставить в соответствие ОДУ, то какое ОДУ можно поставить в соответствие методу Нестерова?\n",
    "- Вот такое\n",
    "$$\n",
    "\\ddot{x} + \\frac{3}{t}\\dot{x} + f'(x) = 0, \\quad x(0) = x_0 \\quad \\dot{x}(0) = 0\n",
    "$$"
   ]
  },
  {
   "cell_type": "markdown",
   "metadata": {
    "slideshow": {
     "slide_type": "slide"
    }
   },
   "source": [
    "Доказательство на доске"
   ]
  },
  {
   "cell_type": "markdown",
   "metadata": {
    "slideshow": {
     "slide_type": "slide"
    }
   },
   "source": [
    "## Сходимость траектории к точке минимума $f$\n",
    "\n",
    "**Теорема.**\n",
    "\n",
    "Пусть $X(t)$ единственное глобальное pешение ОДУ для любой выпуклой функции $f$, у градиента которой может быть бесконечная константа Липшица.\n",
    "Тогда для $t > 0$\n",
    "$$\n",
    "f(X(t)) − f^* \\leq \\frac{\\| x^* - x_0\\|^2}{t^2}\n",
    "$$"
   ]
  },
  {
   "cell_type": "markdown",
   "metadata": {
    "slideshow": {
     "slide_type": "slide"
    }
   },
   "source": [
    "Доказательство на доске"
   ]
  },
  {
   "cell_type": "markdown",
   "metadata": {
    "slideshow": {
     "slide_type": "slide"
    }
   },
   "source": [
    "## Влияние \"трения\" - $\\frac{3}{t}\\dot{x}$\n",
    "\n",
    "- Метод Нестерова сходится немонотонно к решению из-за наличия \"момента импульса\"\n",
    "- Для небольших $t$ множитель $\\frac{3}{t}$ велик - предотвращение осцилляций\n",
    "- Для больших $t$ множитель $\\frac{3}{t}$ мал - система сильнее подверждена осцилляциям"
   ]
  },
  {
   "cell_type": "markdown",
   "metadata": {
    "slideshow": {
     "slide_type": "slide"
    }
   },
   "source": [
    "### Пример"
   ]
  },
  {
   "cell_type": "code",
   "execution_count": null,
   "metadata": {
    "collapsed": true,
    "slideshow": {
     "slide_type": "slide"
    }
   },
   "outputs": [],
   "source": []
  }
 ],
 "metadata": {
  "celltoolbar": "Slideshow",
  "kernelspec": {
   "display_name": "Python [conda env:cvxpy]",
   "language": "python",
   "name": "conda-env-cvxpy-py"
  },
  "language_info": {
   "codemirror_mode": {
    "name": "ipython",
    "version": 2
   },
   "file_extension": ".py",
   "mimetype": "text/x-python",
   "name": "python",
   "nbconvert_exporter": "python",
   "pygments_lexer": "ipython2",
   "version": "2.7.13"
  }
 },
 "nbformat": 4,
 "nbformat_minor": 2
}
